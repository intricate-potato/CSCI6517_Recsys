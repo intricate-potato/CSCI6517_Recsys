{
 "cells": [
  {
   "cell_type": "markdown",
   "id": "23d418a9b801a83f",
   "metadata": {
    "id": "23d418a9b801a83f"
   },
   "source": [
    "# Recommendation Systems Assignment: Matrix Factorization"
   ]
  },
  {
   "cell_type": "markdown",
   "id": "a3538e763eb27476",
   "metadata": {
    "id": "a3538e763eb27476"
   },
   "source": [
    "### CSCI 6517 Recommender System"
   ]
  },
  {
   "cell_type": "markdown",
   "id": "5fd7351ed6b21a84",
   "metadata": {
    "id": "5fd7351ed6b21a84"
   },
   "source": [
    "##### Name: Chowdhury Mohammad Abdullah\n",
    "##### Banner ID: B01019563"
   ]
  },
  {
   "cell_type": "code",
   "execution_count": 2,
   "id": "FGT0_BLHtshm",
   "metadata": {
    "colab": {
     "base_uri": "https://localhost:8080/"
    },
    "id": "FGT0_BLHtshm",
    "outputId": "7a085fee-b10e-4878-c36b-d02ea1c706d1"
   },
   "outputs": [
    {
     "name": "stdout",
     "output_type": "stream",
     "text": [
      "Libraries imported.....\n"
     ]
    }
   ],
   "source": [
    "import pandas as pd\n",
    "import numpy as np\n",
    "import os\n",
    "import requests\n",
    "import zipfile\n",
    "from scipy.sparse import csr_matrix, lil_matrix\n",
    "from sklearn.metrics.pairwise import pairwise_distances\n",
    "import time\n",
    "from tqdm import tqdm\n",
    "\n",
    "import warnings\n",
    "warnings.filterwarnings('ignore')\n",
    "\n",
    "print(\"Libraries imported.....\")"
   ]
  },
  {
   "cell_type": "markdown",
   "id": "50b3216c452e6a83",
   "metadata": {
    "id": "50b3216c452e6a83"
   },
   "source": [
    "### Getting MovieLens data- 20M\n",
    "- Download from - https://grouplens.org/datasets/movielens/20m/\n",
    "- Unzip data in the 'data' folder\n"
   ]
  },
  {
   "cell_type": "code",
   "execution_count": 106,
   "id": "2F3HHF30wRHO",
   "metadata": {
    "id": "2F3HHF30wRHO"
   },
   "outputs": [],
   "source": [
    "def download_movielens_20m():\n",
    "    # Create data directory\n",
    "    if not os.path.exists('dataset'):\n",
    "        os.makedirs('dataset')\n",
    "        print(\"Created 'data' directory\")\n",
    "\n",
    "    # Download if not exists\n",
    "    url = \"https://files.grouplens.org/datasets/movielens/ml-20m.zip\"\n",
    "    zip_path = \"dataset/ml-20m.zip\"\n",
    "\n",
    "    if not os.path.exists(zip_path):\n",
    "        print(\"Downloading MovieLens 20M dataset...\")\n",
    "        start_time = time.time()\n",
    "        response = requests.get(url, stream=True)\n",
    "        end_time = time.time()\n",
    "        elapsed_time = end_time - start_time\n",
    "        print(f\"\\nTime taken to downlode the dataset: {elapsed_time:.2f} seconds\")\n",
    "        \n",
    "        print(\"Writing file...\")\n",
    "        start_time = time.time()\n",
    "        with open(zip_path, 'wb') as file:\n",
    "            for chunk in response.iter_content(chunk_size=8192):\n",
    "                if chunk:\n",
    "                    file.write(chunk)\n",
    "        end_time = time.time()\n",
    "        print(f\"\\nTime taken to write the dataset in filesystem: {elapsed_time:.2f} seconds\")\n",
    "        \n",
    "    print(\"####Dataset available #####\")"
   ]
  },
  {
   "cell_type": "code",
   "execution_count": 3,
   "id": "70457ac4-5c2e-4604-8ca9-894ae2c48ed2",
   "metadata": {},
   "outputs": [
    {
     "name": "stdout",
     "output_type": "stream",
     "text": [
      "####Dataset available #####\n"
     ]
    }
   ],
   "source": [
    "download_movielens_20m()"
   ]
  },
  {
   "cell_type": "code",
   "execution_count": 4,
   "id": "4528b9b2-b549-4056-a1b9-76737d588f63",
   "metadata": {},
   "outputs": [],
   "source": [
    "def extract_movielens_20m(zip_path):\n",
    "    # Extract if not already extracted\n",
    "    if not os.path.exists(\"dataset/ml-20m\"):\n",
    "        print(\"Extracting dataset...\")\n",
    "        with zipfile.ZipFile(zip_path, 'r') as zip_ref:\n",
    "            zip_ref.extractall(\"dataset/\")\n",
    "        print(\"####Extraction completed#####\")\n",
    "    else:\n",
    "        print(\"###Directory already available\")"
   ]
  },
  {
   "cell_type": "code",
   "execution_count": 5,
   "id": "67545a31-bf98-4ab2-8539-90feb66fcc9b",
   "metadata": {},
   "outputs": [
    {
     "name": "stdout",
     "output_type": "stream",
     "text": [
      "###Directory already available\n"
     ]
    }
   ],
   "source": [
    "extract_movielens_20m(zip_path=\"dataset/ml-20m.zip\")"
   ]
  },
  {
   "cell_type": "code",
   "execution_count": 6,
   "id": "ChHPAAy6w-9N",
   "metadata": {
    "colab": {
     "base_uri": "https://localhost:8080/"
    },
    "id": "ChHPAAy6w-9N",
    "outputId": "781ceda8-b92f-47dc-9eec-de44a90c1523"
   },
   "outputs": [],
   "source": [
    "# Load and examine the basic data\n",
    "ratings_df = pd.read_csv('dataset/ml-20m/ratings.csv')\n",
    "movies_df = pd.read_csv('dataset/ml-20m/movies.csv')\n",
    "\n",
    "num_users = ratings_df[\"userId\"].nunique()\n",
    "num_items = ratings_df[\"movieId\"].nunique()"
   ]
  },
  {
   "cell_type": "code",
   "execution_count": 7,
   "id": "cr3e4Q-4xZJv",
   "metadata": {
    "colab": {
     "base_uri": "https://localhost:8080/"
    },
    "id": "cr3e4Q-4xZJv",
    "outputId": "3e92606b-78f6-4299-ffbc-477c3c834c68"
   },
   "outputs": [
    {
     "name": "stdout",
     "output_type": "stream",
     "text": [
      "Ratings shape: (20000263, 4)\n",
      "Movies shape: (27278, 3)\n",
      "Number of unique users: 138493\n",
      "Number of unique movies in ratings: 26744\n",
      "Number of unique movies in movies: 27278\n"
     ]
    }
   ],
   "source": [
    "print(f\"Ratings shape: {ratings_df.shape}\")\n",
    "print(f\"Movies shape: {movies_df.shape}\")\n",
    "print(f\"Number of unique users: {num_users}\")\n",
    "print(f\"Number of unique movies in ratings: {num_items}\")\n",
    "print(f\"Number of unique movies in movies: {movies_df['movieId'].nunique()}\")"
   ]
  },
  {
   "cell_type": "code",
   "execution_count": 107,
   "id": "MK1rwmn2xjyN",
   "metadata": {
    "colab": {
     "base_uri": "https://localhost:8080/",
     "height": 206
    },
    "id": "MK1rwmn2xjyN",
    "outputId": "95f295ea-a00c-4785-b69a-58e37e512313"
   },
   "outputs": [
    {
     "data": {
      "text/html": [
       "<div>\n",
       "<style scoped>\n",
       "    .dataframe tbody tr th:only-of-type {\n",
       "        vertical-align: middle;\n",
       "    }\n",
       "\n",
       "    .dataframe tbody tr th {\n",
       "        vertical-align: top;\n",
       "    }\n",
       "\n",
       "    .dataframe thead th {\n",
       "        text-align: right;\n",
       "    }\n",
       "</style>\n",
       "<table border=\"1\" class=\"dataframe\">\n",
       "  <thead>\n",
       "    <tr style=\"text-align: right;\">\n",
       "      <th></th>\n",
       "      <th>userId</th>\n",
       "      <th>movieId</th>\n",
       "      <th>rating</th>\n",
       "      <th>timestamp</th>\n",
       "    </tr>\n",
       "  </thead>\n",
       "  <tbody>\n",
       "    <tr>\n",
       "      <th>0</th>\n",
       "      <td>1</td>\n",
       "      <td>2</td>\n",
       "      <td>3.5</td>\n",
       "      <td>1112486027</td>\n",
       "    </tr>\n",
       "    <tr>\n",
       "      <th>1</th>\n",
       "      <td>1</td>\n",
       "      <td>29</td>\n",
       "      <td>3.5</td>\n",
       "      <td>1112484676</td>\n",
       "    </tr>\n",
       "    <tr>\n",
       "      <th>2</th>\n",
       "      <td>1</td>\n",
       "      <td>32</td>\n",
       "      <td>3.5</td>\n",
       "      <td>1112484819</td>\n",
       "    </tr>\n",
       "    <tr>\n",
       "      <th>3</th>\n",
       "      <td>1</td>\n",
       "      <td>47</td>\n",
       "      <td>3.5</td>\n",
       "      <td>1112484727</td>\n",
       "    </tr>\n",
       "    <tr>\n",
       "      <th>4</th>\n",
       "      <td>1</td>\n",
       "      <td>50</td>\n",
       "      <td>3.5</td>\n",
       "      <td>1112484580</td>\n",
       "    </tr>\n",
       "  </tbody>\n",
       "</table>\n",
       "</div>"
      ],
      "text/plain": [
       "   userId  movieId  rating   timestamp\n",
       "0       1        2     3.5  1112486027\n",
       "1       1       29     3.5  1112484676\n",
       "2       1       32     3.5  1112484819\n",
       "3       1       47     3.5  1112484727\n",
       "4       1       50     3.5  1112484580"
      ]
     },
     "execution_count": 107,
     "metadata": {},
     "output_type": "execute_result"
    }
   ],
   "source": [
    "ratings_df.head()"
   ]
  },
  {
   "cell_type": "code",
   "execution_count": 108,
   "id": "0sXwXhh1xmFQ",
   "metadata": {
    "colab": {
     "base_uri": "https://localhost:8080/",
     "height": 206
    },
    "id": "0sXwXhh1xmFQ",
    "outputId": "939fca68-6156-4ab5-cc91-5267d9980925"
   },
   "outputs": [
    {
     "data": {
      "text/html": [
       "<div>\n",
       "<style scoped>\n",
       "    .dataframe tbody tr th:only-of-type {\n",
       "        vertical-align: middle;\n",
       "    }\n",
       "\n",
       "    .dataframe tbody tr th {\n",
       "        vertical-align: top;\n",
       "    }\n",
       "\n",
       "    .dataframe thead th {\n",
       "        text-align: right;\n",
       "    }\n",
       "</style>\n",
       "<table border=\"1\" class=\"dataframe\">\n",
       "  <thead>\n",
       "    <tr style=\"text-align: right;\">\n",
       "      <th></th>\n",
       "      <th>movieId</th>\n",
       "      <th>title</th>\n",
       "      <th>genres</th>\n",
       "    </tr>\n",
       "  </thead>\n",
       "  <tbody>\n",
       "    <tr>\n",
       "      <th>0</th>\n",
       "      <td>1</td>\n",
       "      <td>Toy Story (1995)</td>\n",
       "      <td>Adventure|Animation|Children|Comedy|Fantasy</td>\n",
       "    </tr>\n",
       "    <tr>\n",
       "      <th>1</th>\n",
       "      <td>2</td>\n",
       "      <td>Jumanji (1995)</td>\n",
       "      <td>Adventure|Children|Fantasy</td>\n",
       "    </tr>\n",
       "    <tr>\n",
       "      <th>2</th>\n",
       "      <td>3</td>\n",
       "      <td>Grumpier Old Men (1995)</td>\n",
       "      <td>Comedy|Romance</td>\n",
       "    </tr>\n",
       "    <tr>\n",
       "      <th>3</th>\n",
       "      <td>4</td>\n",
       "      <td>Waiting to Exhale (1995)</td>\n",
       "      <td>Comedy|Drama|Romance</td>\n",
       "    </tr>\n",
       "    <tr>\n",
       "      <th>4</th>\n",
       "      <td>5</td>\n",
       "      <td>Father of the Bride Part II (1995)</td>\n",
       "      <td>Comedy</td>\n",
       "    </tr>\n",
       "  </tbody>\n",
       "</table>\n",
       "</div>"
      ],
      "text/plain": [
       "   movieId                               title  \\\n",
       "0        1                    Toy Story (1995)   \n",
       "1        2                      Jumanji (1995)   \n",
       "2        3             Grumpier Old Men (1995)   \n",
       "3        4            Waiting to Exhale (1995)   \n",
       "4        5  Father of the Bride Part II (1995)   \n",
       "\n",
       "                                        genres  \n",
       "0  Adventure|Animation|Children|Comedy|Fantasy  \n",
       "1                   Adventure|Children|Fantasy  \n",
       "2                               Comedy|Romance  \n",
       "3                         Comedy|Drama|Romance  \n",
       "4                                       Comedy  "
      ]
     },
     "execution_count": 108,
     "metadata": {},
     "output_type": "execute_result"
    }
   ],
   "source": [
    "movies_df.head()"
   ]
  },
  {
   "cell_type": "markdown",
   "id": "700cbbfa0103b8e7",
   "metadata": {
    "id": "700cbbfa0103b8e7"
   },
   "source": [
    "## Q1. Scalability Issue"
   ]
  },
  {
   "cell_type": "markdown",
   "id": "dcbc7b5a2a7b1914",
   "metadata": {
    "id": "dcbc7b5a2a7b1914"
   },
   "source": [
    "### (a) Given the movielens 20 Million dataset, transform its rating matrix into the format of assignment 1 using the function `dataPreprocessor` (may need small changes) and run the popularity and user-user similarity based recommender systems. Show recommendations for the first 5 users. Include screenshots of your run in the corresponding cell. (4 Ps)"
   ]
  },
  {
   "cell_type": "code",
   "execution_count": 10,
   "id": "Sc_Xse7pDlog",
   "metadata": {
    "id": "Sc_Xse7pDlog"
   },
   "outputs": [],
   "source": [
    "# dataprocessor fucntion from Assignment 1\n",
    "def dataPreprocessor(rating_df, num_users, num_items):\n",
    "    \"\"\"\n",
    "        INPUT: \n",
    "            data: pandas DataFrame. columns=['userID', 'itemID', 'rating' ...]\n",
    "            num_row: int. number of users\n",
    "            num_col: int. number of items\n",
    "            \n",
    "        OUTPUT:\n",
    "            matrix: 2D numpy array. \n",
    "            \n",
    "        NOTE 1: see where something very similar is done in the lab in function 'buildUserItemMatrix'    \n",
    "            \n",
    "        NOTE 2: data can have more columns, but your function should ignore \n",
    "              additional columns.\n",
    "    \"\"\"\n",
    "    ########### your code goes here ###########\n",
    "    #initializing a matrix with userxitems size\n",
    "    matrix = np.zeros((num_users, num_items), dtype=np.int8)\n",
    "\n",
    "    #populating each entries with ratings\n",
    "    for (index, userID, itemID, rating, timestamp) in rating_df.itertuples():\n",
    "        matrix[userID-1, itemID-1] = rating\n",
    "    ###########         end         ###########\n",
    "    return matrix"
   ]
  },
  {
   "cell_type": "code",
   "execution_count": 11,
   "id": "AmdkKKdJEA62",
   "metadata": {
    "colab": {
     "base_uri": "https://localhost:8080/"
    },
    "id": "AmdkKKdJEA62",
    "outputId": "ca5ccc52-f34f-48d5-ce9e-047c0d3e8f6f"
   },
   "outputs": [
    {
     "name": "stdout",
     "output_type": "stream",
     "text": [
      "\n",
      "Attempting to create dense matrix with dataPreprocessor...\n",
      "Error encountered: IndexError\n",
      "Message: index 31695 is out of bounds for axis 1 with size 26744\n"
     ]
    }
   ],
   "source": [
    "try:\n",
    "    print(\"\\nAttempting to create dense matrix with dataPreprocessor...\")\n",
    "    rating_matrix = dataPreprocessor(ratings_df, num_users, num_items)\n",
    "\n",
    "except Exception as e:\n",
    "    print(f\"Error encountered: {type(e).__name__}\")\n",
    "    print(f\"Message: {str(e)}\")"
   ]
  },
  {
   "cell_type": "markdown",
   "id": "e06e454f-897a-408c-9295-fcaed5dae088",
   "metadata": {},
   "source": [
    "This is happening because of the mismatch of `movieId` and matrix `index`. So we need to get a translation function between the two. To verify this i ran the following code which shows the issue is only in `movieId` not in `userId`"
   ]
  },
  {
   "cell_type": "code",
   "execution_count": 12,
   "id": "2cfc09f2-5e1b-4072-bc21-473f98407d83",
   "metadata": {},
   "outputs": [
    {
     "name": "stdout",
     "output_type": "stream",
     "text": [
      "Matrix columns: 26744\n",
      "Max movieID: 131262\n",
      "Matrix rows: 138493\n",
      "Max userID: 138493\n"
     ]
    }
   ],
   "source": [
    "print(f\"Matrix columns: {num_items}\")\n",
    "print(f\"Max movieID: {ratings_df['movieId'].max()}\")\n",
    "\n",
    "print(f\"Matrix rows: {num_users}\")\n",
    "print(f\"Max userID: {ratings_df['userId'].max()}\")"
   ]
  },
  {
   "cell_type": "markdown",
   "id": "b14ebc87-56ce-4a30-b9cc-95bd21779a8f",
   "metadata": {},
   "source": [
    "Now we will change the `dataprocessor` to fix the breakage in the movieId (i think some of the movies were deleted from the dataset.) "
   ]
  },
  {
   "cell_type": "code",
   "execution_count": 13,
   "id": "37296a23-a52a-41c3-b487-d28a54936be2",
   "metadata": {},
   "outputs": [],
   "source": [
    "def dataPreprocessor_index_fixed(rating_df, num_users, num_items):\n",
    "    # Only need to map movieIDs since userIDs are consecutive\n",
    "    movie_to_idx = {mid: i for i, mid in enumerate(sorted(rating_df['movieId'].unique()))}\n",
    "    \n",
    "    matrix = np.zeros((num_users, num_items), dtype=np.int8)\n",
    "    \n",
    "    for (_, userID, movieID, rating, _) in rating_df.itertuples():\n",
    "        user_idx = userID - 1  # userIDs are consecutive, so this works\n",
    "        movie_idx = movie_to_idx[movieID]  # Need mapping for movies\n",
    "        matrix[user_idx, movie_idx] = rating\n",
    "    \n",
    "    return matrix"
   ]
  },
  {
   "cell_type": "code",
   "execution_count": 14,
   "id": "3e7e2c2d-fba4-4461-aad4-24fc06385660",
   "metadata": {},
   "outputs": [
    {
     "name": "stdout",
     "output_type": "stream",
     "text": [
      "\n",
      "Attempting to create dense matrix with dataPreprocessor...\n",
      "time taken to build rating matrix: 18.83 seconds\n",
      "Matrix shape: (138493, 26744)\n",
      "Matrix size in memory: 3.45 GB\n",
      "Non-zero elements: 19,761,138\n",
      "Total elements: 3,703,856,792\n",
      "Sparsity: 99.47% empty\n"
     ]
    }
   ],
   "source": [
    "try:\n",
    "    print(\"\\nAttempting to create dense matrix with dataPreprocessor...\")\n",
    "    start_time = time.time()\n",
    "    rating_matrix = dataPreprocessor_index_fixed(ratings_df, num_users, num_items)\n",
    "    end_time = time.time()\n",
    "    elapsed_time = end_time - start_time\n",
    "    print(f\"time taken to build rating matrix: {elapsed_time:.2f} seconds\")\n",
    "    print(f\"Matrix shape: {rating_matrix.shape}\")\n",
    "    print(f\"Matrix size in memory: {rating_matrix.nbytes / (1024**3):.2f} GB\")\n",
    "    print(f\"Non-zero elements: {np.count_nonzero(rating_matrix):,}\")\n",
    "    print(f\"Total elements: {rating_matrix.size:,}\")\n",
    "    print(f\"Sparsity: {(1 - np.count_nonzero(rating_matrix)/rating_matrix.size)*100:.2f}% empty\")\n",
    "\n",
    "except MemoryError as me:\n",
    "    print(f\"Memory errpr emcountered: {type(me).__name__}\")\n",
    "    print(f\"Message: {str(me)}\")\n",
    "\n",
    "except Exception as e:\n",
    "    print(f\"Error encountered: {type(e).__name__}\")\n",
    "    print(f\"Message: {str(e)}\")"
   ]
  },
  {
   "cell_type": "markdown",
   "id": "c20a8881-3804-440c-a08b-22951cb7ce17",
   "metadata": {},
   "source": [
    "There was no issue in creating the matrix. But we can see the **high time**, **large memory size** taken to construct this **sparse rating matrix**.\n",
    "\n",
    "Now we will be applying the recomendor systems from Assignment 1. We will reuse the `BaseLineRecSys` class from the assignment 1."
   ]
  },
  {
   "cell_type": "code",
   "execution_count": 99,
   "id": "e6488452-61cc-4723-9b5b-5d886c03615f",
   "metadata": {},
   "outputs": [
    {
     "data": {
      "text/plain": [
       "0"
      ]
     },
     "execution_count": 99,
     "metadata": {},
     "output_type": "execute_result"
    }
   ],
   "source": [
    "import gc\n",
    "\n",
    "# Deleting the rating matrix for now because the recsys functions will again create the train_matrix\n",
    "del rating_matrix\n",
    "\n",
    "gc.collect()"
   ]
  },
  {
   "cell_type": "code",
   "execution_count": 101,
   "id": "XW-m405ozNRM",
   "metadata": {
    "colab": {
     "base_uri": "https://localhost:8080/"
    },
    "id": "XW-m405ozNRM",
    "outputId": "ec66ca87-9e11-4720-9e9f-dce878921a56"
   },
   "outputs": [],
   "source": [
    "class BaseLineRecSys(object):\n",
    "    def __init__(self, method, processor=dataPreprocessor_index_fixed):\n",
    "        \"\"\"\n",
    "            method: string. From ['popularity','useraverage']\n",
    "            processor: function name. dataPreprocessor by default\n",
    "        \"\"\"\n",
    "        self.method_name = method\n",
    "        self.method = self._getMethod(self.method_name)\n",
    "        self.processor = processor\n",
    "        self.pred_column_name = self.method_name\n",
    "        \n",
    "    def _getMethod(self, method_name):\n",
    "        \"\"\"\n",
    "            Don't change this\n",
    "        \"\"\"\n",
    "        switcher = {\n",
    "            'popularity': self.popularity,\n",
    "            'useraverage': self.useraverage,\n",
    "        }\n",
    "        \n",
    "        return switcher[method_name]\n",
    "    \n",
    "    @staticmethod\n",
    "    def useraverage(train_matrix, num_users, num_items):\n",
    "        \"\"\"\n",
    "            INPUT:\n",
    "                train_matrix: 2D numpy array.\n",
    "                num_users: int. Number of Users.\n",
    "                num_items: int. Number of Items.\n",
    "            OUTPUT:\n",
    "                predictionMatrix: 2D numpy array.\n",
    "                \n",
    "            NOTE: see where something very similar is done in the lab in function 'predictByUserAverage'    \n",
    "        \"\"\"\n",
    "        \n",
    "        ########### your code goes here ###########\n",
    "        # Initialize the predicted rating matrix with zeros\n",
    "        predictionMatrix = np.zeros((num_users, num_items))\n",
    "        \n",
    "        for (user,item), rating in np.ndenumerate(train_matrix):\n",
    "        # Predict rating for every item that wasn't ranked by the user (rating == 0)\n",
    "            if rating == 0:\n",
    "                # Extract the items the user already rated\n",
    "                userVector = train_matrix[user, :]\n",
    "                ratedItems = userVector[userVector.nonzero()]\n",
    "            \n",
    "                # If not empty, calculate average and set as rating for the current item\n",
    "                if ratedItems.size == 0:\n",
    "                    itemAvg = 0\n",
    "                else:\n",
    "                    itemAvg = ratedItems.mean()\n",
    "                predictionMatrix[user, item] = itemAvg\n",
    "            \n",
    "        # report progress every 100 users\n",
    "        if (user % 100 == 0 and item == 1):\n",
    "            print (\"calculated %d users\" % (user,))\n",
    "\n",
    "        ###########         end         ###########\n",
    "        return predictionMatrix\n",
    "    \n",
    "    @staticmethod\n",
    "    def popularity(train_matrix, num_users, num_items):\n",
    "        \"\"\"\n",
    "            INPUT:\n",
    "                train_matrix: 2D numpy array.\n",
    "                num_users: int. Number of Users.\n",
    "                num_items: int. Number of Items.\n",
    "            OUTPUT:\n",
    "                predictionMatrix: 2D numpy array.\n",
    "                \n",
    "            NOTE: see where something very similar is done in the lab in function 'predictByPopularity'    \n",
    "        \"\"\"\n",
    "        \n",
    "        ########### your code goes here ###########\n",
    "        # Initialize the predicted rating matrix with zeros\n",
    "        predictionMatrix = np.zeros((num_users, num_items))\n",
    "\n",
    "        # Define function for converting 1-5 rating to 0/1 (like / don't like)\n",
    "        vf = np.vectorize(lambda x: 1 if x >= 4 else 0)\n",
    "    \n",
    "        # For every item calculate the number of people liked (4-5) divided by the number of people that rated\n",
    "        itemPopularity = np.zeros((num_items))\n",
    "        for item in range(num_items):\n",
    "            numOfUsersRated = len(train_matrix[:, item].nonzero()[0])\n",
    "            numOfUsersLiked = len(vf(train_matrix[:, item]).nonzero()[0])\n",
    "            if numOfUsersRated == 0:\n",
    "                itemPopularity[item] = 0\n",
    "            else:\n",
    "                itemPopularity[item] = numOfUsersLiked/numOfUsersRated\n",
    "        \n",
    "        for (user, item), rating in np.ndenumerate(train_matrix):\n",
    "            # Predict rating for every item that wasn't ranked by the user (rating == 0)\n",
    "            if rating == 0:\n",
    "                predictionMatrix[user, item] = itemPopularity[item]\n",
    "    \n",
    "            # report progress every 100 users\n",
    "            if (user % 10000 == 0 and item == 1):\n",
    "                print(\"calculated %d users\" % (user,))\n",
    "        \n",
    "        print(\"Max item popularity score:\", np.max(itemPopularity))\n",
    "        return predictionMatrix\n",
    " \n",
    "    \n",
    "    def predict_all(self, train_df, num_users, num_items):\n",
    "        \n",
    "        train_matrix = self.processor(train_df, num_users, num_items)\n",
    "        self.__model = self.method(train_matrix, num_users, num_items)\n",
    "        \n",
    "    def evaluate_test(self, test_df, copy=False):\n",
    "        \n",
    "        if copy:\n",
    "            prediction = test_df.copy()\n",
    "        else:\n",
    "            prediction = test_df\n",
    "            \n",
    "        prediction[self.pred_column_name] = np.nan\n",
    "        \n",
    "        for (index, \n",
    "             userID, \n",
    "             itemID) in tqdm(prediction[['userID','itemID']].itertuples()):\n",
    "            prediction.loc[index, self.pred_column_name] = self.__model[userID-1, itemID-1]\n",
    "\n",
    "        return prediction\n",
    "        \n",
    "    def getModel(self):\n",
    "        \"\"\"\n",
    "            return predicted user-item matrix\n",
    "        \"\"\"\n",
    "        return self.__model\n",
    "    \n",
    "    def getPredColName(self):\n",
    "        \"\"\"\n",
    "            return prediction column name\n",
    "        \"\"\"\n",
    "        return self.pred_column_name\n",
    "    \n",
    "    def reset(self):\n",
    "        \"\"\"\n",
    "            reuse the instance of the class by removing model\n",
    "        \"\"\"\n",
    "        try:\n",
    "            self.model = None\n",
    "        except:\n",
    "            print(\"You don not have model..\")"
   ]
  },
  {
   "cell_type": "code",
   "execution_count": 18,
   "id": "7fc48530-b3d5-4971-b1ab-5846cd96e7d4",
   "metadata": {},
   "outputs": [
    {
     "name": "stdout",
     "output_type": "stream",
     "text": [
      "calculated 0 users\n",
      "calculated 1000 users\n",
      "calculated 2000 users\n",
      "calculated 3000 users\n",
      "calculated 4000 users\n",
      "calculated 5000 users\n",
      "calculated 6000 users\n",
      "calculated 7000 users\n",
      "calculated 8000 users\n",
      "calculated 9000 users\n",
      "calculated 10000 users\n",
      "calculated 11000 users\n",
      "calculated 12000 users\n",
      "calculated 13000 users\n",
      "calculated 14000 users\n",
      "calculated 15000 users\n",
      "calculated 16000 users\n",
      "calculated 17000 users\n",
      "calculated 18000 users\n",
      "calculated 19000 users\n",
      "calculated 20000 users\n",
      "calculated 21000 users\n",
      "calculated 22000 users\n",
      "calculated 23000 users\n",
      "calculated 24000 users\n",
      "calculated 25000 users\n",
      "calculated 26000 users\n",
      "calculated 27000 users\n",
      "calculated 28000 users\n",
      "calculated 29000 users\n",
      "calculated 30000 users\n",
      "calculated 31000 users\n",
      "calculated 32000 users\n",
      "calculated 33000 users\n",
      "calculated 34000 users\n",
      "calculated 35000 users\n",
      "calculated 36000 users\n",
      "calculated 37000 users\n",
      "calculated 38000 users\n",
      "calculated 39000 users\n",
      "calculated 40000 users\n",
      "calculated 41000 users\n",
      "calculated 42000 users\n",
      "calculated 43000 users\n",
      "calculated 44000 users\n",
      "calculated 45000 users\n",
      "calculated 46000 users\n",
      "calculated 47000 users\n",
      "calculated 48000 users\n",
      "calculated 49000 users\n",
      "calculated 50000 users\n",
      "calculated 51000 users\n",
      "calculated 52000 users\n",
      "calculated 53000 users\n",
      "calculated 54000 users\n",
      "calculated 55000 users\n",
      "calculated 56000 users\n",
      "calculated 57000 users\n",
      "calculated 58000 users\n",
      "calculated 59000 users\n",
      "calculated 60000 users\n",
      "calculated 61000 users\n",
      "calculated 62000 users\n",
      "calculated 63000 users\n",
      "calculated 64000 users\n",
      "calculated 65000 users\n",
      "calculated 66000 users\n",
      "calculated 67000 users\n",
      "calculated 68000 users\n",
      "calculated 69000 users\n",
      "calculated 70000 users\n",
      "calculated 71000 users\n",
      "calculated 72000 users\n",
      "calculated 73000 users\n",
      "calculated 74000 users\n",
      "calculated 75000 users\n",
      "calculated 76000 users\n",
      "calculated 77000 users\n",
      "calculated 78000 users\n",
      "calculated 79000 users\n",
      "calculated 80000 users\n",
      "calculated 81000 users\n",
      "calculated 82000 users\n",
      "calculated 83000 users\n",
      "calculated 84000 users\n",
      "calculated 85000 users\n",
      "calculated 86000 users\n",
      "calculated 87000 users\n",
      "calculated 88000 users\n",
      "calculated 89000 users\n",
      "calculated 90000 users\n",
      "calculated 91000 users\n",
      "calculated 92000 users\n",
      "calculated 93000 users\n",
      "calculated 94000 users\n",
      "calculated 95000 users\n",
      "calculated 96000 users\n",
      "calculated 97000 users\n",
      "calculated 98000 users\n",
      "calculated 99000 users\n",
      "calculated 100000 users\n",
      "calculated 101000 users\n",
      "calculated 102000 users\n",
      "calculated 103000 users\n",
      "calculated 104000 users\n",
      "calculated 105000 users\n",
      "calculated 106000 users\n",
      "calculated 107000 users\n",
      "calculated 108000 users\n",
      "calculated 109000 users\n",
      "calculated 110000 users\n",
      "calculated 111000 users\n",
      "calculated 112000 users\n",
      "calculated 113000 users\n",
      "calculated 114000 users\n",
      "calculated 115000 users\n",
      "calculated 116000 users\n",
      "calculated 117000 users\n",
      "calculated 118000 users\n",
      "calculated 119000 users\n",
      "calculated 120000 users\n",
      "calculated 121000 users\n",
      "calculated 122000 users\n",
      "calculated 123000 users\n",
      "calculated 124000 users\n",
      "calculated 125000 users\n",
      "calculated 126000 users\n",
      "calculated 127000 users\n",
      "calculated 128000 users\n",
      "calculated 129000 users\n",
      "calculated 130000 users\n",
      "calculated 131000 users\n",
      "calculated 132000 users\n",
      "calculated 133000 users\n",
      "calculated 134000 users\n",
      "calculated 135000 users\n",
      "calculated 136000 users\n",
      "calculated 137000 users\n",
      "calculated 138000 users\n",
      "Max item popularity score: 1.0\n",
      "Time taken to run the popularity recomendor 2710.40 seconds\n"
     ]
    }
   ],
   "source": [
    "popularity_recsys = BaseLineRecSys('popularity')\n",
    "\n",
    "try:\n",
    "    start_time = time.time()\n",
    "    popularity_recsys.predict_all(ratings_df, num_users, num_items)\n",
    "    end_time = time.time()\n",
    "    \n",
    "    elapsed_time = end_time - start_time\n",
    "    print(f\"Time taken to run the popularity recomendor {elapsed_time:.2f} seconds\")\n",
    "\n",
    "except MemoryError as me:\n",
    "    print(f\"Memory errpr emcountered: {type(me).__name__}\")\n",
    "    print(f\"Message: {str(me)}\")"
   ]
  },
  {
   "cell_type": "markdown",
   "id": "fb4746fd-0d7e-440e-9560-a5c9caa559d5",
   "metadata": {},
   "source": [
    "Now we need to recomend movies to first 5 users. "
   ]
  },
  {
   "cell_type": "code",
   "execution_count": 34,
   "id": "1c84900a-4a0e-41fd-871d-6fe0835732db",
   "metadata": {},
   "outputs": [
    {
     "name": "stdout",
     "output_type": "stream",
     "text": [
      "User 1:\n",
      "  - 131140: Stopped on Track (2011)\n",
      "  - 131256: Feuer, Eis & Dosenbier (2002)\n",
      "  - 131254: Kein Bund für's Leben (2007)\n",
      "  - 131262: Innocence (2014)\n",
      "  - 131252: Forklift Driver Klaus: The First Day on the Job (2001)\n",
      "User 2:\n",
      "  - 131140: Stopped on Track (2011)\n",
      "  - 131256: Feuer, Eis & Dosenbier (2002)\n",
      "  - 131142: Voll Normaaal (1994)\n",
      "  - 131262: Innocence (2014)\n",
      "  - 131239: Three Quarter Moon (2011)\n",
      "User 3:\n",
      "  - 131140: Stopped on Track (2011)\n",
      "  - 131256: Feuer, Eis & Dosenbier (2002)\n",
      "  - 131254: Kein Bund für's Leben (2007)\n",
      "  - 131262: Innocence (2014)\n",
      "  - 131252: Forklift Driver Klaus: The First Day on the Job (2001)\n",
      "User 4:\n",
      "  - 131256: Feuer, Eis & Dosenbier (2002)\n",
      "  - 131254: Kein Bund für's Leben (2007)\n",
      "  - 131262: Innocence (2014)\n",
      "  - 131252: Forklift Driver Klaus: The First Day on the Job (2001)\n",
      "  - 131250: No More School (2000)\n",
      "User 5:\n",
      "  - 131262: Innocence (2014)\n",
      "  - 131256: Feuer, Eis & Dosenbier (2002)\n",
      "  - 131140: Stopped on Track (2011)\n",
      "  - 94891: Phyllis and Harold (2008)\n",
      "  - 94806: Secrets of Jonathan Sperry, The (2008)\n"
     ]
    }
   ],
   "source": [
    "# Create movieId to title mapping\n",
    "movie_id_to_title = dict(zip(movies_df['movieId'], movies_df['title']))\n",
    "\n",
    "# Get recommendations\n",
    "popularity_matrix = popularity_recsys.getModel()\n",
    "sorted_movie_ids = sorted(ratings_df['movieId'].unique())\n",
    "\n",
    "for user_id in range(5):\n",
    "    top_movie_indices = np.argsort(popularity_matrix[user_id])[::-1][:5]\n",
    "    recommended_movie_ids = [sorted_movie_ids[idx] for idx in top_movie_indices]\n",
    "    \n",
    "    print(f\"User {user_id + 1}:\")\n",
    "    for movie_id in recommended_movie_ids:\n",
    "        movie_id = int(movie_id)  # Convert from np.int64 to regular int\n",
    "        if movie_id in movie_id_to_title:\n",
    "            print(f\"  - {movie_id}: {movie_id_to_title[movie_id]}\")\n",
    "        else:\n",
    "            print(f\"  - {movie_id}\")"
   ]
  },
  {
   "attachments": {},
   "cell_type": "markdown",
   "id": "8e98a5c6-e312-4583-80e8-5c99c463782a",
   "metadata": {},
   "source": [
    "The top 5 movies for first two users are shown in the below screenshot. This shows that for user 1,2,3 the globally poplular movies are recomended but with a slight variation because it recommends the most popular movies that the user hasn't already seen/rated."
   ]
  },
  {
   "cell_type": "markdown",
   "id": "41ad0b70-366c-4a3c-8067-e42f2964690d",
   "metadata": {},
   "source": [
    "Now we will try to run the `user-user` similarity based recomender system by reusing the `SimBasedReSys` class from assigment 1."
   ]
  },
  {
   "cell_type": "code",
   "execution_count": 36,
   "id": "4ebaefec-c531-470a-9b9c-572a24f8bafb",
   "metadata": {},
   "outputs": [],
   "source": [
    "class SimBasedRecSys(object):\n",
    "\n",
    "    def __init__(self, base, method, processor=dataPreprocessor_index_fixed):\n",
    "        self.base = base\n",
    "        self.method_name = method\n",
    "        self.method = self._getMethod(self.method_name)\n",
    "        self.processor = processor\n",
    "        self.pred_column_name = self.base + '-' + self.method_name\n",
    "\n",
    "    def _getMethod(self, method_name):\n",
    "        switcher = {\n",
    "            'cosine': self.cosine,\n",
    "            'euclidean': self.euclidean,\n",
    "            'manhattan': self.manhattan,\n",
    "            'chebyshev': self.chebyshev\n",
    "        }\n",
    "        return switcher[method_name]\n",
    "\n",
    "    @staticmethod\n",
    "    def cosine(matrix):\n",
    "        similarity_matrix = 1 - pairwise_distances(matrix, metric='cosine')\n",
    "        return similarity_matrix\n",
    "\n",
    "    @staticmethod\n",
    "    def euclidean(matrix):\n",
    "        distance_matrix = pairwise_distances(matrix, metric='euclidean')\n",
    "        similarity_matrix = 1 / (1 + distance_matrix)\n",
    "        return similarity_matrix\n",
    "\n",
    "    @staticmethod\n",
    "    def manhattan(matrix):\n",
    "        distance_matrix = pairwise_distances(matrix, metric=\"manhattan\")\n",
    "        similarity_matrix = 1 / (1 + distance_matrix)\n",
    "        return similarity_matrix\n",
    "\n",
    "    @staticmethod\n",
    "    def chebyshev(matrix):\n",
    "        distance_matrix = pairwise_distances(matrix, metric='chebyshev')\n",
    "        similarity_matrix = 1 / (1 + distance_matrix)\n",
    "        return similarity_matrix\n",
    "\n",
    "    def predict_all(self, train_df, num_users, num_items):\n",
    "        train_matrix = self.processor(train_df, num_users, num_items)\n",
    "        rated_mask = (train_matrix > 0).astype(int)\n",
    "\n",
    "        if self.base == 'user':\n",
    "            similarity_matrix = self.method(train_matrix)\n",
    "            numerators = similarity_matrix @ train_matrix\n",
    "            denominators = similarity_matrix @ rated_mask\n",
    "            denominators[denominators == 0] = 1e-5\n",
    "            prediction_matrix = numerators / denominators\n",
    "            user_avg = np.sum(train_matrix, axis=1) / np.sum(rated_mask, axis=1)\n",
    "            item_sums = np.sum(prediction_matrix, axis=0)\n",
    "            prediction_matrix[:, item_sums == 0] += np.expand_dims(user_avg, axis=1)\n",
    "\n",
    "        elif self.base == 'item':\n",
    "            similarity_matrix = self.method(train_matrix.T)\n",
    "            numerators = train_matrix @ similarity_matrix\n",
    "            denominators = rated_mask @ similarity_matrix\n",
    "            denominators[denominators == 0] = 1e-5\n",
    "            prediction_matrix = numerators / denominators\n",
    "            user_avg = np.sum(train_matrix, axis=1) / np.sum(rated_mask, axis=1)\n",
    "            item_sums = np.sum(prediction_matrix, axis=0)\n",
    "            prediction_matrix[:, item_sums == 0] += np.expand_dims(user_avg, axis=1)\n",
    "\n",
    "        else:\n",
    "            print('No other option available')\n",
    "            return\n",
    "\n",
    "        self.__model = prediction_matrix\n",
    "        self.__similarity = similarity_matrix  # Store similarity for access later\n",
    "\n",
    "    def evaluate_test(self, test_df, copy=False):\n",
    "        if copy:\n",
    "            prediction = test_df.copy()\n",
    "        else:\n",
    "            prediction = test_df\n",
    "        prediction[self.pred_column_name] = np.nan\n",
    "\n",
    "        for (index, userID, itemID) in tqdm(prediction[['userID', 'itemID']].itertuples()):\n",
    "            prediction.loc[index, self.pred_column_name] = self.__model[userID - 1, itemID - 1]\n",
    "\n",
    "        return prediction\n",
    "\n",
    "    def getModel(self):\n",
    "        return self.__model\n",
    "\n",
    "    def getSimilarity(self):\n",
    "        return self.__similarity  # Getter for similarity matrix\n",
    "\n",
    "    def getPredColName(self):\n",
    "        return self.pred_column_name\n",
    "\n",
    "    def reset(self):\n",
    "        try:\n",
    "            self.model = None\n",
    "        except:\n",
    "            print(\"You do not have model..\")"
   ]
  },
  {
   "cell_type": "code",
   "execution_count": 38,
   "id": "9efae077-e3e2-47c4-82cd-982cbe3b8949",
   "metadata": {},
   "outputs": [
    {
     "name": "stdout",
     "output_type": "stream",
     "text": [
      "Memory errpr emcountered: MemoryError\n",
      "Message: Unable to allocate 27.6 GiB for an array with shape (138493, 26744) and data type int64\n"
     ]
    }
   ],
   "source": [
    "user_similarity_recsys = SimBasedRecSys(base='user', method=\"cosine\")\n",
    "\n",
    "try:\n",
    "    start_time = time.time()\n",
    "    user_similarity_recsys.predict_all(ratings_df, num_users, num_items)\n",
    "    end_time = time.time()\n",
    "    \n",
    "    elapsed_time = end_time - start_time\n",
    "    print(f\"Time taken to run the user-user cosine similarity based recomendor {elapsed_time:.2f} seconds\")\n",
    "\n",
    "except MemoryError as me:\n",
    "    print(f\"Memory errpr emcountered: {type(me).__name__}\")\n",
    "    print(f\"Message: {str(me)}\")"
   ]
  },
  {
   "cell_type": "markdown",
   "id": "5ac675ce-0d01-472d-81c2-7a67a8fb3017",
   "metadata": {},
   "source": [
    "Here we have a very important observation from datatype as `bool` because it means from my `predict_all`, the `train_matrix` is getting created successfully but after going to the code for creating `rated_mask = (train_matrix > 0).astype(int)`, the memory runs out. It also means my code for creating `similarity_matrix` never starts to run even. Then there are more matrices that will never get the chance to be created. This can be seen as an explosion of memory."
   ]
  },
  {
   "cell_type": "markdown",
   "id": "cc791a1f018e00a",
   "metadata": {
    "id": "cc791a1f018e00a"
   },
   "source": [
    "### (b) Answer the following questions"
   ]
  },
  {
   "cell_type": "markdown",
   "id": "248862ce22198d90",
   "metadata": {
    "id": "248862ce22198d90"
   },
   "source": [
    "#### i. Are you able to run the code for the two recommender systems? If yes, how long does it take you to run the code (in minutes). If no, why do you think it could not run. (3 Ps)"
   ]
  },
  {
   "attachments": {},
   "cell_type": "markdown",
   "id": "19803780-bd6f-4af8-8b06-e171e35a0f75",
   "metadata": {},
   "source": [
    "I was able to run the `popularity` based recomender system and it took `2710.40 seconds`. I did not face memory shortage in this code because my system has adequate RAM. I also proceeded to recomend first five users five movies as seen in the screenshot below.\n",
    "\n",
    "<img src=\"image/popularity_recsys_five_users.png\" alt=\"image\" width=\"500\" height=\"300\"/>\n",
    "\n",
    "The `user_similarity_recsys` **did not execute** because it needs to create several other matrices of same dimension that would take a HUGE amount of memory. As seen above, the code for this recomender broke while creating `rated_mask` and it was still left creating the `similarity_matrix` which is a `float64` type matrix. This `similarity matrix` will be more than `120GB` which is impractical! Even if I had this much memory, the time required to calculate the similarity will also be very high."
   ]
  },
  {
   "cell_type": "markdown",
   "id": "ac0cc25a-017e-46b8-8ab6-c3b741d2f92b",
   "metadata": {},
   "source": [
    "#### ii. If you need to scale up popularity based recommender system in the code. What would you do? No need to write code, simply explain your plan as text. Hint: how to change the training function? how to change the prediction function? (2+2 Ps)"
   ]
  },
  {
   "cell_type": "markdown",
   "id": "cf7080e2-ed8e-4200-9e34-dc46f03f7dad",
   "metadata": {},
   "source": [
    "The `popilarity()` method actually has the dual responsibility of training (the first part of caclulating `itemPopularity`) and prediction (the second part of filling up the entries of the `prediction_matrix`.) As the first step of scaling up the system, I would segregate the two responsibilities. At first, I will return the `itemPopularity` as the output of **training stage**.  Going to the **prediction stage**, I will calculate a `prediction_vector` for a user **on demand** which will hold the popluraity score for all the unrated movies for the user in question. From this, I will recomend the user the top k movies.\n",
    "\n",
    "Apart from that, we can also scale the system in the following manner:\n",
    "\n",
    "  1. The `train_matrix` is highly sparse (`99.47%` empty). If we **vectorize the implimantation** then it will stop wasting time to iterate in the matrix one by one and run much more faster both in terms of training and prediction.\n",
    "  2. We can also use **sparse matrix representation** and avoid processing the zeroes altogether as demonstrated in our tutorial."
   ]
  },
  {
   "cell_type": "markdown",
   "id": "a4147a6bb0a187a3",
   "metadata": {
    "id": "a4147a6bb0a187a3"
   },
   "source": [
    "## Q2 Run the code framework"
   ]
  },
  {
   "cell_type": "markdown",
   "id": "e1707eaf-8d3f-418c-9e19-1e5abf390b77",
   "metadata": {},
   "source": [
    "### (a) Save unzipped 20 Million dataset under `data` folder"
   ]
  },
  {
   "cell_type": "markdown",
   "id": "e1db0080-9718-45ac-aac2-807858997172",
   "metadata": {},
   "source": [
    "Done (I have them in the `dataset/` folder. I am not changing it because it will require me to re-run my codes."
   ]
  },
  {
   "cell_type": "markdown",
   "id": "c32e03f6-ad3c-490e-a6f9-be2ef5df9dc6",
   "metadata": {},
   "source": [
    "### (b) Run the `Tutorial-2-MF` notebook (Brightspace under Content/Tutorials tag) and answer the following question. Include screenshots of your run in the corresponding cell where possible."
   ]
  },
  {
   "cell_type": "markdown",
   "id": "e7f140db-be17-4850-b1e6-33a8730b22ca",
   "metadata": {},
   "source": [
    "Executed the tutorial code seperately."
   ]
  },
  {
   "cell_type": "markdown",
   "id": "9c9aa0b318f99d41",
   "metadata": {
    "id": "9c9aa0b318f99d41"
   },
   "source": [
    "### (c).i Why do we use ”implicit” in the data split function? (2 Pt)"
   ]
  },
  {
   "cell_type": "markdown",
   "id": "410ae20c93281a33",
   "metadata": {
    "id": "410ae20c93281a33"
   },
   "source": [
    "Our `rating_matrix` contains explicit user signal (rating from 1 to 5) but for reccomender systems, we want to make our code faster by making these user signals binary. In the `time_ordered_split` function, when we use `implicit`, that makes a matrix `temp_rating_matrix` which stores if a rating is greater than `3` or not. Otherwise it is considered that the user did not like it.\n",
    "\n",
    "It may seem look like such approximation is bleeding out precious information about user prefrence but in reality, it still remains caopable of providing us a rough estimamte on which the user may like. If we use the explicit interactions, it may not be possible to provide recomendation to user in short time and they may see an empty page that should have contained recomended items.\n",
    "\n",
    "On a different note, since the `rating_matrix` is very sparse, if we convert it to binary datatype, the internal implementations can much easily handel the sparsity."
   ]
  },
  {
   "cell_type": "markdown",
   "id": "9759e2def8dba93",
   "metadata": {
    "id": "9759e2def8dba93"
   },
   "source": [
    "### (c).ii Why do time-ordered split? (2 Pt)"
   ]
  },
  {
   "cell_type": "markdown",
   "id": "134f0a9adf479a07",
   "metadata": {
    "id": "134f0a9adf479a07"
   },
   "source": [
    "In real-life, data is collected over time and after a certain cutt-off time, the companies start training the models on this collected training data. After the cuttoff time and till the present (when the training starts), the collected data is called the **golden test set** because this data is not only unseen by the model, but also they are not influenced by the model that we are training. For this reason, this test set is considered \"gold\" stantard (as mentioned in the class lecture). \n",
    "\n",
    "We also need a time-order split that will enable us to judge how our model behaves as it encounters new movies (i.e., simulates cold-start scneario when a new movie is released). Thus, the time split makes our whole process of evaluation realistic."
   ]
  },
  {
   "cell_type": "markdown",
   "id": "5b4922aa7c3d1a71",
   "metadata": {
    "id": "5b4922aa7c3d1a71"
   },
   "source": [
    "### (c).iii Why use CSR matrix? What are the benefits? What are the benefits? Explain with example. (4 Pt)"
   ]
  },
  {
   "cell_type": "markdown",
   "id": "be6e7937b42aa8ab",
   "metadata": {
    "id": "be6e7937b42aa8ab"
   },
   "source": [
    "By using CRS, we can have the following benefits\n",
    "  1. **Memory efficiency**: Since our `rating_matrix` is extremely sparse, CRS matrix will avoid allocating space for the whole matrix (as seen above which took almost `4GB` RAM). Rather, we only store the value, position and metadata. This way we will reduce the memory requirement to KB levels.\n",
    "  2. **Benefits in operations**: When we do dot products, the zero elements are automatically avoided, which was a major drawback in our code for `popularity` reccomender.\n",
    "  3. **ID translation**: Since we are not worrided about matrix index anymore, we do not require to make any mapping of `movieId` as we did above for 2D matrix representation of the `rating_matrix`.\n",
    "\n",
    "Example: Suppose we have a rating matrix  $R = \\begin{bmatrix}\n",
    "0 & 5 & 0 & 0 \\\\\n",
    "0 & 0 & 3 & 0 \\\\\n",
    "0 & 0 & 0 & 0 \\\\\n",
    "0 & 0 & 0 & 0\n",
    "\\end{bmatrix} $. In CRS, we can represent this only using the three vecotros, $rating = [5, 3] $, $user = [1, 2]$, and $movie = [0, 1]$. So instead of storing 16 values in 2D representation, we are storing 6 values to represent the same information. Let us see a code in the below cell."
   ]
  },
  {
   "cell_type": "code",
   "execution_count": 102,
   "id": "7aa62681-079c-4732-bb1a-f2031a1350f7",
   "metadata": {},
   "outputs": [
    {
     "name": "stdout",
     "output_type": "stream",
     "text": [
      "ratings     = [5, 3]\n",
      "item_indices= [1, 2]\n",
      "user_ptr    = [0, 1, 2, 2, 2]\n"
     ]
    }
   ],
   "source": [
    "R = np.array([\n",
    "    [0, 5, 0, 0],\n",
    "    [0, 0, 3, 0],\n",
    "    [0, 0, 0, 0],\n",
    "    [0, 0, 0, 0],\n",
    "])\n",
    "\n",
    "R_csr = csr_matrix(R)\n",
    "\n",
    "ratings      = R_csr.data.tolist()     \n",
    "item_indices = R_csr.indices.tolist()  \n",
    "user_ptr     = R_csr.indptr.tolist() \n",
    "\n",
    "print(\"ratings     =\", ratings)\n",
    "print(\"item_indices=\", item_indices)\n",
    "print(\"user_ptr    =\", user_ptr)"
   ]
  },
  {
   "cell_type": "markdown",
   "id": "bc09e93e-2549-45b9-9d17-091f710294c7",
   "metadata": {},
   "source": [
    "Reconstruction of a users's full rating vector is also very easy unlike the 2D matrix which needs to see all the cells. An example code is given below."
   ]
  },
  {
   "cell_type": "code",
   "execution_count": 103,
   "id": "1c24bde3-d65d-4b2f-b7ad-5a41c5ab0c8e",
   "metadata": {},
   "outputs": [
    {
     "name": "stdout",
     "output_type": "stream",
     "text": [
      "User 0 rating vector: [0 5 0 0]\n"
     ]
    }
   ],
   "source": [
    "# Reconstruct a user's (user 0) full rating vector \n",
    "def get_user_ratings(user_id, csr_mat):\n",
    "    return csr_mat.getrow(user_id).toarray()[0]\n",
    "\n",
    "print(\"User 0 rating vector:\", get_user_ratings(0, R_csr))"
   ]
  },
  {
   "cell_type": "markdown",
   "id": "d6308e72e4628274",
   "metadata": {
    "id": "d6308e72e4628274"
   },
   "source": [
    "### (c).iv Comparing the first assignment and second tutorial, which model runs practical? Why? What is the computation bottleneck in this implementation? (2 Pt)"
   ]
  },
  {
   "cell_type": "markdown",
   "id": "fd1a66b9ed69ed7d",
   "metadata": {
    "id": "fd1a66b9ed69ed7d"
   },
   "source": [
    "It is clear that the `ALS` from second tutorial is far more practical compared to `popularity` and `user similarity` recomender system from assigment 1. Because the `popularity` model took extremely longer time (`2710.40 seconds`) to run and a large amount of memoery where `ALS` did that in only `4 iterations` using lower memory. \n",
    "\n",
    "Comparing the ALS with the similarity recoemdner, the ALS can avoid storing large amount of information (storing all user similarities) and only use `U` and `V` to acheive recomendation.\n",
    "\n",
    "But the **matrix inversion in the ALS is still a computation bottleneck** (`torch.inverse()` used in the `sub_routine` of the `linear_solver` that `als` uses). As mentioned in the class lecture, this inversion still makes the ALS scalability a challenge for large scale recomendation (because we need to do this inversion for each user/item update)"
   ]
  },
  {
   "cell_type": "markdown",
   "id": "f9fade9c4ca131b8",
   "metadata": {
    "id": "f9fade9c4ca131b8"
   },
   "source": [
    "## Q3 Matrix Factorization- ALS"
   ]
  },
  {
   "cell_type": "markdown",
   "id": "a71e55dc-a590-464e-a192-e63791017b6c",
   "metadata": {},
   "source": [
    "### ALS Code from Tutorial"
   ]
  },
  {
   "cell_type": "markdown",
   "id": "59a189bc9b8647b",
   "metadata": {
    "id": "59a189bc9b8647b"
   },
   "source": [
    "Importing Libraries"
   ]
  },
  {
   "cell_type": "code",
   "execution_count": 3,
   "id": "initial_id",
   "metadata": {
    "ExecuteTime": {
     "end_time": "2024-06-01T04:04:37.119870Z",
     "start_time": "2024-06-01T04:04:33.950453Z"
    },
    "id": "initial_id"
   },
   "outputs": [],
   "source": [
    "import pandas as pd\n",
    "import scipy.sparse as sparse\n",
    "import numpy as np\n",
    "from tqdm import tqdm\n",
    "import torch\n",
    "\n",
    "from scipy.sparse import csr_matrix\n",
    "from scipy.sparse import vstack, hstack\n",
    "from scipy.sparse.linalg import inv\n",
    "from sklearn.utils.extmath import randomized_svd\n",
    "import time"
   ]
  },
  {
   "cell_type": "markdown",
   "id": "b50f06475cb45f9",
   "metadata": {
    "id": "b50f06475cb45f9"
   },
   "source": [
    "Define the path and the shape of the matrix"
   ]
  },
  {
   "cell_type": "code",
   "execution_count": 4,
   "id": "1d6b0602e71e8cb7",
   "metadata": {
    "ExecuteTime": {
     "end_time": "2024-06-01T01:52:43.254392Z",
     "start_time": "2024-06-01T01:52:43.247391Z"
    },
    "id": "1d6b0602e71e8cb7"
   },
   "outputs": [],
   "source": [
    "path = 'dataset/'\n",
    "shape = None\n",
    "name = 'ml-20m/ratings.csv'"
   ]
  },
  {
   "cell_type": "markdown",
   "id": "cc4a7dd56c5b94e9",
   "metadata": {
    "id": "cc4a7dd56c5b94e9"
   },
   "source": [
    "Function to load data"
   ]
  },
  {
   "cell_type": "code",
   "execution_count": 5,
   "id": "5afa71ca9e5aeeb1",
   "metadata": {
    "ExecuteTime": {
     "end_time": "2024-06-01T01:52:44.920189Z",
     "start_time": "2024-06-01T01:52:44.911196Z"
    },
    "id": "5afa71ca9e5aeeb1"
   },
   "outputs": [],
   "source": [
    "def load_pandas(path, name, row_name='userId', col_name='movieId',\n",
    "                value_name='rating', shape=(138494, 131263), sep=','):\n",
    "    df = pd.read_csv(path + name, sep=sep)\n",
    "    rows = df[row_name]\n",
    "    cols = df[col_name]\n",
    "    if value_name is not None:\n",
    "        values = df[value_name]\n",
    "    else:\n",
    "        values = [1]*len(rows)\n",
    "\n",
    "    return csr_matrix((values, (rows, cols)), shape=shape)"
   ]
  },
  {
   "cell_type": "markdown",
   "id": "c3c2bfbe69f215e2",
   "metadata": {
    "id": "c3c2bfbe69f215e2"
   },
   "source": [
    "Load data"
   ]
  },
  {
   "cell_type": "code",
   "execution_count": 6,
   "id": "b7de9b96a63c8387",
   "metadata": {
    "ExecuteTime": {
     "end_time": "2024-06-01T01:52:57.006447Z",
     "start_time": "2024-06-01T01:52:45.768063Z"
    },
    "colab": {
     "base_uri": "https://localhost:8080/",
     "height": 321
    },
    "id": "b7de9b96a63c8387",
    "outputId": "331d681d-ccdd-4a4e-88a3-a75e93765a57"
   },
   "outputs": [],
   "source": [
    "rating_matrix = load_pandas(path=path, name=name, shape=shape)\n",
    "timestamp_matrix = load_pandas(path=path, value_name='timestamp', name=name, shape=shape)"
   ]
  },
  {
   "cell_type": "code",
   "execution_count": 7,
   "id": "39f87eba7d137a8d",
   "metadata": {
    "ExecuteTime": {
     "end_time": "2024-06-01T01:52:58.162953Z",
     "start_time": "2024-06-01T01:52:58.141936Z"
    },
    "id": "39f87eba7d137a8d"
   },
   "outputs": [
    {
     "data": {
      "text/plain": [
       "(138494, 131263)"
      ]
     },
     "execution_count": 7,
     "metadata": {},
     "output_type": "execute_result"
    }
   ],
   "source": [
    "rating_matrix.shape"
   ]
  },
  {
   "cell_type": "code",
   "execution_count": 8,
   "id": "e9171ddcd2621893",
   "metadata": {
    "ExecuteTime": {
     "end_time": "2024-06-01T01:52:58.881405Z",
     "start_time": "2024-06-01T01:52:58.871405Z"
    },
    "id": "e9171ddcd2621893"
   },
   "outputs": [
    {
     "data": {
      "text/plain": [
       "(138494, 131263)"
      ]
     },
     "execution_count": 8,
     "metadata": {},
     "output_type": "execute_result"
    }
   ],
   "source": [
    "timestamp_matrix.shape"
   ]
  },
  {
   "cell_type": "markdown",
   "id": "9652ecf20d257199",
   "metadata": {
    "id": "9652ecf20d257199"
   },
   "source": [
    "Function for Splitting data"
   ]
  },
  {
   "cell_type": "code",
   "execution_count": 9,
   "id": "1eed4d92cddace33",
   "metadata": {
    "ExecuteTime": {
     "end_time": "2024-06-01T01:52:59.777245Z",
     "start_time": "2024-06-01T01:52:59.752242Z"
    },
    "id": "1eed4d92cddace33"
   },
   "outputs": [],
   "source": [
    "def time_ordered_split(rating_matrix, timestamp_matrix, ratio=[0.5, 0.2, 0.3],\n",
    "                       implicit=True, remove_empty=True, sampling=False, percentage=0.1):\n",
    "\n",
    "    if sampling:\n",
    "        m, n = rating_matrix.shape\n",
    "        index = np.random.choice(m, int(m * percentage))\n",
    "        rating_matrix = rating_matrix[index]\n",
    "\n",
    "    if implicit:\n",
    "\n",
    "        temp_rating_matrix = sparse.csr_matrix(rating_matrix.shape)\n",
    "        temp_rating_matrix[(rating_matrix > 3).nonzero()] = 1\n",
    "        rating_matrix = temp_rating_matrix\n",
    "        timestamp_matrix = timestamp_matrix.multiply(rating_matrix)\n",
    "\n",
    "    nonzero_index = None\n",
    "\n",
    "    if remove_empty:\n",
    "        # Remove empty columns. record original item index\n",
    "        nonzero_index = np.unique(rating_matrix.nonzero()[1])\n",
    "        rating_matrix = rating_matrix[:, nonzero_index]\n",
    "        timestamp_matrix = timestamp_matrix[:, nonzero_index]\n",
    "\n",
    "        # Remove empty rows. record original user index\n",
    "        nonzero_rows = np.unique(rating_matrix.nonzero()[0])\n",
    "        rating_matrix = rating_matrix[nonzero_rows]\n",
    "        timestamp_matrix = timestamp_matrix[nonzero_rows]\n",
    "\n",
    "    user_num, item_num = rating_matrix.shape\n",
    "\n",
    "    rtrain = []\n",
    "    rtime = []\n",
    "    rvalid = []\n",
    "    rtest = []\n",
    "\n",
    "    # for i in tqdm(xrange(user_num)):\n",
    "    for i in tqdm(range(user_num)):\n",
    "        item_indexes = rating_matrix[i].nonzero()[1]\n",
    "        data = rating_matrix[i].data\n",
    "        timestamp = timestamp_matrix[i].data\n",
    "        num_nonzeros = len(item_indexes)\n",
    "        if num_nonzeros >= 1:\n",
    "            num_test = int(num_nonzeros * ratio[2])\n",
    "            num_valid = int(num_nonzeros * (ratio[1] + ratio[2]))\n",
    "\n",
    "            valid_offset = num_nonzeros - num_valid\n",
    "            test_offset = num_nonzeros - num_test\n",
    "\n",
    "            argsort = np.argsort(timestamp)\n",
    "            data = data[argsort]\n",
    "            item_indexes = item_indexes[argsort]\n",
    "\n",
    "            rtrain.append([data[:valid_offset], np.full(valid_offset, i), item_indexes[:valid_offset]])\n",
    "            rvalid.append([data[valid_offset:test_offset], np.full(test_offset - valid_offset, i),\n",
    "                           item_indexes[valid_offset:test_offset]])\n",
    "            rtest.append([data[test_offset:], np.full(num_test, i), item_indexes[test_offset:]])\n",
    "\n",
    "    # import ipdb; ipdb.set_trace()\n",
    "    rtrain = np.array(rtrain, dtype=object)\n",
    "    rvalid = np.array(rvalid, dtype=object)\n",
    "    rtest = np.array(rtest, dtype=object)\n",
    "\n",
    "    rtrain = sparse.csr_matrix((np.hstack(rtrain[:, 0]), (np.hstack(rtrain[:, 1]), np.hstack(rtrain[:, 2]))),\n",
    "                               shape=rating_matrix.shape, dtype=np.float32)\n",
    "    rvalid = sparse.csr_matrix((np.hstack(rvalid[:, 0]), (np.hstack(rvalid[:, 1]), np.hstack(rvalid[:, 2]))),\n",
    "                               shape=rating_matrix.shape, dtype=np.float32)\n",
    "    rtest = sparse.csr_matrix((np.hstack(rtest[:, 0]), (np.hstack(rtest[:, 1]), np.hstack(rtest[:, 2]))),\n",
    "                              shape=rating_matrix.shape, dtype=np.float32)\n",
    "\n",
    "    return rtrain, rvalid, rtest, nonzero_index, timestamp_matrix"
   ]
  },
  {
   "cell_type": "markdown",
   "id": "72a95d65d2273b",
   "metadata": {
    "id": "72a95d65d2273b"
   },
   "source": [
    "Splitting Data"
   ]
  },
  {
   "cell_type": "code",
   "execution_count": 10,
   "id": "7c64938df428373b",
   "metadata": {
    "id": "7c64938df428373b"
   },
   "outputs": [
    {
     "name": "stderr",
     "output_type": "stream",
     "text": [
      "100%|████████████████████████████████████████████████████████████████████████| 138362/138362 [00:34<00:00, 3959.09it/s]\n"
     ]
    }
   ],
   "source": [
    "rtrain, rvalid, rtest, nonzero_index, rtime = time_ordered_split(rating_matrix=rating_matrix,\n",
    "                                                                     timestamp_matrix=timestamp_matrix,\n",
    "                                                                     implicit=True)"
   ]
  },
  {
   "cell_type": "markdown",
   "id": "450bb4263121d366",
   "metadata": {
    "id": "450bb4263121d366"
   },
   "source": [
    "Function for Predictions"
   ]
  },
  {
   "cell_type": "code",
   "execution_count": 11,
   "id": "8b69dbef02a0b9e7",
   "metadata": {
    "ExecuteTime": {
     "end_time": "2024-06-01T04:53:47.897159Z",
     "start_time": "2024-06-01T04:53:47.868150Z"
    },
    "id": "8b69dbef02a0b9e7"
   },
   "outputs": [],
   "source": [
    "def predict(matrix_U, matrix_V, topK, matrix_Train, bias=None, measure=\"Cosine\"):\n",
    "\n",
    "    prediction = []\n",
    "\n",
    "    for user_index in tqdm(range(matrix_U.shape[0])):\n",
    "        vector_u = matrix_U[user_index]\n",
    "        vector_train = matrix_Train[user_index]\n",
    "        if len(vector_train.nonzero()[0]) > 0:\n",
    "            vector_predict = sub_routine_predict(vector_u, matrix_V, vector_train, bias, measure, topK=topK)\n",
    "        else:\n",
    "            vector_predict = np.zeros(topK, dtype=np.float32)\n",
    "\n",
    "        prediction.append(vector_predict)\n",
    "\n",
    "    return np.vstack(prediction)\n",
    "\n",
    "def sub_routine_predict(vector_u, matrix_V, vector_train, bias, measure, topK=500, gpu=False):\n",
    "\n",
    "    train_index = vector_train.nonzero()[1]\n",
    "    if measure == \"Cosine\":\n",
    "        vector_predict = matrix_V.dot(vector_u)\n",
    "    else:\n",
    "            vector_predict = -np.sum(np.square(matrix_V - vector_u), axis=1)\n",
    "    if bias is not None:\n",
    "            vector_predict = vector_predict + bias\n",
    "\n",
    "    if gpu:\n",
    "        import cupy as cp\n",
    "        candidate_index = cp.argpartition(-vector_predict, topK+len(train_index))[:topK+len(train_index)]\n",
    "        vector_predict = candidate_index[vector_predict[candidate_index].argsort()[::-1]]\n",
    "        vector_predict = cp.asnumpy(vector_predict).astype(np.float32)\n",
    "    else:\n",
    "        candidate_index = np.argpartition(-vector_predict, topK+len(train_index))[:topK+len(train_index)]\n",
    "        vector_predict = candidate_index[vector_predict[candidate_index].argsort()[::-1]]\n",
    "    vector_predict = np.delete(vector_predict, np.isin(vector_predict, train_index).nonzero()[0])\n",
    "\n",
    "    return vector_predict[:topK]"
   ]
  },
  {
   "cell_type": "markdown",
   "id": "760dd7fbd44f2287",
   "metadata": {
    "id": "760dd7fbd44f2287"
   },
   "source": [
    "ALS Algorithm"
   ]
  },
  {
   "cell_type": "code",
   "execution_count": 12,
   "id": "beb1a21853fdd22",
   "metadata": {
    "id": "beb1a21853fdd22"
   },
   "outputs": [],
   "source": [
    "# figure out if you need this function\n",
    "def get_cold(matrix_coo, m, n):\n",
    "    warm_rows = np.unique(matrix_coo.row)\n",
    "    warm_cols = np.unique(matrix_coo.col)\n",
    "\n",
    "    mask = np.ones(m, np.bool)\n",
    "    mask[warm_rows] = 0\n",
    "    cold_rows = np.nonzero(mask)\n",
    "\n",
    "    mask = np.ones(n, np.bool)\n",
    "    mask[warm_cols] = 0\n",
    "    cold_cols = np.nonzero(mask)\n",
    "\n",
    "    return cold_rows, cold_cols\n",
    "\n",
    "\n",
    "# Hint: use this solver\n",
    "def linear_solve(R, X, H, lam, rank, alpha):\n",
    "    \"\"\"\n",
    "    Linear function solver, in the form R = XH^T with weighted loss\n",
    "    \"\"\"\n",
    "    HT = torch.transpose(H, 0, 1)\n",
    "    matrix_A = torch.mm(HT, H) + torch.eye(rank)*lam\n",
    "\n",
    "    for i in tqdm(range(R.shape[1])):\n",
    "        vector_r = R[:, i]\n",
    "        vector_x = sub_routine(vector_r, matrix_A, H, alpha)\n",
    "        X[i] = vector_x\n",
    "\n",
    "\n",
    "def sub_routine(vector_r, matrix_A, matrix_B, alpha):\n",
    "    vector_r_index = torch.tensor(vector_r.nonzero()[0]).type(torch.long)\n",
    "    vector_r_small = torch.tensor(vector_r.data).float()\n",
    "    vector_c_small = alpha * vector_r_small\n",
    "    matrix_B_small = matrix_B[vector_r_index]\n",
    "    matrix_BT_small = torch.transpose(matrix_B_small, 0, 1)\n",
    "    denominator = torch.inverse(matrix_A+torch.mm((torch.mul(matrix_BT_small, vector_c_small)), matrix_B_small))\n",
    "    return torch.flatten(torch.mv(torch.mm(denominator, matrix_BT_small), torch.mul(vector_c_small, vector_r_small)+vector_r_small))"
   ]
  },
  {
   "cell_type": "code",
   "execution_count": 13,
   "id": "c3d4cf627420dbd9",
   "metadata": {
    "ExecuteTime": {
     "end_time": "2024-06-01T04:03:29.780301Z",
     "start_time": "2024-06-01T04:03:29.750231Z"
    },
    "id": "c3d4cf627420dbd9"
   },
   "outputs": [],
   "source": [
    "def als(matrix_train,\n",
    "        embeded_matrix=np.empty((0)),\n",
    "        iteration=4,\n",
    "        lam=80,\n",
    "        rank=200,\n",
    "        alpha=100,\n",
    "        seed=1,\n",
    "        **unused):\n",
    "    \"\"\"\n",
    "    :param matrix_train: rating matrix\n",
    "    :param embeded_matrix: item or user embedding matrix(side info)\n",
    "    :param iteration: number of alternative solving\n",
    "    :param lam: regularization parameter\n",
    "    :param rank: latent dimention\n",
    "    :param alpha: re-weighting parameter\n",
    "    :param gpu: GPU computation or CPU computation. GPU usually does 2X speed of CPU\n",
    "    :param seed: Random initialization seed\n",
    "    :return:\n",
    "    \"\"\"\n",
    "\n",
    "    matrix_input = matrix_train\n",
    "    if embeded_matrix.shape[0] > 0:\n",
    "        matrix_input = vstack((matrix_input, embeded_matrix.T))\n",
    "\n",
    "    m, n =matrix_train.shape\n",
    "\n",
    "    ######## initialize user and item representations ###########\n",
    "    ## as per hint in the tutorial, using svd for better starting point\n",
    "    U_init, sigma_init, Vt_init = randomized_svd(matrix_input, n_components=rank, random_state=seed)\n",
    "    U = torch.from_numpy(U_init).float()\n",
    "    V = torch.from_numpy(Vt_init.T).float()\n",
    "\n",
    "\n",
    "    ######################### END ###############################\n",
    "\n",
    "    for i in range(iteration):\n",
    "        ######## update user embeddings and item embeddings ##########\n",
    "        # user embeddings\n",
    "        linear_solve(matrix_train.T, U, V, lam, rank, alpha)\n",
    "        # item embeddings\n",
    "        linear_solve(matrix_train, V, U, lam, rank, alpha)\n",
    "        ######################### END ###############################\n",
    "\n",
    "    return U.numpy(), V.numpy().T, None\n"
   ]
  },
  {
   "cell_type": "markdown",
   "id": "2f32c5b4adb1d8b9",
   "metadata": {
    "id": "2f32c5b4adb1d8b9"
   },
   "source": [
    "Define variables to run algorithm"
   ]
  },
  {
   "cell_type": "code",
   "execution_count": 14,
   "id": "c14b57d80c8f6a10",
   "metadata": {
    "ExecuteTime": {
     "end_time": "2024-06-01T04:52:07.019786Z",
     "start_time": "2024-06-01T04:52:06.999783Z"
    },
    "id": "c14b57d80c8f6a10"
   },
   "outputs": [],
   "source": [
    "iteration=4\n",
    "lam=80\n",
    "rank=200\n",
    "alpha=100\n",
    "topK=10\n",
    "sim_measure = 'Cosine'"
   ]
  },
  {
   "cell_type": "markdown",
   "id": "dddf76694d848c3f",
   "metadata": {
    "id": "dddf76694d848c3f"
   },
   "source": [
    "Run ALS algorithm"
   ]
  },
  {
   "cell_type": "code",
   "execution_count": 15,
   "id": "24d171cd704a3d95",
   "metadata": {
    "id": "24d171cd704a3d95"
   },
   "outputs": [
    {
     "name": "stderr",
     "output_type": "stream",
     "text": [
      "100%|████████████████████████████████████████████████████████████████████████| 138362/138362 [01:40<00:00, 1377.93it/s]\n",
      "100%|████████████████████████████████████████████████████████████████████████████| 22884/22884 [04:06<00:00, 92.99it/s]\n",
      "100%|████████████████████████████████████████████████████████████████████████| 138362/138362 [01:45<00:00, 1316.75it/s]\n",
      "100%|████████████████████████████████████████████████████████████████████████████| 22884/22884 [04:07<00:00, 92.59it/s]\n",
      "100%|████████████████████████████████████████████████████████████████████████| 138362/138362 [01:41<00:00, 1362.40it/s]\n",
      "100%|████████████████████████████████████████████████████████████████████████████| 22884/22884 [04:04<00:00, 93.59it/s]\n",
      "100%|████████████████████████████████████████████████████████████████████████| 138362/138362 [01:42<00:00, 1344.34it/s]\n",
      "100%|████████████████████████████████████████████████████████████████████████████| 22884/22884 [04:05<00:00, 93.32it/s]\n"
     ]
    }
   ],
   "source": [
    "RQ, Yt, Bias = als(rtrain, embeded_matrix=np.empty((0)),\n",
    "                                  iteration=iteration, rank=rank,\n",
    "                                  lam=lam, alpha=alpha)\n",
    "Y = Yt.T"
   ]
  },
  {
   "cell_type": "markdown",
   "id": "f0634510088ac910",
   "metadata": {
    "id": "f0634510088ac910"
   },
   "source": [
    "Make Predictions"
   ]
  },
  {
   "cell_type": "code",
   "execution_count": 16,
   "id": "51d442085cff6d97",
   "metadata": {
    "id": "51d442085cff6d97"
   },
   "outputs": [
    {
     "name": "stderr",
     "output_type": "stream",
     "text": [
      "100%|█████████████████████████████████████████████████████████████████████████| 138362/138362 [18:37<00:00, 123.78it/s]\n"
     ]
    }
   ],
   "source": [
    "prediction = predict(matrix_U=RQ,\n",
    "                     matrix_V=Y,\n",
    "                     bias=Bias,\n",
    "                     topK=topK,\n",
    "                     matrix_Train=rtrain,\n",
    "                     measure=sim_measure)"
   ]
  },
  {
   "cell_type": "markdown",
   "id": "fcabdf6345e78e65",
   "metadata": {
    "id": "fcabdf6345e78e65"
   },
   "source": [
    "### (a) In the tutorial, we performed matrix factorization. Insert the necessary code in the designated section to achieve this. (3 pt)"
   ]
  },
  {
   "cell_type": "markdown",
   "id": "88237c90-2fc4-4c4f-9212-86582e079c07",
   "metadata": {},
   "source": [
    "The ALS code is already inserted in the above cells."
   ]
  },
  {
   "cell_type": "markdown",
   "id": "2c8eed96-679d-4754-9086-7292b69bc1bf",
   "metadata": {},
   "source": [
    "### (b) To evaluate performance, several metrics are used. Some of these metrics are already completed. You need to finish the Precision and Recall metrics code in the designated section to achieve this. (3 Pt)"
   ]
  },
  {
   "cell_type": "markdown",
   "id": "ed1d6c07847fa7a9",
   "metadata": {
    "id": "ed1d6c07847fa7a9"
   },
   "source": [
    "Implemented in the below cell."
   ]
  },
  {
   "cell_type": "code",
   "execution_count": 17,
   "id": "7cdd00d6b11b7811",
   "metadata": {
    "ExecuteTime": {
     "end_time": "2024-06-01T04:58:42.386204Z",
     "start_time": "2024-06-01T04:58:42.368202Z"
    },
    "id": "7cdd00d6b11b7811"
   },
   "outputs": [],
   "source": [
    "def recallk(vector_true_dense, hits, **unused):\n",
    "    ######### implement recall@k ##########\n",
    "    # Recall@k = (# of recommended items that are relevant) / (total # of relevant items)\n",
    "    num_hits = np.sum(hits)\n",
    "    num_relevant = len(vector_true_dense)\n",
    "    if num_relevant == 0:\n",
    "        return 0.0\n",
    "    return float(num_hits) / num_relevant\n",
    "    ################# END ###############################\n",
    "\n",
    "def precisionk(vector_predict, hits, **unused):\n",
    "    ######### implement precision@k ##########\n",
    "    # Precision@k = (# of recommended items that are relevant) / (# of recommended items)\n",
    "    num_hits = np.sum(hits)\n",
    "    k = len(vector_predict)\n",
    "    if k == 0:\n",
    "        return 0.0\n",
    "    return float(num_hits) / k\n",
    "    ################# END ###############################\n",
    "\n",
    "\n",
    "def average_precisionk(vector_predict, hits, **unused):\n",
    "    precisions = np.cumsum(hits, dtype=np.float32)/range(1, len(vector_predict)+1)\n",
    "    return np.mean(precisions)\n",
    "\n",
    "\n",
    "def r_precision(vector_true_dense, vector_predict, **unused):\n",
    "    vector_predict_short = vector_predict[:len(vector_true_dense)]\n",
    "    hits = len(np.isin(vector_predict_short, vector_true_dense).nonzero()[0])\n",
    "    return float(hits)/len(vector_true_dense)\n",
    "\n",
    "\n",
    "def _dcg_support(size):\n",
    "    arr = np.arange(1, size+1)+1\n",
    "    return 1./np.log2(arr)\n",
    "\n",
    "\n",
    "def ndcg(vector_true_dense, vector_predict, hits):\n",
    "    idcg = np.sum(_dcg_support(len(vector_true_dense)))\n",
    "    dcg_base = _dcg_support(len(vector_predict))\n",
    "    dcg_base[np.logical_not(hits)] = 0\n",
    "    dcg = np.sum(dcg_base)\n",
    "    return dcg/idcg\n",
    "\n",
    "\n",
    "def click(hits, **unused):\n",
    "    first_hit = next((i for i, x in enumerate(hits) if x), None)\n",
    "    if first_hit is None:\n",
    "        return 5\n",
    "    else:\n",
    "        return first_hit/10"
   ]
  },
  {
   "cell_type": "markdown",
   "id": "740043e6f4cdd451",
   "metadata": {
    "id": "740043e6f4cdd451"
   },
   "source": [
    "Function to Evaluate"
   ]
  },
  {
   "cell_type": "code",
   "execution_count": 18,
   "id": "24ac6bdfdfb6bdec",
   "metadata": {
    "ExecuteTime": {
     "end_time": "2024-06-01T04:58:50.116716Z",
     "start_time": "2024-06-01T04:58:50.083709Z"
    },
    "id": "24ac6bdfdfb6bdec"
   },
   "outputs": [],
   "source": [
    "def evaluate(matrix_Predict, matrix_Test, metric_names, atK, analytical=False):\n",
    "    \"\"\"\n",
    "    :param matrix_U: Latent representations of users, for LRecs it is RQ, for ALSs it is U\n",
    "    :param matrix_V: Latent representations of items, for LRecs it is Q, for ALSs it is V\n",
    "    :param matrix_Train: Rating matrix for training, features.\n",
    "    :param matrix_Test: Rating matrix for evaluation, true labels.\n",
    "    :param k: Top K retrieval\n",
    "    :param metric_names: Evaluation metrics\n",
    "    :return:\n",
    "    \"\"\"\n",
    "    global_metrics = {\n",
    "        \"R-Precision\": r_precision,\n",
    "        \"NDCG\": ndcg,\n",
    "        \"Clicks\": click\n",
    "    }\n",
    "\n",
    "    local_metrics = {\n",
    "        \"Precision\": precisionk,\n",
    "        \"Recall\": recallk,\n",
    "        \"MAP\": average_precisionk\n",
    "    }\n",
    "\n",
    "    output = dict()\n",
    "\n",
    "    num_users = matrix_Predict.shape[0]\n",
    "\n",
    "    for k in atK:\n",
    "\n",
    "        local_metric_names = list(set(metric_names).intersection(local_metrics.keys()))\n",
    "        results = {name: [] for name in local_metric_names}\n",
    "        topK_Predict = matrix_Predict[:, :k]\n",
    "\n",
    "        for user_index in tqdm(range(topK_Predict.shape[0])):\n",
    "            vector_predict = topK_Predict[user_index]\n",
    "            if len(vector_predict.nonzero()[0]) > 0:\n",
    "                vector_true = matrix_Test[user_index]\n",
    "                vector_true_dense = vector_true.nonzero()[1]\n",
    "                hits = np.isin(vector_predict, vector_true_dense)\n",
    "\n",
    "                if vector_true_dense.size > 0:\n",
    "                    for name in local_metric_names:\n",
    "                        results[name].append(local_metrics[name](vector_true_dense=vector_true_dense,\n",
    "                                                                 vector_predict=vector_predict,\n",
    "                                                                 hits=hits))\n",
    "\n",
    "        results_summary = dict()\n",
    "        if analytical:\n",
    "            for name in local_metric_names:\n",
    "                results_summary['{0}@{1}'.format(name, k)] = results[name]\n",
    "        else:\n",
    "            for name in local_metric_names:\n",
    "                results_summary['{0}@{1}'.format(name, k)] = (np.average(results[name]),\n",
    "                                                              1.96*np.std(results[name])/np.sqrt(num_users))\n",
    "        output.update(results_summary)\n",
    "\n",
    "    global_metric_names = list(set(metric_names).intersection(global_metrics.keys()))\n",
    "    results = {name: [] for name in global_metric_names}\n",
    "\n",
    "    topK_Predict = matrix_Predict[:]\n",
    "\n",
    "    for user_index in tqdm(range(topK_Predict.shape[0])):\n",
    "        vector_predict = topK_Predict[user_index]\n",
    "\n",
    "        if len(vector_predict.nonzero()[0]) > 0:\n",
    "            vector_true = matrix_Test[user_index]\n",
    "            vector_true_dense = vector_true.nonzero()[1]\n",
    "            hits = np.isin(vector_predict, vector_true_dense)\n",
    "\n",
    "\n",
    "            if vector_true_dense.size > 0:\n",
    "                for name in global_metric_names:\n",
    "                    results[name].append(global_metrics[name](vector_true_dense=vector_true_dense,\n",
    "                                                              vector_predict=vector_predict,\n",
    "                                                              hits=hits))\n",
    "\n",
    "    results_summary = dict()\n",
    "    if analytical:\n",
    "        for name in global_metric_names:\n",
    "            results_summary[name] = results[name]\n",
    "    else:\n",
    "        for name in global_metric_names:\n",
    "            results_summary[name] = (np.average(results[name]), 1.96*np.std(results[name])/np.sqrt(num_users))\n",
    "    output.update(results_summary)\n",
    "\n",
    "    return output"
   ]
  },
  {
   "cell_type": "markdown",
   "id": "10997e0ed06bca0a",
   "metadata": {
    "id": "10997e0ed06bca0a"
   },
   "source": [
    "### (c) Run your implemented matrix factorization model on the movielens 20M dataset. Answer the following questions:"
   ]
  },
  {
   "cell_type": "markdown",
   "id": "b5f4db23-ab2a-43bf-bf49-7fff3e8a6387",
   "metadata": {},
   "source": [
    "#### i. Show the performance of your matrix factorization implementation. (2 Pt)"
   ]
  },
  {
   "cell_type": "code",
   "execution_count": 19,
   "id": "2d46724227174c19",
   "metadata": {
    "id": "2d46724227174c19"
   },
   "outputs": [
    {
     "name": "stderr",
     "output_type": "stream",
     "text": [
      "100%|████████████████████████████████████████████████████████████████████████| 138362/138362 [00:24<00:00, 5711.68it/s]\n",
      "100%|████████████████████████████████████████████████████████████████████████| 138362/138362 [00:34<00:00, 4008.45it/s]"
     ]
    },
    {
     "name": "stdout",
     "output_type": "stream",
     "text": [
      "-\n",
      "Precision@10:(np.float64(0.06252387014640357), np.float64(0.00048111542107859203))\n",
      "Recall@10:(np.float64(0.06698276320316092), np.float64(0.0007027229213123207))\n",
      "NDCG:(np.float64(0.06240295872855938), np.float64(0.0005948091788378082))\n",
      "R-Precision:(np.float64(0.04359685986221302), np.float64(0.0004754638705294919))\n",
      "Clicks:(np.float64(3.0722151495862513), np.float64(0.012132894403696292))\n",
      "Elapsed: 58.832759618759155\n"
     ]
    },
    {
     "name": "stderr",
     "output_type": "stream",
     "text": [
      "\n"
     ]
    }
   ],
   "source": [
    "import time\n",
    "\n",
    "start_time = time.time()\n",
    "\n",
    "metric_names = ['R-Precision', 'NDCG', 'Clicks', 'Recall', 'Precision']\n",
    "\n",
    "result = evaluate(prediction, rvalid, metric_names, atK=[topK])\n",
    "print(\"-\")\n",
    "for metric in result.keys():\n",
    "    print(\"{0}:{1}\".format(metric, result[metric]))\n",
    "print(\"Elapsed: {0}\".format(time.time() - start_time))"
   ]
  },
  {
   "cell_type": "markdown",
   "id": "9f96c403-3c43-4b91-bb69-946ba7bbedfa",
   "metadata": {},
   "source": [
    "The performance of the ALS matrix factorization implementation on MovieLens-20M dataset with `rank=200`, `λ=80`, `α=100`, and `4 iterations` is given by the following image (screenshot given in case my notebook kernel crashesh):\n",
    "\n",
    "<img src=\"image/ALS-SVDinit-q3-c-i.png\" alt=\"image\" width=\"750\" height=\"550\"/>\n",
    "\n",
    "My Analysis:\n",
    "\n",
    "  * Since `recall@10` is `~6.6%`, the model recommends about **6% of items users will like in the top-10 recommendations**\n",
    "  * `Precision@10` of `~6.2%` means **roughly 1 out of every 16 recommendations is relevant**\n",
    "  * `Execution time` is good compared to traditional collaborative filtering we saw in assigment 1 (colaborative filtering)\n",
    "  * `NDCG` of 0.062 means **ranking quality still has chance to be improved** (it needs hyperparameter tunning). I think this shows the loss due to using implicit user interactions rather than explicit user ratings."
   ]
  },
  {
   "cell_type": "markdown",
   "id": "f9ca6186d503a1ee",
   "metadata": {
    "id": "f9ca6186d503a1ee"
   },
   "source": [
    "#### ii. Tune number of iterations and show how much iterations needed to converge the training. Show loss curve. (You may need to modify the code) (4 Pt)"
   ]
  },
  {
   "cell_type": "markdown",
   "id": "5f4c6276ea7f4235",
   "metadata": {
    "id": "5f4c6276ea7f4235"
   },
   "source": [
    "First I modified the als code to track the loss. I used sampled RMSE becuase my kernel kept crashing."
   ]
  },
  {
   "cell_type": "code",
   "execution_count": 20,
   "id": "7ff1ec70-0e65-4bd7-a76e-c4995290f290",
   "metadata": {},
   "outputs": [],
   "source": [
    "def als_with_rmse_tracking(matrix_train,\n",
    "        embeded_matrix=np.empty((0)),\n",
    "        iteration=4,\n",
    "        lam=80,\n",
    "        rank=200,\n",
    "        alpha=100,\n",
    "        seed=1,\n",
    "        **unused):\n",
    "    \"\"\"\n",
    "    ALS with RMSE tracking on a sample for efficiency\n",
    "    \"\"\"\n",
    "    matrix_input = matrix_train\n",
    "    if embeded_matrix.shape[0] > 0:\n",
    "        matrix_input = vstack((matrix_input, embeded_matrix.T))\n",
    "    \n",
    "    m, n = matrix_train.shape\n",
    "    \n",
    "    # Initialize\n",
    "    # np.random.seed(seed)\n",
    "    # U = np.random.randn(m, rank) * 0.01\n",
    "    # V = np.random.randn(n, rank) * 0.01\n",
    "    # U = torch.from_numpy(U).float()\n",
    "    # V = torch.from_numpy(V).float()\n",
    "    U_init, sigma_init, Vt_init = randomized_svd(matrix_input, n_components=rank, random_state=seed)\n",
    "    U = torch.from_numpy(U_init).float()\n",
    "    V = torch.from_numpy(Vt_init.T).float()\n",
    "    \n",
    "    rmse_values = []\n",
    "    \n",
    "    # Sample 10000 entries for RMSE calculation\n",
    "    train_coo = matrix_train.tocoo()\n",
    "    sample_size = min(10000, len(train_coo.data))\n",
    "    sample_indices = np.random.choice(len(train_coo.data), sample_size, replace=False)\n",
    "    \n",
    "    sample_users = train_coo.row[sample_indices]\n",
    "    sample_items = train_coo.col[sample_indices]\n",
    "    sample_values = train_coo.data[sample_indices]\n",
    "    \n",
    "    for i in range(iteration):\n",
    "        print(f\"Iteration {i+1}/{iteration}\")\n",
    "        \n",
    "        # Update user embeddings\n",
    "        linear_solve(matrix_train.T, U, V, lam, rank, alpha)\n",
    "        \n",
    "        # Update item embeddings\n",
    "        linear_solve(matrix_train, V, U, lam, rank, alpha)\n",
    "        \n",
    "        # Calculate RMSE on sample\n",
    "        U_np = U.detach().numpy()\n",
    "        V_np = V.detach().numpy()\n",
    "        \n",
    "        predictions = np.sum(U_np[sample_users] * V_np[sample_items], axis=1)\n",
    "        rmse = np.sqrt(np.mean((sample_values - predictions) ** 2))\n",
    "        rmse_values.append(rmse)\n",
    "        \n",
    "        print(f\"RMSE (sampled): {rmse:.4f}\")\n",
    "    \n",
    "    return U.numpy(), V.numpy().T, None, rmse_values"
   ]
  },
  {
   "cell_type": "markdown",
   "id": "14a10c57-cd1a-4543-885d-498b037ea9a9",
   "metadata": {},
   "source": [
    "Running experiment with the function"
   ]
  },
  {
   "cell_type": "code",
   "execution_count": 21,
   "id": "98cdc7cc-73fb-4565-8408-d630b3a28cf1",
   "metadata": {},
   "outputs": [
    {
     "name": "stdout",
     "output_type": "stream",
     "text": [
      "\n",
      "==================================================\n",
      "Testing for iterations=2 \n",
      "==================================================\n",
      "Iteration 1/2\n"
     ]
    },
    {
     "name": "stderr",
     "output_type": "stream",
     "text": [
      "100%|████████████████████████████████████████████████████████████████████████| 138362/138362 [01:44<00:00, 1328.85it/s]\n",
      "100%|████████████████████████████████████████████████████████████████████████████| 22884/22884 [04:04<00:00, 93.44it/s]\n"
     ]
    },
    {
     "name": "stdout",
     "output_type": "stream",
     "text": [
      "RMSE (sampled): 0.3163\n",
      "Iteration 2/2\n"
     ]
    },
    {
     "name": "stderr",
     "output_type": "stream",
     "text": [
      "100%|████████████████████████████████████████████████████████████████████████| 138362/138362 [01:35<00:00, 1445.82it/s]\n",
      "100%|████████████████████████████████████████████████████████████████████████████| 22884/22884 [04:14<00:00, 89.96it/s]\n"
     ]
    },
    {
     "name": "stdout",
     "output_type": "stream",
     "text": [
      "RMSE (sampled): 0.1705\n"
     ]
    },
    {
     "name": "stderr",
     "output_type": "stream",
     "text": [
      "100%|█████████████████████████████████████████████████████████████████████████| 138362/138362 [18:27<00:00, 124.91it/s]\n",
      "100%|████████████████████████████████████████████████████████████████████████| 138362/138362 [00:24<00:00, 5678.01it/s]\n",
      "100%|████████████████████████████████████████████████████████████████████████| 138362/138362 [00:27<00:00, 5111.14it/s]\n"
     ]
    },
    {
     "name": "stdout",
     "output_type": "stream",
     "text": [
      "Final Loss: 0.1705363243818283\n",
      "Recall@10: 0.0620\n",
      "NDCG: 0.0577\n",
      "Training Time: 712.43s\n",
      "\n",
      "==================================================\n",
      "Testing for iterations=4 \n",
      "==================================================\n",
      "Iteration 1/4\n"
     ]
    },
    {
     "name": "stderr",
     "output_type": "stream",
     "text": [
      "100%|████████████████████████████████████████████████████████████████████████| 138362/138362 [01:34<00:00, 1460.49it/s]\n",
      "100%|████████████████████████████████████████████████████████████████████████████| 22884/22884 [04:04<00:00, 93.64it/s]\n"
     ]
    },
    {
     "name": "stdout",
     "output_type": "stream",
     "text": [
      "RMSE (sampled): 0.3219\n",
      "Iteration 2/4\n"
     ]
    },
    {
     "name": "stderr",
     "output_type": "stream",
     "text": [
      "100%|████████████████████████████████████████████████████████████████████████| 138362/138362 [01:33<00:00, 1484.93it/s]\n",
      "100%|████████████████████████████████████████████████████████████████████████████| 22884/22884 [04:05<00:00, 93.23it/s]\n"
     ]
    },
    {
     "name": "stdout",
     "output_type": "stream",
     "text": [
      "RMSE (sampled): 0.1731\n",
      "Iteration 3/4\n"
     ]
    },
    {
     "name": "stderr",
     "output_type": "stream",
     "text": [
      "100%|████████████████████████████████████████████████████████████████████████| 138362/138362 [01:47<00:00, 1292.72it/s]\n",
      "100%|████████████████████████████████████████████████████████████████████████████| 22884/22884 [04:05<00:00, 93.34it/s]\n"
     ]
    },
    {
     "name": "stdout",
     "output_type": "stream",
     "text": [
      "RMSE (sampled): 0.1505\n",
      "Iteration 4/4\n"
     ]
    },
    {
     "name": "stderr",
     "output_type": "stream",
     "text": [
      "100%|████████████████████████████████████████████████████████████████████████| 138362/138362 [01:43<00:00, 1335.48it/s]\n",
      "100%|████████████████████████████████████████████████████████████████████████████| 22884/22884 [04:05<00:00, 93.35it/s]\n"
     ]
    },
    {
     "name": "stdout",
     "output_type": "stream",
     "text": [
      "RMSE (sampled): 0.1412\n"
     ]
    },
    {
     "name": "stderr",
     "output_type": "stream",
     "text": [
      "100%|█████████████████████████████████████████████████████████████████████████| 138362/138362 [18:16<00:00, 126.16it/s]\n",
      "100%|████████████████████████████████████████████████████████████████████████| 138362/138362 [00:24<00:00, 5709.01it/s]\n",
      "100%|████████████████████████████████████████████████████████████████████████| 138362/138362 [00:28<00:00, 4897.91it/s]\n"
     ]
    },
    {
     "name": "stdout",
     "output_type": "stream",
     "text": [
      "Final Loss: 0.1412123292684555\n",
      "Recall@10: 0.0670\n",
      "NDCG: 0.0624\n",
      "Training Time: 1392.20s\n",
      "\n",
      "==================================================\n",
      "Testing for iterations=6 \n",
      "==================================================\n",
      "Iteration 1/6\n"
     ]
    },
    {
     "name": "stderr",
     "output_type": "stream",
     "text": [
      "100%|████████████████████████████████████████████████████████████████████████| 138362/138362 [01:54<00:00, 1207.35it/s]\n",
      "100%|████████████████████████████████████████████████████████████████████████████| 22884/22884 [04:06<00:00, 92.84it/s]\n"
     ]
    },
    {
     "name": "stdout",
     "output_type": "stream",
     "text": [
      "RMSE (sampled): 0.3196\n",
      "Iteration 2/6\n"
     ]
    },
    {
     "name": "stderr",
     "output_type": "stream",
     "text": [
      "100%|████████████████████████████████████████████████████████████████████████| 138362/138362 [01:46<00:00, 1304.83it/s]\n",
      "100%|████████████████████████████████████████████████████████████████████████████| 22884/22884 [04:08<00:00, 92.08it/s]\n"
     ]
    },
    {
     "name": "stdout",
     "output_type": "stream",
     "text": [
      "RMSE (sampled): 0.1732\n",
      "Iteration 3/6\n"
     ]
    },
    {
     "name": "stderr",
     "output_type": "stream",
     "text": [
      "100%|████████████████████████████████████████████████████████████████████████| 138362/138362 [01:42<00:00, 1348.91it/s]\n",
      "100%|████████████████████████████████████████████████████████████████████████████| 22884/22884 [04:03<00:00, 93.96it/s]\n"
     ]
    },
    {
     "name": "stdout",
     "output_type": "stream",
     "text": [
      "RMSE (sampled): 0.1508\n",
      "Iteration 4/6\n"
     ]
    },
    {
     "name": "stderr",
     "output_type": "stream",
     "text": [
      "100%|████████████████████████████████████████████████████████████████████████| 138362/138362 [01:44<00:00, 1322.50it/s]\n",
      "100%|████████████████████████████████████████████████████████████████████████████| 22884/22884 [04:02<00:00, 94.25it/s]\n"
     ]
    },
    {
     "name": "stdout",
     "output_type": "stream",
     "text": [
      "RMSE (sampled): 0.1410\n",
      "Iteration 5/6\n"
     ]
    },
    {
     "name": "stderr",
     "output_type": "stream",
     "text": [
      "100%|████████████████████████████████████████████████████████████████████████| 138362/138362 [01:41<00:00, 1363.07it/s]\n",
      "100%|████████████████████████████████████████████████████████████████████████████| 22884/22884 [04:05<00:00, 93.16it/s]\n"
     ]
    },
    {
     "name": "stdout",
     "output_type": "stream",
     "text": [
      "RMSE (sampled): 0.1352\n",
      "Iteration 6/6\n"
     ]
    },
    {
     "name": "stderr",
     "output_type": "stream",
     "text": [
      "100%|████████████████████████████████████████████████████████████████████████| 138362/138362 [01:43<00:00, 1331.54it/s]\n",
      "100%|████████████████████████████████████████████████████████████████████████████| 22884/22884 [04:09<00:00, 91.81it/s]\n"
     ]
    },
    {
     "name": "stdout",
     "output_type": "stream",
     "text": [
      "RMSE (sampled): 0.1313\n"
     ]
    },
    {
     "name": "stderr",
     "output_type": "stream",
     "text": [
      "100%|█████████████████████████████████████████████████████████████████████████| 138362/138362 [18:29<00:00, 124.75it/s]\n",
      "100%|████████████████████████████████████████████████████████████████████████| 138362/138362 [00:24<00:00, 5720.73it/s]\n",
      "100%|████████████████████████████████████████████████████████████████████████| 138362/138362 [00:27<00:00, 4941.84it/s]"
     ]
    },
    {
     "name": "stdout",
     "output_type": "stream",
     "text": [
      "Final Loss: 0.1312897950410843\n",
      "Recall@10: 0.0714\n",
      "NDCG: 0.0658\n",
      "Training Time: 2123.01s\n"
     ]
    },
    {
     "name": "stderr",
     "output_type": "stream",
     "text": [
      "\n"
     ]
    }
   ],
   "source": [
    "# Test different iteration counts\n",
    "iteration_counts = [2, 4, 6]\n",
    "all_losses = {}\n",
    "convergence_results = {}\n",
    "\n",
    "for num_iter in iteration_counts:\n",
    "    print(f\"\\n{'='*50}\")\n",
    "    print(f\"Testing for iterations={num_iter} \")\n",
    "    print(f\"{'='*50}\")\n",
    "    \n",
    "    start_time = time.time()\n",
    "    RQ, Yt, Bias, losses = als_with_rmse_tracking(\n",
    "        rtrain, \n",
    "        embeded_matrix=np.empty((0)),\n",
    "        iteration=num_iter, \n",
    "        lam=80, \n",
    "        rank=200, \n",
    "        alpha=100\n",
    "    )\n",
    "    training_time = time.time() - start_time\n",
    "    \n",
    "    # Make predictions\n",
    "    Y = Yt.T\n",
    "    prediction = predict(\n",
    "        matrix_U=RQ,\n",
    "        matrix_V=Y,\n",
    "        bias=Bias,\n",
    "        topK=topK,\n",
    "        matrix_Train=rtrain,\n",
    "        measure=sim_measure\n",
    "    )\n",
    "    \n",
    "    # Evaluate\n",
    "    result = evaluate(prediction, rvalid, ['Recall', 'NDCG'], atK=[10])\n",
    "    \n",
    "    all_losses[num_iter] = losses\n",
    "    convergence_results[num_iter] = {\n",
    "        'losses': losses,\n",
    "        'recall': result['Recall@10'][0],\n",
    "        'ndcg': result['NDCG'][0],\n",
    "        'time': training_time\n",
    "    }\n",
    "    \n",
    "    print(f\"Final Loss: {losses[-1]}\")\n",
    "    print(f\"Recall@10: {result['Recall@10'][0]:.4f}\")\n",
    "    print(f\"NDCG: {result['NDCG'][0]:.4f}\")\n",
    "    print(f\"Training Time: {training_time:.2f}s\")"
   ]
  },
  {
   "cell_type": "markdown",
   "id": "48c6579a-cb38-4c7f-996c-c4a33b1c50a4",
   "metadata": {},
   "source": [
    "Plotting loss curves"
   ]
  },
  {
   "cell_type": "code",
   "execution_count": 24,
   "id": "50a79791-779d-4516-a6d1-083b7cd38f65",
   "metadata": {},
   "outputs": [
    {
     "data": {
      "image/png": "[encoded data removed]",
      "text/plain": [
       "<Figure size 1200x800 with 4 Axes>"
      ]
     },
     "metadata": {},
     "output_type": "display_data"
    }
   ],
   "source": [
    "import matplotlib.pyplot as plt\n",
    "\n",
    "plt.figure(figsize=(12, 8))\n",
    "\n",
    "# Subplot 1: Loss curves for all iteration counts\n",
    "plt.subplot(2, 2, 1)\n",
    "for num_iter, losses in all_losses.items():\n",
    "    plt.plot(range(1, len(losses)+1), losses, marker='o', label=f'{num_iter} iters')\n",
    "plt.xlabel('Iteration')\n",
    "plt.ylabel('Loss')\n",
    "plt.title('Training Loss vs Iterations')\n",
    "plt.legend()\n",
    "plt.grid(True)\n",
    "\n",
    "# Subplot 2: Final loss vs number of iterations\n",
    "plt.subplot(2, 2, 2)\n",
    "final_losses = [convergence_results[n]['losses'][-1] for n in iteration_counts]\n",
    "plt.plot(iteration_counts, final_losses, marker='o', color='red')\n",
    "plt.xlabel('Number of Iterations')\n",
    "plt.ylabel('Final Loss')\n",
    "plt.title('Final Loss vs Number of Iterations')\n",
    "plt.grid(True)\n",
    "\n",
    "# Subplot 3: Performance metrics vs iterations\n",
    "plt.subplot(2, 2, 3)\n",
    "recalls = [convergence_results[n]['recall'] for n in iteration_counts]\n",
    "ndcgs = [convergence_results[n]['ndcg'] for n in iteration_counts]\n",
    "plt.plot(iteration_counts, recalls, marker='o', label='Recall@10')\n",
    "plt.plot(iteration_counts, ndcgs, marker='s', label='NDCG')\n",
    "plt.xlabel('Number of Iterations')\n",
    "plt.ylabel('Metric Value')\n",
    "plt.title('Performance Metrics vs Iterations')\n",
    "plt.legend()\n",
    "plt.grid(True)\n",
    "\n",
    "# Subplot 4: Training time vs iterations\n",
    "plt.subplot(2, 2, 4)\n",
    "times = [convergence_results[n]['time'] for n in iteration_counts]\n",
    "plt.plot(iteration_counts, times, marker='o', color='green')\n",
    "plt.xlabel('Number of Iterations')\n",
    "plt.ylabel('Training Time (seconds)')\n",
    "plt.title('Training Time vs Iterations')\n",
    "plt.grid(True)\n",
    "\n",
    "plt.tight_layout()\n",
    "plt.savefig('als_convergence_analysis.png', dpi=300, bbox_inches='tight')\n",
    "plt.show()"
   ]
  },
  {
   "cell_type": "markdown",
   "id": "4318b70e-df29-423f-a1b4-471c97dd993a",
   "metadata": {},
   "source": [
    "From the plots, we can say after **`iteration=4` provides the most significant improvement in my model** and after that, the improvement starts to become less significant. That is why `iteration=4` can be used as the parameter from training ALS."
   ]
  },
  {
   "cell_type": "markdown",
   "id": "b0216b2fc7b8124d",
   "metadata": {
    "id": "b0216b2fc7b8124d"
   },
   "source": [
    "## Q4 Matrix Factorization- PLRec"
   ]
  },
  {
   "cell_type": "markdown",
   "id": "c824816317f0b1f6",
   "metadata": {
    "id": "c824816317f0b1f6"
   },
   "source": [
    "PLRec Algorithm"
   ]
  },
  {
   "cell_type": "code",
   "execution_count": 84,
   "id": "360757a33d32fa8b",
   "metadata": {
    "id": "360757a33d32fa8b"
   },
   "outputs": [],
   "source": [
    "def plrec(matrix_train, embeded_matrix=np.empty((0)), iteration=4, lam=80, rank=200, seed=1, **unused):\n",
    "    \"\"\"\n",
    "    Function used to achieve generalized projected lrec w/o item-attribute embedding\n",
    "    :param matrix_train: user-item matrix with shape m*n\n",
    "    :param embeded_matrix: item-attribute matrix with length n (each row represents one item)\n",
    "    :param lam: parameter of penalty\n",
    "    :param k_factor: ratio of the latent dimension/number of items\n",
    "    :return: prediction in sparse matrix\n",
    "    \"\"\"\n",
    "    matrix_input = matrix_train\n",
    "    if embeded_matrix.shape[0] > 0:\n",
    "        matrix_input = vstack((matrix_input, embeded_matrix.T))\n",
    "\n",
    "\n",
    "    P, sigma, Qt = randomized_svd(matrix_input,\n",
    "                                  n_components=rank,\n",
    "                                  n_iter=iteration,\n",
    "                                  random_state=seed)\n",
    "\n",
    "    RQ = matrix_input.dot(sparse.csc_matrix(Qt.T*np.sqrt(sigma)))\n",
    "\n",
    "    print(\"RQ shape:\", RQ.shape)\n",
    "    print(\"P shape:\", P.shape)\n",
    "    print(\"sigma shape:\", sigma.shape)\n",
    "    print(\"Qt shape:\", Qt.shape)\n",
    "\n",
    "\n",
    "\n",
    "    start_time = time.time()\n",
    "    pre_inv = RQ.T.dot(RQ) + lam * sparse.identity(rank, dtype=np.float32)\n",
    "    inverse = inv(pre_inv)\n",
    "    Y = inverse.dot(RQ.T).dot(matrix_input)\n",
    "    print(\"Elapsed: {0}\".format(time.time() - start_time))\n",
    "    return np.array(RQ.todense()), np.array(Y.todense()), None\n"
   ]
  },
  {
   "cell_type": "markdown",
   "id": "76d0fd1e-1564-48bd-b61c-7ac6eb10e487",
   "metadata": {},
   "source": [
    "### a) In this question we are going to solve Matrix Factorization (MF) using another algorithm, named as Projected Linear Recommendation (PLRec). The code for the assignment is provided. You need to predict and evaluate performance. Insert the necessary code in the designated section to make predictions. Run your implemented matrix factorization model on the movielens 20M dataset. (2 Pt)"
   ]
  },
  {
   "cell_type": "code",
   "execution_count": 85,
   "id": "eab93557-9d04-4663-b39d-39b12436a600",
   "metadata": {},
   "outputs": [],
   "source": [
    "# Parameters for PLRec\n",
    "iteration = 4\n",
    "lam = 80\n",
    "rank = 200\n",
    "topK = 10\n",
    "sim_measure = 'Cosine'"
   ]
  },
  {
   "cell_type": "code",
   "execution_count": 86,
   "id": "6abdba63-57e2-412e-bbdf-b44f8b9ffb00",
   "metadata": {},
   "outputs": [
    {
     "name": "stdout",
     "output_type": "stream",
     "text": [
      "RQ shape: (138362, 200)\n",
      "P shape: (138362, 200)\n",
      "sigma shape: (200,)\n",
      "Qt shape: (200, 22884)\n",
      "Elapsed: 21.447603225708008\n",
      "\n",
      "PLRec Training completed in 33.73 seconds\n"
     ]
    }
   ],
   "source": [
    "# Run experiment\n",
    "start_time = time.time()\n",
    "RQ_plrec, Y_plrec, Bias_plrec = plrec(\n",
    "    rtrain, \n",
    "    embeded_matrix=np.empty((0)),\n",
    "    iteration=iteration, \n",
    "    lam=lam, \n",
    "    rank=rank, \n",
    "    seed=1\n",
    ")\n",
    "training_time = time.time() - start_time\n",
    "\n",
    "print(f\"\\nPLRec Training completed in {training_time:.2f} seconds\")"
   ]
  },
  {
   "cell_type": "code",
   "execution_count": 89,
   "id": "5cd8d816-f3a9-430e-ae87-cb3c1a8fedb2",
   "metadata": {},
   "outputs": [
    {
     "name": "stdout",
     "output_type": "stream",
     "text": [
      "\n",
      "Predictions using the PLRec model...\n"
     ]
    },
    {
     "name": "stderr",
     "output_type": "stream",
     "text": [
      "100%|█████████████████████████████████████████████████████████████████████████| 138362/138362 [03:40<00:00, 627.60it/s]\n"
     ]
    },
    {
     "name": "stdout",
     "output_type": "stream",
     "text": [
      "Predictions completed in 220.68 seconds\n",
      "\n",
      "Sample Predictions (Top 5 items for first 5 users):\n",
      "--------------------------------------------------\n",
      "User 0: [ 950 1896 6726 8143 1313]\n",
      "User 1: [ 905 3382 1341  886 1174]\n",
      "User 2: [1205 2712 1066  885 1361]\n",
      "User 3: [ 496  183  581  363 1660]\n",
      "User 4: [791  10 504 788 591]\n"
     ]
    }
   ],
   "source": [
    "print(\"\\nPredictions using the PLRec model...\")\n",
    "start_time = time.time()\n",
    "prediction_plrec = predict(\n",
    "    matrix_U=RQ_plrec,\n",
    "    matrix_V=Y_plrec.T,\n",
    "    bias=Bias_plrec,\n",
    "    topK=topK,\n",
    "    matrix_Train=rtrain,\n",
    "    measure=sim_measure\n",
    ")\n",
    "prediction_time = time.time() - start_time\n",
    "print(f\"Predictions completed in {prediction_time:.2f} seconds\")\n",
    "\n",
    "# Sample predictions for first 5 users\n",
    "print(\"\\nSample Predictions (Top 5 items for first 5 users):\")\n",
    "print(\"-\"*50)\n",
    "for user_idx in range(5):\n",
    "    top_items = prediction_plrec[user_idx][:5]\n",
    "    print(f\"User {user_idx}: {top_items}\")"
   ]
  },
  {
   "cell_type": "code",
   "execution_count": 93,
   "id": "c710f9dd-2388-4c45-9afc-c6fa9ca64527",
   "metadata": {},
   "outputs": [
    {
     "name": "stdout",
     "output_type": "stream",
     "text": [
      "\n",
      "PLRec Recommendations:\n",
      "--------------------------------------------------------------------------------\n",
      "User 1:\n",
      "  - 967: Outlaw, The (1943)\n",
      "  - 1980: Friday the 13th Part VII: The New Blood (1988)\n",
      "  - 6836: Amazing Transparent Man, The (1960)\n",
      "  - 8826: Human Resources (Ressources humaines) (1999)\n",
      "  - 1343: Cape Fear (1991)\n",
      "User 2:\n",
      "  - 922: Sunset Blvd. (a.k.a. Sunset Boulevard) (1950)\n",
      "  - 3471: Close Encounters of the Third Kind (1977)\n",
      "  - 1372: Star Trek VI: The Undiscovered Country (1991)\n",
      "  - 903: Vertigo (1958)\n",
      "  - 1199: Brazil (1985)\n",
      "User 3:\n",
      "  - 1232: Stalker (1979)\n",
      "  - 2798: Problem Child (1990)\n",
      "  - 1088: Dirty Dancing (1987)\n",
      "  - 902: Breakfast at Tiffany's (1961)\n",
      "  - 1392: Citizen Ruth (1996)\n",
      "User 4:\n",
      "  - 500: Mrs. Doubtfire (1993)\n",
      "  - 185: Net, The (1995)\n",
      "  - 587: Ghost (1990)\n",
      "  - 367: Mask, The (1994)\n",
      "  - 1720: Time Tracers (1995)\n",
      "User 5:\n",
      "  - 804: She's the One (1996)\n",
      "  - 11: American President, The (1995)\n",
      "  - 508: Philadelphia (1993)\n",
      "  - 801: Harriet the Spy (1996)\n",
      "  - 597: Pretty Woman (1990)\n"
     ]
    }
   ],
   "source": [
    "# Checking the moview title to compare with the popularity recomendor earlier\n",
    "print(\"\\nPLRec Recommendations:\")\n",
    "print(\"-\"*80)\n",
    "\n",
    "for user_idx in range(5):\n",
    "    top_items_indices = prediction_plrec[user_idx][:5].astype(int)\n",
    "    \n",
    "    print(f\"User {user_idx + 1}:\")\n",
    "    for item_idx in top_items_indices:\n",
    "        movie_id = int(sorted_movie_ids[item_idx])\n",
    "        if movie_id in movie_id_to_title:\n",
    "            print(f\"  - {movie_id}: {movie_id_to_title[movie_id]}\")\n",
    "        else:\n",
    "            print(f\"  - {movie_id}\")"
   ]
  },
  {
   "cell_type": "markdown",
   "id": "c42a3f0c-566d-492d-835b-a90cf2137a97",
   "metadata": {},
   "source": [
    "This shows the **PLRec is able to capture the individual preference of users**. For example, **user 5 is recomended romantic and drama films, user 4 is recomended comedy and drama films**. More explanation comming in `Q4.b.ii`"
   ]
  },
  {
   "cell_type": "markdown",
   "id": "c5755fabeb012490",
   "metadata": {
    "id": "c5755fabeb012490"
   },
   "source": [
    "### (b) Answer the following questions:"
   ]
  },
  {
   "cell_type": "markdown",
   "id": "e2769f5d524b1f48",
   "metadata": {
    "id": "e2769f5d524b1f48"
   },
   "source": [
    "#### i. Show the performance of your PLRec implementation. (2 Pt)"
   ]
  },
  {
   "cell_type": "code",
   "execution_count": 104,
   "id": "df51273beb7c50ad",
   "metadata": {
    "id": "df51273beb7c50ad"
   },
   "outputs": [
    {
     "name": "stderr",
     "output_type": "stream",
     "text": [
      "100%|████████████████████████████████████████████████████████████████████████| 138362/138362 [00:26<00:00, 5137.64it/s]\n",
      "100%|████████████████████████████████████████████████████████████████████████| 138362/138362 [00:33<00:00, 4115.43it/s]"
     ]
    },
    {
     "name": "stdout",
     "output_type": "stream",
     "text": [
      "\n",
      "PLRec Performance Metrics:\n",
      "----------------------------------------\n",
      "Recall@10: 0.0738 (±0.0007)\n",
      "Precision@10: 0.0784 (±0.0006)\n",
      "NDCG: 0.0731 (±0.0006)\n",
      "Clicks: 2.8087 (±0.0124)\n",
      "R-Precision: 0.0520 (±0.0005)\n"
     ]
    },
    {
     "name": "stderr",
     "output_type": "stream",
     "text": [
      "\n"
     ]
    }
   ],
   "source": [
    "metric_names = ['R-Precision', 'NDCG', 'Clicks', 'Recall', 'Precision']\n",
    "result_plrec = evaluate(prediction_plrec, rvalid, metric_names, atK=[topK])\n",
    "\n",
    "print(\"\\nPLRec Performance Metrics:\")\n",
    "print(\"-\"*40)\n",
    "for metric in result_plrec.keys():\n",
    "    value, std = result_plrec[metric]\n",
    "    print(f\"{metric}: {value:.4f} (±{std:.4f})\")"
   ]
  },
  {
   "cell_type": "markdown",
   "id": "3168f1fad7fafa74",
   "metadata": {
    "id": "3168f1fad7fafa74"
   },
   "source": [
    "#### ii. Compared to the given ALS models, does PLRec take long or less time to train? Does it perform better than the given baseline models? (3 Pt)"
   ]
  },
  {
   "cell_type": "markdown",
   "id": "5e786781cf47b902",
   "metadata": {
    "id": "5e786781cf47b902"
   },
   "source": [
    "The **PLRec leverages randmized SVD which can handel the sparse metric more faster than ALS**, an iterative approach. For this reason, it took only `33.73 seconds`, whereas the ALS too `1400 seconds` for `4 iterations`.   \n",
    "\n",
    "Comparing the PLRec with the baseline models, we can say it did significantly better than the popularity model because the PLRec is able to personalize the recomendation list as per users' prefernce and choice, but the popularity recomender only provided the recomendation based on global popularity of a movie. \n",
    "\n",
    "Since I could not run the `user-user similarity` based recomender, I can not explicitely comment on whether PLRec would outperform it or not in terms of recomendation. But it is certain thatt PLRec is by far the most practical model we have used in our assignment 1 and 2.\n"
   ]
  }
 ],
 "metadata": {
  "colab": {
   "provenance": [],
   "toc_visible": true
  },
  "kernelspec": {
   "display_name": "Python 3 (ipykernel)",
   "language": "python",
   "name": "python3"
  },
  "language_info": {
   "codemirror_mode": {
    "name": "ipython",
    "version": 3
   },
   "file_extension": ".py",
   "mimetype": "text/x-python",
   "name": "python",
   "nbconvert_exporter": "python",
   "pygments_lexer": "ipython3",
   "version": "3.10.16"
  }
 },
 "nbformat": 4,
 "nbformat_minor": 5
}
