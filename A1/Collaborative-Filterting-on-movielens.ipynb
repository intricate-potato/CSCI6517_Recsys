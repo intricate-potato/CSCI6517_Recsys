{
 "cells": [
  {
   "attachments": {},
   "cell_type": "markdown",
   "metadata": {},
   "source": [
    "# Recommendation Systems Assignment: Collaborative Filtering"
   ]
  },
  {
   "attachments": {},
   "cell_type": "markdown",
   "metadata": {},
   "source": [
    "### CSCI 6517 Recommender System"
   ]
  },
  {
   "attachments": {},
   "cell_type": "markdown",
   "metadata": {},
   "source": [
    "### Getting MovieLens data"
   ]
  },
  {
   "attachments": {},
   "cell_type": "markdown",
   "metadata": {},
   "source": [
    "* Download the movielens 100k dataset from this link: [ml-100k.zip](http://files.grouplens.org/datasets/movielens/ml-100k.zip)\n",
    "\n",
    "* Upload ml-100k.zip\n",
    "\n",
    "* Extract using the following cell:"
   ]
  },
  {
   "attachments": {},
   "cell_type": "markdown",
   "metadata": {},
   "source": [
    "### Imports"
   ]
  },
  {
   "cell_type": "code",
   "execution_count": 1,
   "metadata": {},
   "outputs": [
    {
     "name": "stdout",
     "output_type": "stream",
     "text": [
      "Requirement already satisfied: numpy in c:\\users\\abdullah\\anaconda3\\lib\\site-packages (1.26.4)\n",
      "Requirement already satisfied: pandas in c:\\users\\abdullah\\anaconda3\\lib\\site-packages (2.2.2)\n",
      "Requirement already satisfied: numpy>=1.26.0 in c:\\users\\abdullah\\anaconda3\\lib\\site-packages (from pandas) (1.26.4)\n",
      "Requirement already satisfied: python-dateutil>=2.8.2 in c:\\users\\abdullah\\anaconda3\\lib\\site-packages (from pandas) (2.9.0.post0)\n",
      "Requirement already satisfied: pytz>=2020.1 in c:\\users\\abdullah\\anaconda3\\lib\\site-packages (from pandas) (2024.1)\n",
      "Requirement already satisfied: tzdata>=2022.7 in c:\\users\\abdullah\\anaconda3\\lib\\site-packages (from pandas) (2023.3)\n",
      "Requirement already satisfied: six>=1.5 in c:\\users\\abdullah\\anaconda3\\lib\\site-packages (from python-dateutil>=2.8.2->pandas) (1.16.0)\n",
      "Requirement already satisfied: tqdm in c:\\users\\abdullah\\anaconda3\\lib\\site-packages (4.66.5)\n",
      "Requirement already satisfied: colorama in c:\\users\\abdullah\\anaconda3\\lib\\site-packages (from tqdm) (0.4.6)\n",
      "Requirement already satisfied: scikit-learn in c:\\users\\abdullah\\anaconda3\\lib\\site-packages (1.5.1)\n",
      "Requirement already satisfied: numpy>=1.19.5 in c:\\users\\abdullah\\anaconda3\\lib\\site-packages (from scikit-learn) (1.26.4)\n",
      "Requirement already satisfied: scipy>=1.6.0 in c:\\users\\abdullah\\anaconda3\\lib\\site-packages (from scikit-learn) (1.13.1)\n",
      "Requirement already satisfied: joblib>=1.2.0 in c:\\users\\abdullah\\anaconda3\\lib\\site-packages (from scikit-learn) (1.4.2)\n",
      "Requirement already satisfied: threadpoolctl>=3.1.0 in c:\\users\\abdullah\\anaconda3\\lib\\site-packages (from scikit-learn) (3.5.0)\n"
     ]
    }
   ],
   "source": [
    "!pip install numpy\n",
    "!pip install pandas\n",
    "!pip install tqdm\n",
    "!pip install scikit-learn\n"
   ]
  },
  {
   "cell_type": "code",
   "execution_count": 2,
   "metadata": {
    "ExecuteTime": {
     "end_time": "2024-05-18T18:41:00.127907900Z",
     "start_time": "2024-05-18T18:40:58.988773700Z"
    }
   },
   "outputs": [],
   "source": [
    "# import required libraries\n",
    "import os\n",
    "import os.path\n",
    "import numpy as np\n",
    "import pandas as pd\n",
    "from math import sqrt\n",
    "from heapq import nlargest\n",
    "from tqdm import trange\n",
    "from tqdm import tqdm\n",
    "from scipy import stats\n",
    "from sklearn.metrics.pairwise import pairwise_distances\n",
    "from sklearn.metrics import mean_squared_error"
   ]
  },
  {
   "attachments": {},
   "cell_type": "markdown",
   "metadata": {},
   "source": [
    "## Support functions and variables"
   ]
  },
  {
   "cell_type": "code",
   "execution_count": 3,
   "metadata": {
    "ExecuteTime": {
     "end_time": "2024-05-18T18:41:03.393194200Z",
     "start_time": "2024-05-18T18:41:03.365678600Z"
    }
   },
   "outputs": [],
   "source": [
    "import zipfile\n",
    "import os\n",
    "\n",
    "zip_path = 'ml-100k.zip'\n",
    "\n",
    "with zipfile.ZipFile(zip_path, 'r') as zip_ref:\n",
    "    zip_ref.extractall()"
   ]
  },
  {
   "cell_type": "code",
   "execution_count": 4,
   "metadata": {
    "ExecuteTime": {
     "end_time": "2024-05-18T18:41:05.575921300Z",
     "start_time": "2024-05-18T18:41:05.552395200Z"
    }
   },
   "outputs": [],
   "source": [
    "MOVIELENS_DIR = \"ml-100k\""
   ]
  },
  {
   "cell_type": "code",
   "execution_count": 5,
   "metadata": {
    "ExecuteTime": {
     "end_time": "2024-05-18T18:41:56.725852900Z",
     "start_time": "2024-05-18T18:41:56.644125400Z"
    }
   },
   "outputs": [
    {
     "name": "stdout",
     "output_type": "stream",
     "text": [
      "['allbut.pl', 'mku.sh', 'README', 'u.data', 'u.genre', 'u.info', 'u.item', 'u.occupation', 'u.user', 'u1.base', 'u1.test', 'u2.base', 'u2.test', 'u3.base', 'u3.test', 'u4.base', 'u4.test', 'u5.base', 'u5.test', 'ua.base', 'ua.test', 'ub.base', 'ub.test']\n"
     ]
    }
   ],
   "source": [
    "print(os.listdir(MOVIELENS_DIR))"
   ]
  },
  {
   "cell_type": "code",
   "execution_count": 6,
   "metadata": {
    "ExecuteTime": {
     "end_time": "2024-05-18T18:42:48.204725100Z",
     "start_time": "2024-05-18T18:42:48.159103500Z"
    }
   },
   "outputs": [],
   "source": [
    "def getData(folder_path, file_name):\n",
    "    fields = ['userID', 'itemID', 'rating', 'timestamp']\n",
    "    data = pd.read_csv(os.path.join(folder_path, file_name), sep='\\t', names=fields)\n",
    "    return data "
   ]
  },
  {
   "cell_type": "code",
   "execution_count": 7,
   "metadata": {
    "ExecuteTime": {
     "end_time": "2024-05-18T18:42:50.221267Z",
     "start_time": "2024-05-18T18:42:50.147822400Z"
    }
   },
   "outputs": [
    {
     "data": {
      "text/html": [
       "<div>\n",
       "<style scoped>\n",
       "    .dataframe tbody tr th:only-of-type {\n",
       "        vertical-align: middle;\n",
       "    }\n",
       "\n",
       "    .dataframe tbody tr th {\n",
       "        vertical-align: top;\n",
       "    }\n",
       "\n",
       "    .dataframe thead th {\n",
       "        text-align: right;\n",
       "    }\n",
       "</style>\n",
       "<table border=\"1\" class=\"dataframe\">\n",
       "  <thead>\n",
       "    <tr style=\"text-align: right;\">\n",
       "      <th></th>\n",
       "      <th>userID</th>\n",
       "      <th>itemID</th>\n",
       "      <th>rating</th>\n",
       "      <th>timestamp</th>\n",
       "    </tr>\n",
       "  </thead>\n",
       "  <tbody>\n",
       "    <tr>\n",
       "      <th>0</th>\n",
       "      <td>196</td>\n",
       "      <td>242</td>\n",
       "      <td>3</td>\n",
       "      <td>881250949</td>\n",
       "    </tr>\n",
       "    <tr>\n",
       "      <th>1</th>\n",
       "      <td>186</td>\n",
       "      <td>302</td>\n",
       "      <td>3</td>\n",
       "      <td>891717742</td>\n",
       "    </tr>\n",
       "    <tr>\n",
       "      <th>2</th>\n",
       "      <td>22</td>\n",
       "      <td>377</td>\n",
       "      <td>1</td>\n",
       "      <td>878887116</td>\n",
       "    </tr>\n",
       "    <tr>\n",
       "      <th>3</th>\n",
       "      <td>244</td>\n",
       "      <td>51</td>\n",
       "      <td>2</td>\n",
       "      <td>880606923</td>\n",
       "    </tr>\n",
       "    <tr>\n",
       "      <th>4</th>\n",
       "      <td>166</td>\n",
       "      <td>346</td>\n",
       "      <td>1</td>\n",
       "      <td>886397596</td>\n",
       "    </tr>\n",
       "  </tbody>\n",
       "</table>\n",
       "</div>"
      ],
      "text/plain": [
       "   userID  itemID  rating  timestamp\n",
       "0     196     242       3  881250949\n",
       "1     186     302       3  891717742\n",
       "2      22     377       1  878887116\n",
       "3     244      51       2  880606923\n",
       "4     166     346       1  886397596"
      ]
     },
     "execution_count": 7,
     "metadata": {},
     "output_type": "execute_result"
    }
   ],
   "source": [
    "rating_df = getData(MOVIELENS_DIR, 'u.data')\n",
    "\n",
    "rating_df.head()"
   ]
  },
  {
   "cell_type": "code",
   "execution_count": 8,
   "metadata": {
    "ExecuteTime": {
     "end_time": "2024-05-18T18:43:00.692246300Z",
     "start_time": "2024-05-18T18:43:00.639778300Z"
    }
   },
   "outputs": [
    {
     "name": "stdout",
     "output_type": "stream",
     "text": [
      "Number of users (rows) : 943\n",
      "Number of items (columns) : 1682\n"
     ]
    }
   ],
   "source": [
    "num_users = len(rating_df.userID.unique())\n",
    "num_items = len(rating_df.itemID.unique())\n",
    "print(\"Number of users (rows) :\", num_users)\n",
    "print(\"Number of items (columns) :\", num_items)"
   ]
  },
  {
   "attachments": {},
   "cell_type": "markdown",
   "metadata": {},
   "source": [
    "## Q1 Data Preprocessing and Baseline algorithms"
   ]
  },
  {
   "attachments": {},
   "cell_type": "markdown",
   "metadata": {},
   "source": [
    "### (a)\n",
    "\n",
    "Data in recommendation systems is usually encoded as data frame with three or more columns:  (user, item, rating, additional meta-data if present). Complete the function dataPreprocessor that takes the data frame, total number of users, total number of items and it should output a user-item matrix as demonstrated in the lab. See the function comments for more guidance. The following experiments will all use dataPreprocessor."
   ]
  },
  {
   "cell_type": "code",
   "execution_count": 9,
   "metadata": {},
   "outputs": [],
   "source": [
    "def dataPreprocessor(rating_df, num_users, num_items):\n",
    "    \"\"\"\n",
    "        INPUT: \n",
    "            data: pandas DataFrame. columns=['userID', 'itemID', 'rating' ...]\n",
    "            num_row: int. number of users\n",
    "            num_col: int. number of items\n",
    "            \n",
    "        OUTPUT:\n",
    "            matrix: 2D numpy array. \n",
    "            \n",
    "        NOTE 1: see where something very similar is done in the lab in function 'buildUserItemMatrix'    \n",
    "            \n",
    "        NOTE 2: data can have more columns, but your function should ignore \n",
    "              additional columns.\n",
    "    \"\"\"\n",
    "    ########### your code goes here ###########\n",
    "    #initializing a matrix with userxitems size\n",
    "    matrix = np.zeros((num_users, num_items), dtype=np.int8)\n",
    "\n",
    "    #populating each entries with ratings\n",
    "    for (index, userID, itemID, rating, timestamp) in rating_df.itertuples():\n",
    "        matrix[userID-1, itemID-1] = rating\n",
    "       \n",
    "    ###########         end         ###########\n",
    "    return matrix"
   ]
  },
  {
   "cell_type": "code",
   "execution_count": 10,
   "metadata": {},
   "outputs": [
    {
     "data": {
      "text/plain": [
       "array([[5, 3, 4, ..., 0, 0, 0],\n",
       "       [4, 0, 0, ..., 0, 0, 0],\n",
       "       [0, 0, 0, ..., 0, 0, 0],\n",
       "       ...,\n",
       "       [5, 0, 0, ..., 0, 0, 0],\n",
       "       [0, 0, 0, ..., 0, 0, 0],\n",
       "       [0, 5, 0, ..., 0, 0, 0]], dtype=int8)"
      ]
     },
     "execution_count": 10,
     "metadata": {},
     "output_type": "execute_result"
    }
   ],
   "source": [
    "dataPreprocessor(rating_df, num_users, num_items)"
   ]
  },
  {
   "cell_type": "code",
   "execution_count": 11,
   "metadata": {},
   "outputs": [
    {
     "data": {
      "text/plain": [
       "array([[5, 3, 4, ..., 0, 0, 0],\n",
       "       [4, 0, 0, ..., 0, 0, 0],\n",
       "       [0, 0, 0, ..., 0, 0, 0],\n",
       "       ...,\n",
       "       [5, 0, 0, ..., 0, 0, 0],\n",
       "       [0, 0, 0, ..., 0, 0, 0],\n",
       "       [0, 5, 0, ..., 0, 0, 0]], dtype=int8)"
      ]
     },
     "execution_count": 11,
     "metadata": {},
     "output_type": "execute_result"
    }
   ],
   "source": [
    "dataPreprocessor(rating_df, num_users, num_items)"
   ]
  },
  {
   "cell_type": "markdown",
   "metadata": {},
   "source": [
    "Making the train and test matrix"
   ]
  },
  {
   "cell_type": "code",
   "execution_count": 12,
   "metadata": {},
   "outputs": [
    {
     "name": "stdout",
     "output_type": "stream",
     "text": [
      "Dimension of train: (80000, 4)\n",
      "# of lines in train: 80000\n",
      "Dimension of test: (20000, 4)\n",
      "# of lines in test: 20000\n"
     ]
    }
   ],
   "source": [
    "train_df = getData(MOVIELENS_DIR, 'u1.base')\n",
    "test_df = getData(MOVIELENS_DIR, 'u1.test')\n",
    "\n",
    "# test number of records (total should be 100K)\n",
    "print(\"Dimension of train:\", train_df.shape)\n",
    "print(\"# of lines in train:\", train_df.shape[0])\n",
    "print(\"Dimension of test:\", test_df.shape)\n",
    "print(\"# of lines in test:\", test_df.shape[0])"
   ]
  },
  {
   "cell_type": "code",
   "execution_count": 13,
   "metadata": {},
   "outputs": [],
   "source": [
    "trainUserItemMatrix = dataPreprocessor(train_df, num_users, num_items)\n",
    "testUserItemMatrix = dataPreprocessor(test_df, num_users, num_items)"
   ]
  },
  {
   "cell_type": "code",
   "execution_count": 14,
   "metadata": {},
   "outputs": [
    {
     "data": {
      "text/plain": [
       "array([[5, 3, 4, ..., 0, 0, 0],\n",
       "       [4, 0, 0, ..., 0, 0, 0],\n",
       "       [0, 0, 0, ..., 0, 0, 0],\n",
       "       ...,\n",
       "       [5, 0, 0, ..., 0, 0, 0],\n",
       "       [0, 0, 0, ..., 0, 0, 0],\n",
       "       [0, 5, 0, ..., 0, 0, 0]], dtype=int8)"
      ]
     },
     "execution_count": 14,
     "metadata": {},
     "output_type": "execute_result"
    }
   ],
   "source": [
    "#inspecting train matrix\n",
    "trainUserItemMatrix"
   ]
  },
  {
   "cell_type": "code",
   "execution_count": 15,
   "metadata": {},
   "outputs": [
    {
     "data": {
      "text/plain": [
       "(943, 1682)"
      ]
     },
     "execution_count": 15,
     "metadata": {},
     "output_type": "execute_result"
    }
   ],
   "source": [
    "trainUserItemMatrix.shape"
   ]
  },
  {
   "cell_type": "code",
   "execution_count": 16,
   "metadata": {},
   "outputs": [
    {
     "data": {
      "text/plain": [
       "(943, 1682)"
      ]
     },
     "execution_count": 16,
     "metadata": {},
     "output_type": "execute_result"
    }
   ],
   "source": [
    "testUserItemMatrix.shape"
   ]
  },
  {
   "attachments": {},
   "cell_type": "markdown",
   "metadata": {},
   "source": [
    "### (b)\n",
    "\n",
    " In this question, we’ll port the baseline algorithms from the lab to our evaluation framework for the assignment. To do so, you need to implement the two baseline algorithms (popularity,\n",
    " user average rating). Please fill in the indicated functions(`popularity`, `useraverage`) in class `BaseLineRecSys`; see comments there for more guidance. The rest of `BaseLineRecSys` has been written for you."
   ]
  },
  {
   "cell_type": "code",
   "execution_count": 17,
   "metadata": {},
   "outputs": [],
   "source": [
    "class BaseLineRecSys(object):\n",
    "    def __init__(self, method, processor=dataPreprocessor):\n",
    "        \"\"\"\n",
    "            method: string. From ['popularity','useraverage']\n",
    "            processor: function name. dataPreprocessor by default\n",
    "        \"\"\"\n",
    "        self.method_name = method\n",
    "        self.method = self._getMethod(self.method_name)\n",
    "        self.processor = processor\n",
    "        self.pred_column_name = self.method_name\n",
    "        \n",
    "    def _getMethod(self, method_name):\n",
    "        \"\"\"\n",
    "            Don't change this\n",
    "        \"\"\"\n",
    "        switcher = {\n",
    "            'popularity': self.popularity,\n",
    "            'useraverage': self.useraverage,\n",
    "        }\n",
    "        \n",
    "        return switcher[method_name]\n",
    "    \n",
    "    @staticmethod\n",
    "    def useraverage(train_matrix, num_users, num_items):\n",
    "        \"\"\"\n",
    "            INPUT:\n",
    "                train_matrix: 2D numpy array.\n",
    "                num_users: int. Number of Users.\n",
    "                num_items: int. Number of Items.\n",
    "            OUTPUT:\n",
    "                predictionMatrix: 2D numpy array.\n",
    "                \n",
    "            NOTE: see where something very similar is done in the lab in function 'predictByUserAverage'    \n",
    "        \"\"\"\n",
    "        \n",
    "        ########### your code goes here ###########\n",
    "        # Initialize the predicted rating matrix with zeros\n",
    "        predictionMatrix = np.zeros((num_users, num_items))\n",
    "        \n",
    "        for (user,item), rating in np.ndenumerate(train_matrix):\n",
    "        # Predict rating for every item that wasn't ranked by the user (rating == 0)\n",
    "            if rating == 0:\n",
    "                # Extract the items the user already rated\n",
    "                userVector = train_matrix[user, :]\n",
    "                ratedItems = userVector[userVector.nonzero()]\n",
    "            \n",
    "                # If not empty, calculate average and set as rating for the current item\n",
    "                if ratedItems.size == 0:\n",
    "                    itemAvg = 0\n",
    "                else:\n",
    "                    itemAvg = ratedItems.mean()\n",
    "                predictionMatrix[user, item] = itemAvg\n",
    "            \n",
    "        # report progress every 100 users\n",
    "        if (user % 100 == 0 and item == 1):\n",
    "            print (\"calculated %d users\" % (user,))\n",
    "\n",
    "        ###########         end         ###########\n",
    "        return predictionMatrix\n",
    "    \n",
    "    @staticmethod\n",
    "    def popularity(train_matrix, num_users, num_items):\n",
    "        \"\"\"\n",
    "            INPUT:\n",
    "                train_matrix: 2D numpy array.\n",
    "                num_users: int. Number of Users.\n",
    "                num_items: int. Number of Items.\n",
    "            OUTPUT:\n",
    "                predictionMatrix: 2D numpy array.\n",
    "                \n",
    "            NOTE: see where something very similar is done in the lab in function 'predictByPopularity'    \n",
    "        \"\"\"\n",
    "        \n",
    "        ########### your code goes here ###########\n",
    "        # Initialize the predicted rating matrix with zeros\n",
    "        predictionMatrix = np.zeros((num_users, num_items))\n",
    "\n",
    "        # Define function for converting 1-5 rating to 0/1 (like / don't like)\n",
    "        vf = np.vectorize(lambda x: 1 if x >= 4 else 0)\n",
    "    \n",
    "        # For every item calculate the number of people liked (4-5) divided by the number of people that rated\n",
    "        itemPopularity = np.zeros((num_items))\n",
    "        for item in range(num_items):\n",
    "            numOfUsersRated = len(train_matrix[:, item].nonzero()[0])\n",
    "            numOfUsersLiked = len(vf(train_matrix[:, item]).nonzero()[0])\n",
    "            if numOfUsersRated == 0:\n",
    "                itemPopularity[item] = 0\n",
    "            else:\n",
    "                itemPopularity[item] = numOfUsersLiked/numOfUsersRated\n",
    "        \n",
    "        for (user, item), rating in np.ndenumerate(train_matrix):\n",
    "            # Predict rating for every item that wasn't ranked by the user (rating == 0)\n",
    "            if rating == 0:\n",
    "                predictionMatrix[user, item] = itemPopularity[item]\n",
    "    \n",
    "            # report progress every 100 users\n",
    "            if (user % 100 == 0 and item == 1):\n",
    "                print(\"calculated %d users\" % (user,))\n",
    "        \n",
    "        print(\"Max item popularity score:\", np.max(itemPopularity))\n",
    "        return predictionMatrix\n",
    " \n",
    "    \n",
    "    def predict_all(self, train_df, num_users, num_items):\n",
    "        \n",
    "        train_matrix = self.processor(train_df, num_users, num_items)\n",
    "        self.__model = self.method(train_matrix, num_users, num_items)\n",
    "        \n",
    "    def evaluate_test(self, test_df, copy=False):\n",
    "        \n",
    "        if copy:\n",
    "            prediction = test_df.copy()\n",
    "        else:\n",
    "            prediction = test_df\n",
    "            \n",
    "        prediction[self.pred_column_name] = np.nan\n",
    "        \n",
    "        for (index, \n",
    "             userID, \n",
    "             itemID) in tqdm(prediction[['userID','itemID']].itertuples()):\n",
    "            prediction.loc[index, self.pred_column_name] = self.__model[userID-1, itemID-1]\n",
    "\n",
    "        return prediction\n",
    "        \n",
    "    def getModel(self):\n",
    "        \"\"\"\n",
    "            return predicted user-item matrix\n",
    "        \"\"\"\n",
    "        return self.__model\n",
    "    \n",
    "    def getPredColName(self):\n",
    "        \"\"\"\n",
    "            return prediction column name\n",
    "        \"\"\"\n",
    "        return self.pred_column_name\n",
    "    \n",
    "    def reset(self):\n",
    "        \"\"\"\n",
    "            reuse the instance of the class by removing model\n",
    "        \"\"\"\n",
    "        try:\n",
    "            self.model = None\n",
    "        except:\n",
    "            print(\"You don not have model..\")\n",
    "            "
   ]
  },
  {
   "cell_type": "code",
   "execution_count": 18,
   "metadata": {},
   "outputs": [],
   "source": [
    "popularity_recsys = BaseLineRecSys('popularity')"
   ]
  },
  {
   "cell_type": "code",
   "execution_count": 19,
   "metadata": {},
   "outputs": [
    {
     "name": "stdout",
     "output_type": "stream",
     "text": [
      "calculated 0 users\n",
      "calculated 100 users\n",
      "calculated 200 users\n",
      "calculated 300 users\n",
      "calculated 400 users\n",
      "calculated 500 users\n",
      "calculated 600 users\n",
      "calculated 700 users\n",
      "calculated 800 users\n",
      "calculated 900 users\n",
      "Max item popularity score: 1.0\n"
     ]
    }
   ],
   "source": [
    "popularity_recsys.predict_all(train_df, num_users, num_items)"
   ]
  },
  {
   "cell_type": "code",
   "execution_count": 20,
   "metadata": {},
   "outputs": [],
   "source": [
    "x = popularity_recsys.getModel()"
   ]
  },
  {
   "cell_type": "code",
   "execution_count": 21,
   "metadata": {},
   "outputs": [
    {
     "name": "stdout",
     "output_type": "stream",
     "text": [
      "True\n"
     ]
    }
   ],
   "source": [
    "print(np.all(x<=1))"
   ]
  },
  {
   "cell_type": "code",
   "execution_count": 22,
   "metadata": {},
   "outputs": [
    {
     "data": {
      "text/html": [
       "<div>\n",
       "<style scoped>\n",
       "    .dataframe tbody tr th:only-of-type {\n",
       "        vertical-align: middle;\n",
       "    }\n",
       "\n",
       "    .dataframe tbody tr th {\n",
       "        vertical-align: top;\n",
       "    }\n",
       "\n",
       "    .dataframe thead th {\n",
       "        text-align: right;\n",
       "    }\n",
       "</style>\n",
       "<table border=\"1\" class=\"dataframe\">\n",
       "  <thead>\n",
       "    <tr style=\"text-align: right;\">\n",
       "      <th></th>\n",
       "      <th>userID</th>\n",
       "      <th>itemID</th>\n",
       "      <th>rating</th>\n",
       "      <th>timestamp</th>\n",
       "    </tr>\n",
       "  </thead>\n",
       "  <tbody>\n",
       "    <tr>\n",
       "      <th>0</th>\n",
       "      <td>196</td>\n",
       "      <td>242</td>\n",
       "      <td>3</td>\n",
       "      <td>881250949</td>\n",
       "    </tr>\n",
       "    <tr>\n",
       "      <th>1</th>\n",
       "      <td>186</td>\n",
       "      <td>302</td>\n",
       "      <td>3</td>\n",
       "      <td>891717742</td>\n",
       "    </tr>\n",
       "    <tr>\n",
       "      <th>2</th>\n",
       "      <td>22</td>\n",
       "      <td>377</td>\n",
       "      <td>1</td>\n",
       "      <td>878887116</td>\n",
       "    </tr>\n",
       "    <tr>\n",
       "      <th>3</th>\n",
       "      <td>244</td>\n",
       "      <td>51</td>\n",
       "      <td>2</td>\n",
       "      <td>880606923</td>\n",
       "    </tr>\n",
       "    <tr>\n",
       "      <th>4</th>\n",
       "      <td>166</td>\n",
       "      <td>346</td>\n",
       "      <td>1</td>\n",
       "      <td>886397596</td>\n",
       "    </tr>\n",
       "  </tbody>\n",
       "</table>\n",
       "</div>"
      ],
      "text/plain": [
       "   userID  itemID  rating  timestamp\n",
       "0     196     242       3  881250949\n",
       "1     186     302       3  891717742\n",
       "2      22     377       1  878887116\n",
       "3     244      51       2  880606923\n",
       "4     166     346       1  886397596"
      ]
     },
     "execution_count": 22,
     "metadata": {},
     "output_type": "execute_result"
    }
   ],
   "source": [
    "rating_df.head()"
   ]
  },
  {
   "cell_type": "code",
   "execution_count": 23,
   "metadata": {
    "scrolled": true
   },
   "outputs": [
    {
     "name": "stderr",
     "output_type": "stream",
     "text": [
      "20000it [00:03, 6501.68it/s]\n"
     ]
    },
    {
     "data": {
      "text/html": [
       "<div>\n",
       "<style scoped>\n",
       "    .dataframe tbody tr th:only-of-type {\n",
       "        vertical-align: middle;\n",
       "    }\n",
       "\n",
       "    .dataframe tbody tr th {\n",
       "        vertical-align: top;\n",
       "    }\n",
       "\n",
       "    .dataframe thead th {\n",
       "        text-align: right;\n",
       "    }\n",
       "</style>\n",
       "<table border=\"1\" class=\"dataframe\">\n",
       "  <thead>\n",
       "    <tr style=\"text-align: right;\">\n",
       "      <th></th>\n",
       "      <th>userID</th>\n",
       "      <th>itemID</th>\n",
       "      <th>rating</th>\n",
       "      <th>timestamp</th>\n",
       "      <th>popularity</th>\n",
       "    </tr>\n",
       "  </thead>\n",
       "  <tbody>\n",
       "    <tr>\n",
       "      <th>0</th>\n",
       "      <td>1</td>\n",
       "      <td>6</td>\n",
       "      <td>5</td>\n",
       "      <td>887431973</td>\n",
       "      <td>0.500000</td>\n",
       "    </tr>\n",
       "    <tr>\n",
       "      <th>1</th>\n",
       "      <td>1</td>\n",
       "      <td>10</td>\n",
       "      <td>3</td>\n",
       "      <td>875693118</td>\n",
       "      <td>0.698630</td>\n",
       "    </tr>\n",
       "    <tr>\n",
       "      <th>2</th>\n",
       "      <td>1</td>\n",
       "      <td>12</td>\n",
       "      <td>5</td>\n",
       "      <td>878542960</td>\n",
       "      <td>0.872038</td>\n",
       "    </tr>\n",
       "    <tr>\n",
       "      <th>3</th>\n",
       "      <td>1</td>\n",
       "      <td>14</td>\n",
       "      <td>5</td>\n",
       "      <td>874965706</td>\n",
       "      <td>0.685714</td>\n",
       "    </tr>\n",
       "    <tr>\n",
       "      <th>4</th>\n",
       "      <td>1</td>\n",
       "      <td>17</td>\n",
       "      <td>3</td>\n",
       "      <td>875073198</td>\n",
       "      <td>0.472222</td>\n",
       "    </tr>\n",
       "  </tbody>\n",
       "</table>\n",
       "</div>"
      ],
      "text/plain": [
       "   userID  itemID  rating  timestamp  popularity\n",
       "0       1       6       5  887431973    0.500000\n",
       "1       1      10       3  875693118    0.698630\n",
       "2       1      12       5  878542960    0.872038\n",
       "3       1      14       5  874965706    0.685714\n",
       "4       1      17       3  875073198    0.472222"
      ]
     },
     "execution_count": 23,
     "metadata": {},
     "output_type": "execute_result"
    }
   ],
   "source": [
    "popularity_recsys.evaluate_test(test_df, copy=True).head()"
   ]
  },
  {
   "cell_type": "code",
   "execution_count": 24,
   "metadata": {},
   "outputs": [],
   "source": [
    "average_user_rating_recsys = BaseLineRecSys('useraverage')"
   ]
  },
  {
   "cell_type": "code",
   "execution_count": 25,
   "metadata": {},
   "outputs": [],
   "source": [
    "average_user_rating_recsys.predict_all(train_df, num_users, num_items)"
   ]
  },
  {
   "cell_type": "code",
   "execution_count": 26,
   "metadata": {},
   "outputs": [
    {
     "data": {
      "text/plain": [
       "array([[0.        , 0.        , 0.        , ..., 3.68148148, 3.68148148,\n",
       "        3.68148148],\n",
       "       [0.        , 3.8       , 3.8       , ..., 3.8       , 3.8       ,\n",
       "        3.8       ],\n",
       "       [3.        , 3.        , 3.        , ..., 3.        , 3.        ,\n",
       "        3.        ],\n",
       "       ...,\n",
       "       [0.        , 4.04545455, 4.04545455, ..., 4.04545455, 4.04545455,\n",
       "        4.04545455],\n",
       "       [4.26582278, 4.26582278, 4.26582278, ..., 4.26582278, 4.26582278,\n",
       "        4.26582278],\n",
       "       [3.41071429, 0.        , 3.41071429, ..., 3.41071429, 3.41071429,\n",
       "        3.41071429]])"
      ]
     },
     "execution_count": 26,
     "metadata": {},
     "output_type": "execute_result"
    }
   ],
   "source": [
    "average_user_rating_recsys.getModel()"
   ]
  },
  {
   "cell_type": "code",
   "execution_count": 27,
   "metadata": {},
   "outputs": [
    {
     "name": "stderr",
     "output_type": "stream",
     "text": [
      "0it [00:00, ?it/s]"
     ]
    },
    {
     "name": "stderr",
     "output_type": "stream",
     "text": [
      "20000it [00:02, 6963.37it/s]\n"
     ]
    },
    {
     "data": {
      "text/html": [
       "<div>\n",
       "<style scoped>\n",
       "    .dataframe tbody tr th:only-of-type {\n",
       "        vertical-align: middle;\n",
       "    }\n",
       "\n",
       "    .dataframe tbody tr th {\n",
       "        vertical-align: top;\n",
       "    }\n",
       "\n",
       "    .dataframe thead th {\n",
       "        text-align: right;\n",
       "    }\n",
       "</style>\n",
       "<table border=\"1\" class=\"dataframe\">\n",
       "  <thead>\n",
       "    <tr style=\"text-align: right;\">\n",
       "      <th></th>\n",
       "      <th>userID</th>\n",
       "      <th>itemID</th>\n",
       "      <th>rating</th>\n",
       "      <th>timestamp</th>\n",
       "      <th>useraverage</th>\n",
       "    </tr>\n",
       "  </thead>\n",
       "  <tbody>\n",
       "    <tr>\n",
       "      <th>0</th>\n",
       "      <td>1</td>\n",
       "      <td>6</td>\n",
       "      <td>5</td>\n",
       "      <td>887431973</td>\n",
       "      <td>3.681481</td>\n",
       "    </tr>\n",
       "    <tr>\n",
       "      <th>1</th>\n",
       "      <td>1</td>\n",
       "      <td>10</td>\n",
       "      <td>3</td>\n",
       "      <td>875693118</td>\n",
       "      <td>3.681481</td>\n",
       "    </tr>\n",
       "    <tr>\n",
       "      <th>2</th>\n",
       "      <td>1</td>\n",
       "      <td>12</td>\n",
       "      <td>5</td>\n",
       "      <td>878542960</td>\n",
       "      <td>3.681481</td>\n",
       "    </tr>\n",
       "    <tr>\n",
       "      <th>3</th>\n",
       "      <td>1</td>\n",
       "      <td>14</td>\n",
       "      <td>5</td>\n",
       "      <td>874965706</td>\n",
       "      <td>3.681481</td>\n",
       "    </tr>\n",
       "    <tr>\n",
       "      <th>4</th>\n",
       "      <td>1</td>\n",
       "      <td>17</td>\n",
       "      <td>3</td>\n",
       "      <td>875073198</td>\n",
       "      <td>3.681481</td>\n",
       "    </tr>\n",
       "  </tbody>\n",
       "</table>\n",
       "</div>"
      ],
      "text/plain": [
       "   userID  itemID  rating  timestamp  useraverage\n",
       "0       1       6       5  887431973     3.681481\n",
       "1       1      10       3  875693118     3.681481\n",
       "2       1      12       5  878542960     3.681481\n",
       "3       1      14       5  874965706     3.681481\n",
       "4       1      17       3  875073198     3.681481"
      ]
     },
     "execution_count": 27,
     "metadata": {},
     "output_type": "execute_result"
    }
   ],
   "source": [
    "average_user_rating_recsys.evaluate_test(test_df, copy=True).head()"
   ]
  },
  {
   "attachments": {},
   "cell_type": "markdown",
   "metadata": {},
   "source": [
    "## Q2 Similarity in Collaborative Filtering"
   ]
  },
  {
   "attachments": {},
   "cell_type": "markdown",
   "metadata": {},
   "source": [
    "### (a)\n",
    "\n",
    "In class SimBasedRecSys, there are two similarity measurement functions (`cosine`, `euclidean`). Please fill in the missing part of those functions. Be careful how you convert Euclidean distance to a [0,1] similarity for use in the recommender. This implementation is very short and should use pairwise distance. (Google for “pairwise distance scikit learn” for a list of distance metrics, more Googling will tell you what they mean.) Which metric works better? Why?"
   ]
  },
  {
   "cell_type": "code",
   "execution_count": 28,
   "metadata": {},
   "outputs": [],
   "source": [
    "class SimBasedRecSys(object):\n",
    "\n",
    "    def __init__(self, base, method, processor=dataPreprocessor):\n",
    "        self.base = base\n",
    "        self.method_name = method\n",
    "        self.method = self._getMethod(self.method_name)\n",
    "        self.processor = processor\n",
    "        self.pred_column_name = self.base + '-' + self.method_name\n",
    "\n",
    "    def _getMethod(self, method_name):\n",
    "        switcher = {\n",
    "            'cosine': self.cosine,\n",
    "            'euclidean': self.euclidean,\n",
    "            'manhattan': self.manhattan,\n",
    "            'chebyshev': self.chebyshev\n",
    "        }\n",
    "        return switcher[method_name]\n",
    "\n",
    "    @staticmethod\n",
    "    def cosine(matrix):\n",
    "        similarity_matrix = 1 - pairwise_distances(matrix, metric='cosine')\n",
    "        return similarity_matrix\n",
    "\n",
    "    @staticmethod\n",
    "    def euclidean(matrix):\n",
    "        distance_matrix = pairwise_distances(matrix, metric='euclidean')\n",
    "        similarity_matrix = 1 / (1 + distance_matrix)\n",
    "        return similarity_matrix\n",
    "\n",
    "    @staticmethod\n",
    "    def manhattan(matrix):\n",
    "        distance_matrix = pairwise_distances(matrix, metric=\"manhattan\")\n",
    "        similarity_matrix = 1 / (1 + distance_matrix)\n",
    "        return similarity_matrix\n",
    "\n",
    "    @staticmethod\n",
    "    def chebyshev(matrix):\n",
    "        distance_matrix = pairwise_distances(matrix, metric='chebyshev')\n",
    "        similarity_matrix = 1 / (1 + distance_matrix)\n",
    "        return similarity_matrix\n",
    "\n",
    "    def predict_all(self, train_df, num_users, num_items):\n",
    "        train_matrix = self.processor(train_df, num_users, num_items)\n",
    "        rated_mask = (train_matrix > 0).astype(int)\n",
    "\n",
    "        if self.base == 'user':\n",
    "            similarity_matrix = self.method(train_matrix)\n",
    "            numerators = similarity_matrix @ train_matrix\n",
    "            denominators = similarity_matrix @ rated_mask\n",
    "            denominators[denominators == 0] = 1e-5\n",
    "            prediction_matrix = numerators / denominators\n",
    "            user_avg = np.sum(train_matrix, axis=1) / np.sum(rated_mask, axis=1)\n",
    "            item_sums = np.sum(prediction_matrix, axis=0)\n",
    "            prediction_matrix[:, item_sums == 0] += np.expand_dims(user_avg, axis=1)\n",
    "\n",
    "        elif self.base == 'item':\n",
    "            similarity_matrix = self.method(train_matrix.T)\n",
    "            numerators = train_matrix @ similarity_matrix\n",
    "            denominators = rated_mask @ similarity_matrix\n",
    "            denominators[denominators == 0] = 1e-5\n",
    "            prediction_matrix = numerators / denominators\n",
    "            user_avg = np.sum(train_matrix, axis=1) / np.sum(rated_mask, axis=1)\n",
    "            item_sums = np.sum(prediction_matrix, axis=0)\n",
    "            prediction_matrix[:, item_sums == 0] += np.expand_dims(user_avg, axis=1)\n",
    "\n",
    "        else:\n",
    "            print('No other option available')\n",
    "            return\n",
    "\n",
    "        self.__model = prediction_matrix\n",
    "        self.__similarity = similarity_matrix  # Store similarity for access later\n",
    "\n",
    "    def evaluate_test(self, test_df, copy=False):\n",
    "        if copy:\n",
    "            prediction = test_df.copy()\n",
    "        else:\n",
    "            prediction = test_df\n",
    "        prediction[self.pred_column_name] = np.nan\n",
    "\n",
    "        for (index, userID, itemID) in tqdm(prediction[['userID', 'itemID']].itertuples()):\n",
    "            prediction.loc[index, self.pred_column_name] = self.__model[userID - 1, itemID - 1]\n",
    "\n",
    "        return prediction\n",
    "\n",
    "    def getModel(self):\n",
    "        return self.__model\n",
    "\n",
    "    def getSimilarity(self):\n",
    "        return self.__similarity  # Getter for similarity matrix\n",
    "\n",
    "    def getPredColName(self):\n",
    "        return self.pred_column_name\n",
    "\n",
    "    def reset(self):\n",
    "        try:\n",
    "            self.model = None\n",
    "        except:\n",
    "            print(\"You do not have model..\")"
   ]
  },
  {
   "cell_type": "code",
   "execution_count": 29,
   "metadata": {},
   "outputs": [
    {
     "data": {
      "text/plain": [
       "array([[1., 0., 0.],\n",
       "       [0., 1., 0.],\n",
       "       [0., 0., 1.]])"
      ]
     },
     "execution_count": 29,
     "metadata": {},
     "output_type": "execute_result"
    }
   ],
   "source": [
    "# Examples of how to call similarity functions.\n",
    "I = np.eye(3)\n",
    "SimBasedRecSys.cosine(I)"
   ]
  },
  {
   "cell_type": "code",
   "execution_count": 30,
   "metadata": {},
   "outputs": [
    {
     "data": {
      "text/plain": [
       "array([[1.        , 0.41421356, 0.41421356],\n",
       "       [0.41421356, 1.        , 0.41421356],\n",
       "       [0.41421356, 0.41421356, 1.        ]])"
      ]
     },
     "execution_count": 30,
     "metadata": {},
     "output_type": "execute_result"
    }
   ],
   "source": [
    "SimBasedRecSys.euclidean(I)"
   ]
  },
  {
   "cell_type": "code",
   "execution_count": 31,
   "metadata": {},
   "outputs": [
    {
     "data": {
      "text/plain": [
       "array([[1.        , 0.33333333, 0.33333333],\n",
       "       [0.33333333, 1.        , 0.33333333],\n",
       "       [0.33333333, 0.33333333, 1.        ]])"
      ]
     },
     "execution_count": 31,
     "metadata": {},
     "output_type": "execute_result"
    }
   ],
   "source": [
    "SimBasedRecSys.manhattan(I)"
   ]
  },
  {
   "cell_type": "code",
   "execution_count": 32,
   "metadata": {},
   "outputs": [
    {
     "data": {
      "text/plain": [
       "array([[1. , 0.5, 0.5],\n",
       "       [0.5, 1. , 0.5],\n",
       "       [0.5, 0.5, 1. ]])"
      ]
     },
     "execution_count": 32,
     "metadata": {},
     "output_type": "execute_result"
    }
   ],
   "source": [
    "SimBasedRecSys.chebyshev(I)"
   ]
  },
  {
   "cell_type": "markdown",
   "metadata": {},
   "source": [
    "I think the `cosine similarity` works better for collaborative filtering because it can capture preference patterns regardless of individual rating scales. Also, the `rating matrix` tends to be **sparse** and **high-dimensional** which is a good use case of `cosine similarity`. The `euclidean similarity` only focuses on absolute rating differences whic is misleading when users have different rating habits. But such users with different rating bias may still prefer similar movies, which can only be captured using cosine similarity as **it only concerns the angles** between the two user/ items. For the same reason, `cosine similarity` also outperforms `manhattan similarity` which calculates the absolute difference (i.e. magnitutde).\n",
    "\n",
    "In short, the phenomena of **scale invariance**, **sparse data robustnesss**, and **vector interpretation** makes `cosine similarity` more preferable compared to the other metrics. "
   ]
  },
  {
   "attachments": {},
   "cell_type": "markdown",
   "metadata": {},
   "source": [
    "### (b)\n",
    "\n",
    "Implement an additional third metric in function `somethingelse` (your choice, see other offerings of pairwise distance) and justify in a sentence why you think this could be a good similarity metric for user or item comparison in collaborative filtering."
   ]
  },
  {
   "cell_type": "markdown",
   "metadata": {},
   "source": [
    "I tried `manhattan similarity` and `chebyshev similarity`. Still I think none of these two can be a better choice compared to `cosine similarity` because:\n",
    " *  `manhattan similarity` is sensitive to rating scale difference (not scale invarient)\n",
    " *  `chebyshev similarity` is overlay conservative and may miss certain nuanced disagrements between two users/items that will impact the ranking later on"
   ]
  },
  {
   "attachments": {},
   "cell_type": "markdown",
   "metadata": {},
   "source": [
    "## Q3 Collaborative Filtering"
   ]
  },
  {
   "attachments": {},
   "cell_type": "markdown",
   "metadata": {},
   "source": [
    "### (a)\n",
    "\n",
    "Leveraging the user-user collaborative filtering example from lab, **implement user-user and item-item based collaborative filtering algorithms** by filling out the `predict_all` function in\n",
    " class `SimBasedRecSys`. Note that you should implement vectorized versions of collaborative filtering (example give in lab) since loop-based versions will take excessively long to run."
   ]
  },
  {
   "cell_type": "markdown",
   "metadata": {},
   "source": [
    "the `predict_all` function was implemented in the above cell containing `SimBasedRecSys` class. Now we are using it."
   ]
  },
  {
   "cell_type": "code",
   "execution_count": 33,
   "metadata": {},
   "outputs": [],
   "source": [
    "user_cosine_recsys = SimBasedRecSys('user','cosine')"
   ]
  },
  {
   "cell_type": "code",
   "execution_count": 34,
   "metadata": {},
   "outputs": [],
   "source": [
    "user_cosine_recsys.predict_all(rating_df, num_users, num_items)"
   ]
  },
  {
   "cell_type": "code",
   "execution_count": 35,
   "metadata": {},
   "outputs": [
    {
     "data": {
      "text/plain": [
       "array([[3.89911175, 3.19022667, 3.0261129 , ..., 2.        , 3.        ,\n",
       "        3.        ],\n",
       "       [3.84034456, 3.17139889, 2.92626717, ..., 2.        , 3.        ,\n",
       "        3.        ],\n",
       "       [3.87104065, 3.12823798, 3.03250708, ..., 2.        , 3.        ,\n",
       "        3.        ],\n",
       "       ...,\n",
       "       [3.90754645, 3.20227238, 3.05776201, ..., 2.        , 3.        ,\n",
       "        3.        ],\n",
       "       [3.91100649, 3.21591021, 2.98854017, ..., 2.        , 3.        ,\n",
       "        3.        ],\n",
       "       [3.91593122, 3.24268207, 3.08255897, ..., 0.        , 3.        ,\n",
       "        3.        ]])"
      ]
     },
     "execution_count": 35,
     "metadata": {},
     "output_type": "execute_result"
    }
   ],
   "source": [
    "user_cosine_recsys.getModel()"
   ]
  },
  {
   "cell_type": "code",
   "execution_count": 36,
   "metadata": {},
   "outputs": [
    {
     "data": {
      "text/html": [
       "<div>\n",
       "<style scoped>\n",
       "    .dataframe tbody tr th:only-of-type {\n",
       "        vertical-align: middle;\n",
       "    }\n",
       "\n",
       "    .dataframe tbody tr th {\n",
       "        vertical-align: top;\n",
       "    }\n",
       "\n",
       "    .dataframe thead th {\n",
       "        text-align: right;\n",
       "    }\n",
       "</style>\n",
       "<table border=\"1\" class=\"dataframe\">\n",
       "  <thead>\n",
       "    <tr style=\"text-align: right;\">\n",
       "      <th></th>\n",
       "      <th>userID</th>\n",
       "      <th>itemID</th>\n",
       "      <th>rating</th>\n",
       "      <th>timestamp</th>\n",
       "    </tr>\n",
       "  </thead>\n",
       "  <tbody>\n",
       "    <tr>\n",
       "      <th>0</th>\n",
       "      <td>196</td>\n",
       "      <td>242</td>\n",
       "      <td>3</td>\n",
       "      <td>881250949</td>\n",
       "    </tr>\n",
       "    <tr>\n",
       "      <th>1</th>\n",
       "      <td>186</td>\n",
       "      <td>302</td>\n",
       "      <td>3</td>\n",
       "      <td>891717742</td>\n",
       "    </tr>\n",
       "    <tr>\n",
       "      <th>2</th>\n",
       "      <td>22</td>\n",
       "      <td>377</td>\n",
       "      <td>1</td>\n",
       "      <td>878887116</td>\n",
       "    </tr>\n",
       "    <tr>\n",
       "      <th>3</th>\n",
       "      <td>244</td>\n",
       "      <td>51</td>\n",
       "      <td>2</td>\n",
       "      <td>880606923</td>\n",
       "    </tr>\n",
       "    <tr>\n",
       "      <th>4</th>\n",
       "      <td>166</td>\n",
       "      <td>346</td>\n",
       "      <td>1</td>\n",
       "      <td>886397596</td>\n",
       "    </tr>\n",
       "  </tbody>\n",
       "</table>\n",
       "</div>"
      ],
      "text/plain": [
       "   userID  itemID  rating  timestamp\n",
       "0     196     242       3  881250949\n",
       "1     186     302       3  891717742\n",
       "2      22     377       1  878887116\n",
       "3     244      51       2  880606923\n",
       "4     166     346       1  886397596"
      ]
     },
     "execution_count": 36,
     "metadata": {},
     "output_type": "execute_result"
    }
   ],
   "source": [
    "rating_df.head()"
   ]
  },
  {
   "cell_type": "code",
   "execution_count": 37,
   "metadata": {
    "scrolled": true
   },
   "outputs": [
    {
     "name": "stderr",
     "output_type": "stream",
     "text": [
      "100000it [00:14, 7041.04it/s]\n"
     ]
    },
    {
     "data": {
      "text/html": [
       "<div>\n",
       "<style scoped>\n",
       "    .dataframe tbody tr th:only-of-type {\n",
       "        vertical-align: middle;\n",
       "    }\n",
       "\n",
       "    .dataframe tbody tr th {\n",
       "        vertical-align: top;\n",
       "    }\n",
       "\n",
       "    .dataframe thead th {\n",
       "        text-align: right;\n",
       "    }\n",
       "</style>\n",
       "<table border=\"1\" class=\"dataframe\">\n",
       "  <thead>\n",
       "    <tr style=\"text-align: right;\">\n",
       "      <th></th>\n",
       "      <th>userID</th>\n",
       "      <th>itemID</th>\n",
       "      <th>rating</th>\n",
       "      <th>timestamp</th>\n",
       "      <th>user-cosine</th>\n",
       "    </tr>\n",
       "  </thead>\n",
       "  <tbody>\n",
       "    <tr>\n",
       "      <th>0</th>\n",
       "      <td>196</td>\n",
       "      <td>242</td>\n",
       "      <td>3</td>\n",
       "      <td>881250949</td>\n",
       "      <td>4.025213</td>\n",
       "    </tr>\n",
       "    <tr>\n",
       "      <th>1</th>\n",
       "      <td>186</td>\n",
       "      <td>302</td>\n",
       "      <td>3</td>\n",
       "      <td>891717742</td>\n",
       "      <td>4.142828</td>\n",
       "    </tr>\n",
       "    <tr>\n",
       "      <th>2</th>\n",
       "      <td>22</td>\n",
       "      <td>377</td>\n",
       "      <td>1</td>\n",
       "      <td>878887116</td>\n",
       "      <td>1.922080</td>\n",
       "    </tr>\n",
       "    <tr>\n",
       "      <th>3</th>\n",
       "      <td>244</td>\n",
       "      <td>51</td>\n",
       "      <td>2</td>\n",
       "      <td>880606923</td>\n",
       "      <td>3.431884</td>\n",
       "    </tr>\n",
       "    <tr>\n",
       "      <th>4</th>\n",
       "      <td>166</td>\n",
       "      <td>346</td>\n",
       "      <td>1</td>\n",
       "      <td>886397596</td>\n",
       "      <td>3.424963</td>\n",
       "    </tr>\n",
       "  </tbody>\n",
       "</table>\n",
       "</div>"
      ],
      "text/plain": [
       "   userID  itemID  rating  timestamp  user-cosine\n",
       "0     196     242       3  881250949     4.025213\n",
       "1     186     302       3  891717742     4.142828\n",
       "2      22     377       1  878887116     1.922080\n",
       "3     244      51       2  880606923     3.431884\n",
       "4     166     346       1  886397596     3.424963"
      ]
     },
     "execution_count": 37,
     "metadata": {},
     "output_type": "execute_result"
    }
   ],
   "source": [
    "user_cosine_recsys.evaluate_test(rating_df,copy=True).head()"
   ]
  },
  {
   "cell_type": "markdown",
   "metadata": {},
   "source": [
    "### (b)\n",
    "\n",
    "Please use the given class `CrossValidation` to report comparative `RMSE` results (averages and confidence intervals) between `user-user` and `item-item` based collaborative filtering for\n",
    " cosine similarity. Can you explain why one method may have performed better? Consider the average number of ratings per user and the average number of ratings per item when you state your answer."
   ]
  },
  {
   "cell_type": "code",
   "execution_count": 38,
   "metadata": {},
   "outputs": [],
   "source": [
    "class CrossValidation(object):\n",
    "    def __init__(self, metric, data_path=MOVIELENS_DIR):\n",
    "        \"\"\"\n",
    "            INPUT:\n",
    "                metric: string. from['RMSE','P@K','R@K']\n",
    "        \"\"\"\n",
    "        self.folds = self._getData(MOVIELENS_DIR)\n",
    "        self.metric_name = metric\n",
    "        self.metric = self._getMetric(self.metric_name)\n",
    "        \n",
    "    def _getMetric(self, metric_name):\n",
    "        \"\"\"\n",
    "            Don't change this\n",
    "        \"\"\"\n",
    "        switcher = {\n",
    "            'RMSE': self.rmse,\n",
    "            'P@K': self.patk,\n",
    "            'R@K': self.ratk,\n",
    "        }\n",
    "        \n",
    "        return switcher[metric_name]\n",
    "    \n",
    "    @staticmethod\n",
    "    def rmse(data, k, num_users, num_items, pred, true='rating'):\n",
    "        \"\"\"\n",
    "            data: pandas DataFrame. \n",
    "            pred: string. Column name that corresponding to the prediction\n",
    "            true: string. Column name that corresponding to the true rating\n",
    "        \"\"\"\n",
    "        return sqrt(mean_squared_error(data[pred], data[true]))\n",
    "    \n",
    "    # Precision at k\n",
    "    def patk(self, data, k, num_users, num_items, pred, true='rating'):\n",
    "        \"\"\"\n",
    "            data: pandas DataFrame. \n",
    "            k: top-k items retrieved\n",
    "            pred: string. Column name that corresponding to the prediction\n",
    "            true: string. Column name that corresponding to the true rating\n",
    "        \"\"\"\n",
    "        prediction = self.getMatrix(data, num_users, num_items, pred)\n",
    "        testSet =  self.getMatrix(data, num_users, num_items, true)\n",
    "    \n",
    "        # Initialize sum and count vars for average calculation\n",
    "        sumPrecisions = 0\n",
    "        countPrecisions = 0\n",
    "\n",
    "        # Define function for converting 1-5 rating to 0/1 (like / don't like)\n",
    "        vf = np.vectorize(lambda x: 1 if x >= 4 else 0)\n",
    "\n",
    "        for userID in range(num_users):\n",
    "            # Pick top K based on predicted rating\n",
    "            userVector = prediction[userID,:]\n",
    "            topK = nlargest(k, range(len(userVector)), userVector.take)\n",
    "\n",
    "            # Convert test set ratings to like / don't like\n",
    "            userTestVector = vf(testSet[userID,:]).nonzero()[0]\n",
    "\n",
    "            # Calculate precision\n",
    "            precision = float(len([item for item in topK if item in userTestVector]))/len(topK)\n",
    "\n",
    "            # Update sum and count\n",
    "            sumPrecisions += precision\n",
    "            countPrecisions += 1\n",
    "\n",
    "        # Return average P@k\n",
    "        return float(sumPrecisions)/countPrecisions\n",
    "    \n",
    "    # Recall at k\n",
    "    def ratk(self, data, k, num_users, num_items, pred, true='rating'):\n",
    "        \"\"\"\n",
    "            data: pandas DataFrame. \n",
    "            k: top-k items relevant\n",
    "            pred: string. Column name that corresponding to the prediction\n",
    "            true: string. Column name that corresponding to the true rating\n",
    "        \"\"\"\n",
    "        prediction = self.getMatrix(data, num_users, num_items, pred)\n",
    "        testSet =  self.getMatrix(data, num_users, num_items, true)\n",
    "        # Initialize sum and count vars for average calculation\n",
    "        sumRecalls = 0\n",
    "        countRecalls = 0\n",
    "\n",
    "        # Define function for converting 1-5 rating to 0/1 (like / don't like)\n",
    "        vf = np.vectorize(lambda x: 1 if x >= 4 else 0)\n",
    "\n",
    "        for userID in range(num_users):\n",
    "            # Pick top K based on predicted rating\n",
    "            userVector = prediction[userID,:]\n",
    "            topK = nlargest(k, range(len(userVector)), userVector.take)\n",
    "\n",
    "            # Convert test set ratings to like / don't like\n",
    "            userTestVector = vf(testSet[userID,:]).nonzero()[0]\n",
    "\n",
    "            # Ignore user if has no ratings in the test set\n",
    "            if (len(userTestVector) == 0):\n",
    "                continue\n",
    "\n",
    "            # Calculate recall\n",
    "            recall = float(len([item for item in topK if item in userTestVector]))/len(userTestVector)\n",
    "\n",
    "            # Update sum and count\n",
    "            sumRecalls += recall\n",
    "            countRecalls += 1\n",
    "\n",
    "        # Return average R@k\n",
    "        return float(sumRecalls)/countRecalls\n",
    "    \n",
    "    @staticmethod\n",
    "    def getMatrix(rating_df, num_users, num_items, column_name):\n",
    "        matrix = np.zeros((num_users, num_items))\n",
    "    \n",
    "        for (index, userID, itemID, value) in rating_df[['userID','itemID', column_name]].itertuples():\n",
    "            matrix[userID-1, itemID-1] = value\n",
    "            \n",
    "        return matrix\n",
    "    \n",
    "    @staticmethod\n",
    "    def _getData(data_path):\n",
    "        \"\"\"\n",
    "            Don't change this function\n",
    "        \"\"\"\n",
    "        folds = []\n",
    "        data_types = ['u{0}.base','u{0}.test']\n",
    "        for i in range(1,6):\n",
    "            train_set = getData(data_path, data_types[0].format(i))\n",
    "            test_set = getData(data_path, data_types[1].format(i))\n",
    "            folds.append([train_set, test_set])\n",
    "        return folds\n",
    "    \n",
    "    def run(self, algorithms, num_users, num_items, k=1):\n",
    "        \"\"\"\n",
    "            5-fold cross-validation\n",
    "            algorithms: list. a list of algorithms. \n",
    "                        eg: [user_cosine_recsys, item_euclidean_recsys]\n",
    "        \"\"\"\n",
    "        \n",
    "        scores = {}\n",
    "        for algorithm in algorithms:\n",
    "            print('Processing algorithm {0}'.format(algorithm.getPredColName()))\n",
    "            fold_scores = []\n",
    "            for fold in self.folds:\n",
    "                algorithm.reset()\n",
    "                algorithm.predict_all(fold[0], num_users, num_items)\n",
    "                prediction = algorithm.evaluate_test(fold[1])\n",
    "                pred_col = algorithm.getPredColName()\n",
    "                fold_scores.append(self.metric(prediction, k, num_users, num_items, pred_col))\n",
    "                \n",
    "            mean = np.mean(fold_scores)\n",
    "            ci_low, ci_high = stats.t.interval(0.95, len(fold_scores)-1, loc=mean, scale=stats.sem(fold_scores))\n",
    "            scores[algorithm.getPredColName()] = [fold_scores, mean, ci_low, ci_high]\n",
    "            \n",
    "        results = scores    \n",
    "    \n",
    "        return results\n",
    "            "
   ]
  },
  {
   "cell_type": "code",
   "execution_count": 39,
   "metadata": {},
   "outputs": [],
   "source": [
    "# How to use CrossValidation Class?"
   ]
  },
  {
   "cell_type": "code",
   "execution_count": 40,
   "metadata": {},
   "outputs": [],
   "source": [
    "# 1. gather your algorithms in previous steps.\n",
    "algorithm_instances = [popularity_recsys, \n",
    "                       average_user_rating_recsys, \n",
    "                       user_cosine_recsys]"
   ]
  },
  {
   "cell_type": "code",
   "execution_count": 41,
   "metadata": {},
   "outputs": [],
   "source": [
    "# 2. Instantiate a CrossValidation instance and assign the measurement that you want to use\n",
    "# RMSE, P@K, R@K\n",
    "# Precision at K in this example\n",
    "cv_patk = CrossValidation('P@K')"
   ]
  },
  {
   "cell_type": "code",
   "execution_count": null,
   "metadata": {
    "scrolled": true
   },
   "outputs": [
    {
     "name": "stdout",
     "output_type": "stream",
     "text": [
      "Processing algorithm popularity\n",
      "calculated 0 users\n",
      "calculated 100 users\n",
      "calculated 200 users\n",
      "calculated 300 users\n",
      "calculated 400 users\n",
      "calculated 500 users\n",
      "calculated 600 users\n",
      "calculated 700 users\n",
      "calculated 800 users\n",
      "calculated 900 users\n",
      "Max item popularity score: 1.0\n"
     ]
    },
    {
     "name": "stderr",
     "output_type": "stream",
     "text": [
      "20000it [00:02, 7235.71it/s]\n"
     ]
    },
    {
     "name": "stdout",
     "output_type": "stream",
     "text": [
      "calculated 0 users\n",
      "calculated 100 users\n",
      "calculated 200 users\n",
      "calculated 300 users\n",
      "calculated 400 users\n",
      "calculated 500 users\n",
      "calculated 600 users\n",
      "calculated 700 users\n",
      "calculated 800 users\n",
      "calculated 900 users\n",
      "Max item popularity score: 1.0\n"
     ]
    },
    {
     "name": "stderr",
     "output_type": "stream",
     "text": [
      "20000it [00:02, 7318.80it/s]\n"
     ]
    },
    {
     "name": "stdout",
     "output_type": "stream",
     "text": [
      "calculated 0 users\n",
      "calculated 100 users\n",
      "calculated 200 users\n",
      "calculated 300 users\n",
      "calculated 400 users\n",
      "calculated 500 users\n",
      "calculated 600 users\n",
      "calculated 700 users\n",
      "calculated 800 users\n",
      "calculated 900 users\n",
      "Max item popularity score: 1.0\n"
     ]
    },
    {
     "name": "stderr",
     "output_type": "stream",
     "text": [
      "20000it [00:03, 5813.22it/s]\n"
     ]
    },
    {
     "name": "stdout",
     "output_type": "stream",
     "text": [
      "calculated 0 users\n",
      "calculated 100 users\n",
      "calculated 200 users\n",
      "calculated 300 users\n",
      "calculated 400 users\n",
      "calculated 500 users\n",
      "calculated 600 users\n",
      "calculated 700 users\n",
      "calculated 800 users\n",
      "calculated 900 users\n",
      "Max item popularity score: 1.0\n"
     ]
    },
    {
     "name": "stderr",
     "output_type": "stream",
     "text": [
      "20000it [00:02, 7367.37it/s]\n"
     ]
    },
    {
     "name": "stdout",
     "output_type": "stream",
     "text": [
      "calculated 0 users\n",
      "calculated 100 users\n",
      "calculated 200 users\n",
      "calculated 300 users\n",
      "calculated 400 users\n",
      "calculated 500 users\n",
      "calculated 600 users\n",
      "calculated 700 users\n",
      "calculated 800 users\n",
      "calculated 900 users\n",
      "Max item popularity score: 1.0\n"
     ]
    },
    {
     "name": "stderr",
     "output_type": "stream",
     "text": [
      "20000it [00:02, 7544.81it/s]\n"
     ]
    },
    {
     "name": "stdout",
     "output_type": "stream",
     "text": [
      "Processing algorithm useraverage\n"
     ]
    },
    {
     "name": "stderr",
     "output_type": "stream",
     "text": [
      "20000it [00:02, 7783.51it/s]\n",
      "20000it [00:02, 8430.54it/s]\n"
     ]
    }
   ],
   "source": [
    "# 3. Run CV by giving:\n",
    "#    1> algorithms just gathered\n",
    "#    2> number of users in the full dataset\n",
    "#    3> number of items in the full dataset\n",
    "#    4> precision or recall at K need a K value, so k=5 means precision at 5 in this example\n",
    "# Results include independent results from 5 folds, their mean, and confidence interval.\n",
    "cv_patk.run(algorithm_instances, num_users, num_items,k=5)"
   ]
  },
  {
   "cell_type": "markdown",
   "metadata": {},
   "source": [
    "Using `CrossValidation` to report comparative RMSE results between `user-user` and `item-item`"
   ]
  },
  {
   "cell_type": "code",
   "execution_count": 42,
   "metadata": {},
   "outputs": [],
   "source": [
    "# 1. Create your algorithm instances\n",
    "user_cosine_recsys = SimBasedRecSys(base='user', method='cosine')\n",
    "item_cosine_recsys = SimBasedRecSys(base='item', method='cosine')"
   ]
  },
  {
   "cell_type": "code",
   "execution_count": 43,
   "metadata": {},
   "outputs": [],
   "source": [
    "# 2. Set up CrossValidation with RMSE metric\n",
    "cv_rmse = CrossValidation('RMSE')"
   ]
  },
  {
   "cell_type": "code",
   "execution_count": 44,
   "metadata": {},
   "outputs": [
    {
     "name": "stdout",
     "output_type": "stream",
     "text": [
      "Processing algorithm user-cosine\n"
     ]
    },
    {
     "name": "stderr",
     "output_type": "stream",
     "text": [
      "20000it [00:02, 8293.96it/s]\n",
      "20000it [00:02, 8756.01it/s]\n",
      "20000it [00:02, 8850.50it/s]\n",
      "20000it [00:02, 8675.76it/s]\n",
      "20000it [00:02, 8434.52it/s]\n"
     ]
    },
    {
     "name": "stdout",
     "output_type": "stream",
     "text": [
      "Processing algorithm item-cosine\n"
     ]
    },
    {
     "name": "stderr",
     "output_type": "stream",
     "text": [
      "20000it [00:02, 8724.84it/s]\n",
      "20000it [00:02, 8734.11it/s]\n",
      "20000it [00:02, 8732.29it/s]\n",
      "20000it [00:02, 8595.63it/s]\n",
      "20000it [00:02, 8863.63it/s]\n"
     ]
    }
   ],
   "source": [
    "# 3. Run 5-fold evaluation\n",
    "\n",
    "algorithm_instances = [user_cosine_recsys, item_cosine_recsys]\n",
    "results = cv_rmse.run(algorithm_instances, num_users, num_items)"
   ]
  },
  {
   "cell_type": "code",
   "execution_count": 45,
   "metadata": {},
   "outputs": [
    {
     "name": "stdout",
     "output_type": "stream",
     "text": [
      "user-cosine:\n",
      "  RMSE mean = 1.0174\n",
      "  95% CI = [1.0090, 1.0257]\n",
      "item-cosine:\n",
      "  RMSE mean = 1.0152\n",
      "  95% CI = [1.0014, 1.0290]\n"
     ]
    }
   ],
   "source": [
    "# 4. Print results\n",
    "\n",
    "for model_name, (scores, mean, ci_low, ci_high) in results.items():\n",
    "    print(f\"{model_name}:\")\n",
    "    print(f\"  RMSE mean = {mean:.4f}\")\n",
    "    print(f\"  95% CI = [{ci_low:.4f}, {ci_high:.4f}]\")"
   ]
  },
  {
   "cell_type": "markdown",
   "metadata": {},
   "source": [
    "**Item-based collaborative filtering with `cosine similarity` slightly outperformed user-based CF in terms of `RMSE`**. This is likely because each item receives ratings from many users, producing more stable similarity patterns. In contrast, user preferences tend to vary more and are less reliable for predicting unseen ratings, especially with `cosine similarity` which emphasizes rating pattern alignment over absolute values. It reminds me of an experiment where people randomly guess how many marbles are there in a big jar and they just make wild guess. Turns out, if we just take enough datapoints and average them out, it somewhat approximates to the real number of marbles. Such \"aggregation of wisdom\" and \"reduction of noise\" may have contributed similarly in our item-item CF.\n",
    "\n",
    "Similarly, we can see **item similarities are computed from all users who rated those items** whereas **user similarities depend on individual user's rating history**. Due to such broader consensus of users, item similarity may have been slightly more reliable and thus performed better on `RMSE`. But **it will not still gurantee better ranking, we need further checking user ranking metrics.**\n",
    "\n",
    "As mentioned in the handout, considering the average number of ratings per user (approx 106 ) and the average number of ratings per item (approx 59). \n",
    "\n",
    "* With 1,682 items and ~106 ratings per user, users typically rate 6.302% of all items\n",
    "* With 943 users and ~59 ratings per item, each item is rated by 6.256% of all users\n",
    "\n",
    "Which does not actually give me any insight. Rather, in my opinion, it should be more about the overlap of item vs users. I.e., users have less overlap and have distinct taste, whereas, items have more overlap in genre and attract similar users which makes it more reliable for calculating similarity.\n"
   ]
  },
  {
   "attachments": {},
   "cell_type": "markdown",
   "metadata": {},
   "source": [
    "## Q4 Performance Comparison"
   ]
  },
  {
   "attachments": {},
   "cell_type": "markdown",
   "metadata": {},
   "source": [
    "### (a)  Please use the given class `CrossValidation` to compare all the recommenders in Q1, Q2 and Q3 (using cosine similarity) on `RMSE`, `P@k`, and `R@k`. Show the cleanly formatted results of this comparison"
   ]
  },
  {
   "cell_type": "code",
   "execution_count": 46,
   "metadata": {},
   "outputs": [],
   "source": [
    "popularity_recsys = BaseLineRecSys('popularity')\n",
    "average_user_rating_recsys = BaseLineRecSys('useraverage')\n",
    "user_cosine_recsys = SimBasedRecSys(base='user', method='cosine')\n",
    "item_cosine_recsys = SimBasedRecSys(base='item', method='cosine')"
   ]
  },
  {
   "cell_type": "code",
   "execution_count": 47,
   "metadata": {},
   "outputs": [
    {
     "name": "stdout",
     "output_type": "stream",
     "text": [
      "\n",
      "### Evaluating RMSE ###\n",
      "Processing algorithm popularity\n",
      "calculated 0 users\n",
      "calculated 100 users\n",
      "calculated 200 users\n",
      "calculated 300 users\n",
      "calculated 400 users\n",
      "calculated 500 users\n",
      "calculated 600 users\n",
      "calculated 700 users\n",
      "calculated 800 users\n",
      "calculated 900 users\n",
      "Max item popularity score: 1.0\n"
     ]
    },
    {
     "name": "stderr",
     "output_type": "stream",
     "text": [
      "20000it [00:02, 8631.36it/s]\n"
     ]
    },
    {
     "name": "stdout",
     "output_type": "stream",
     "text": [
      "calculated 0 users\n",
      "calculated 100 users\n",
      "calculated 200 users\n",
      "calculated 300 users\n",
      "calculated 400 users\n",
      "calculated 500 users\n",
      "calculated 600 users\n",
      "calculated 700 users\n",
      "calculated 800 users\n",
      "calculated 900 users\n",
      "Max item popularity score: 1.0\n"
     ]
    },
    {
     "name": "stderr",
     "output_type": "stream",
     "text": [
      "20000it [00:02, 8810.95it/s]\n"
     ]
    },
    {
     "name": "stdout",
     "output_type": "stream",
     "text": [
      "calculated 0 users\n",
      "calculated 100 users\n",
      "calculated 200 users\n",
      "calculated 300 users\n",
      "calculated 400 users\n",
      "calculated 500 users\n",
      "calculated 600 users\n",
      "calculated 700 users\n",
      "calculated 800 users\n",
      "calculated 900 users\n",
      "Max item popularity score: 1.0\n"
     ]
    },
    {
     "name": "stderr",
     "output_type": "stream",
     "text": [
      "20000it [00:02, 8551.97it/s]\n"
     ]
    },
    {
     "name": "stdout",
     "output_type": "stream",
     "text": [
      "calculated 0 users\n",
      "calculated 100 users\n",
      "calculated 200 users\n",
      "calculated 300 users\n",
      "calculated 400 users\n",
      "calculated 500 users\n",
      "calculated 600 users\n",
      "calculated 700 users\n",
      "calculated 800 users\n",
      "calculated 900 users\n",
      "Max item popularity score: 1.0\n"
     ]
    },
    {
     "name": "stderr",
     "output_type": "stream",
     "text": [
      "20000it [00:02, 8567.23it/s]\n"
     ]
    },
    {
     "name": "stdout",
     "output_type": "stream",
     "text": [
      "calculated 0 users\n",
      "calculated 100 users\n",
      "calculated 200 users\n",
      "calculated 300 users\n",
      "calculated 400 users\n",
      "calculated 500 users\n",
      "calculated 600 users\n",
      "calculated 700 users\n",
      "calculated 800 users\n",
      "calculated 900 users\n",
      "Max item popularity score: 1.0\n"
     ]
    },
    {
     "name": "stderr",
     "output_type": "stream",
     "text": [
      "20000it [00:02, 8929.90it/s]\n"
     ]
    },
    {
     "name": "stdout",
     "output_type": "stream",
     "text": [
      "Processing algorithm useraverage\n"
     ]
    },
    {
     "name": "stderr",
     "output_type": "stream",
     "text": [
      "20000it [00:02, 8888.56it/s]\n",
      "20000it [00:02, 8602.53it/s]\n",
      "20000it [00:02, 8884.72it/s]\n",
      "20000it [00:02, 8967.92it/s]\n",
      "20000it [00:02, 8635.14it/s]\n"
     ]
    },
    {
     "name": "stdout",
     "output_type": "stream",
     "text": [
      "Processing algorithm user-cosine\n"
     ]
    },
    {
     "name": "stderr",
     "output_type": "stream",
     "text": [
      "20000it [00:02, 8657.81it/s]\n",
      "20000it [00:02, 8575.32it/s]\n",
      "20000it [00:02, 8743.89it/s]\n",
      "20000it [00:02, 8799.86it/s]\n",
      "20000it [00:02, 8889.20it/s]\n"
     ]
    },
    {
     "name": "stdout",
     "output_type": "stream",
     "text": [
      "Processing algorithm item-cosine\n"
     ]
    },
    {
     "name": "stderr",
     "output_type": "stream",
     "text": [
      "20000it [00:02, 8847.31it/s]\n",
      "20000it [00:02, 8494.55it/s]\n",
      "20000it [00:02, 8830.17it/s]\n",
      "20000it [00:02, 8625.23it/s]\n",
      "20000it [00:02, 8761.46it/s]\n"
     ]
    },
    {
     "name": "stdout",
     "output_type": "stream",
     "text": [
      "\n",
      "Results for RMSE:\n",
      "Algorithm                       Mean      95% CI Low     95% CI High\n",
      "popularity                    3.1591          3.1393          3.1789\n",
      "useraverage                   1.0437          1.0289          1.0585\n",
      "user-cosine                   1.0174          1.0090          1.0257\n",
      "item-cosine                   1.0152          1.0014          1.0290\n",
      "\n",
      "### Evaluating P@K ###\n",
      "Processing algorithm popularity\n",
      "calculated 0 users\n",
      "calculated 100 users\n",
      "calculated 200 users\n",
      "calculated 300 users\n",
      "calculated 400 users\n",
      "calculated 500 users\n",
      "calculated 600 users\n",
      "calculated 700 users\n",
      "calculated 800 users\n",
      "calculated 900 users\n",
      "Max item popularity score: 1.0\n"
     ]
    },
    {
     "name": "stderr",
     "output_type": "stream",
     "text": [
      "20000it [00:02, 8658.97it/s]\n"
     ]
    },
    {
     "name": "stdout",
     "output_type": "stream",
     "text": [
      "calculated 0 users\n",
      "calculated 100 users\n",
      "calculated 200 users\n",
      "calculated 300 users\n",
      "calculated 400 users\n",
      "calculated 500 users\n",
      "calculated 600 users\n",
      "calculated 700 users\n",
      "calculated 800 users\n",
      "calculated 900 users\n",
      "Max item popularity score: 1.0\n"
     ]
    },
    {
     "name": "stderr",
     "output_type": "stream",
     "text": [
      "20000it [00:02, 8708.18it/s]\n"
     ]
    },
    {
     "name": "stdout",
     "output_type": "stream",
     "text": [
      "calculated 0 users\n",
      "calculated 100 users\n",
      "calculated 200 users\n",
      "calculated 300 users\n",
      "calculated 400 users\n",
      "calculated 500 users\n",
      "calculated 600 users\n",
      "calculated 700 users\n",
      "calculated 800 users\n",
      "calculated 900 users\n",
      "Max item popularity score: 1.0\n"
     ]
    },
    {
     "name": "stderr",
     "output_type": "stream",
     "text": [
      "20000it [00:02, 8709.80it/s]\n"
     ]
    },
    {
     "name": "stdout",
     "output_type": "stream",
     "text": [
      "calculated 0 users\n",
      "calculated 100 users\n",
      "calculated 200 users\n",
      "calculated 300 users\n",
      "calculated 400 users\n",
      "calculated 500 users\n",
      "calculated 600 users\n",
      "calculated 700 users\n",
      "calculated 800 users\n",
      "calculated 900 users\n",
      "Max item popularity score: 1.0\n"
     ]
    },
    {
     "name": "stderr",
     "output_type": "stream",
     "text": [
      "20000it [00:02, 8909.10it/s]\n"
     ]
    },
    {
     "name": "stdout",
     "output_type": "stream",
     "text": [
      "calculated 0 users\n",
      "calculated 100 users\n",
      "calculated 200 users\n",
      "calculated 300 users\n",
      "calculated 400 users\n",
      "calculated 500 users\n",
      "calculated 600 users\n",
      "calculated 700 users\n",
      "calculated 800 users\n",
      "calculated 900 users\n",
      "Max item popularity score: 1.0\n"
     ]
    },
    {
     "name": "stderr",
     "output_type": "stream",
     "text": [
      "20000it [00:02, 8680.60it/s]\n"
     ]
    },
    {
     "name": "stdout",
     "output_type": "stream",
     "text": [
      "Processing algorithm useraverage\n"
     ]
    },
    {
     "name": "stderr",
     "output_type": "stream",
     "text": [
      "20000it [00:04, 4351.87it/s]\n",
      "20000it [00:02, 7113.13it/s]\n",
      "20000it [00:02, 7164.36it/s]\n",
      "20000it [00:04, 4987.35it/s]\n",
      "20000it [00:02, 7303.62it/s]\n"
     ]
    },
    {
     "name": "stdout",
     "output_type": "stream",
     "text": [
      "Processing algorithm user-cosine\n"
     ]
    },
    {
     "name": "stderr",
     "output_type": "stream",
     "text": [
      "20000it [00:05, 3887.84it/s]\n",
      "20000it [00:07, 2632.62it/s]\n",
      "20000it [00:09, 2192.86it/s]\n",
      "20000it [00:06, 2894.38it/s]\n",
      "20000it [00:02, 7714.05it/s]\n"
     ]
    },
    {
     "name": "stdout",
     "output_type": "stream",
     "text": [
      "Processing algorithm item-cosine\n"
     ]
    },
    {
     "name": "stderr",
     "output_type": "stream",
     "text": [
      "20000it [00:03, 5669.44it/s]\n",
      "20000it [00:05, 3843.10it/s]\n",
      "20000it [00:02, 7734.05it/s]\n",
      "20000it [00:02, 8089.04it/s]\n",
      "20000it [00:02, 8733.10it/s]\n"
     ]
    },
    {
     "name": "stdout",
     "output_type": "stream",
     "text": [
      "\n",
      "Results for P@K:\n",
      "Algorithm                       Mean      95% CI Low     95% CI High\n",
      "popularity                    0.5506          0.4054          0.6957\n",
      "useraverage                   0.4736          0.3420          0.6053\n",
      "user-cosine                   0.5558          0.4096          0.7021\n",
      "item-cosine                   0.5322          0.3837          0.6807\n",
      "\n",
      "### Evaluating R@K ###\n",
      "Processing algorithm popularity\n",
      "calculated 0 users\n",
      "calculated 100 users\n",
      "calculated 200 users\n",
      "calculated 300 users\n",
      "calculated 400 users\n",
      "calculated 500 users\n",
      "calculated 600 users\n",
      "calculated 700 users\n",
      "calculated 800 users\n",
      "calculated 900 users\n",
      "Max item popularity score: 1.0\n"
     ]
    },
    {
     "name": "stderr",
     "output_type": "stream",
     "text": [
      "20000it [00:12, 1611.68it/s]\n"
     ]
    },
    {
     "name": "stdout",
     "output_type": "stream",
     "text": [
      "calculated 0 users\n",
      "calculated 100 users\n",
      "calculated 200 users\n",
      "calculated 300 users\n",
      "calculated 400 users\n",
      "calculated 500 users\n",
      "calculated 600 users\n",
      "calculated 700 users\n",
      "calculated 800 users\n",
      "calculated 900 users\n",
      "Max item popularity score: 1.0\n"
     ]
    },
    {
     "name": "stderr",
     "output_type": "stream",
     "text": [
      "20000it [00:05, 3631.38it/s]\n"
     ]
    },
    {
     "name": "stdout",
     "output_type": "stream",
     "text": [
      "calculated 0 users\n",
      "calculated 100 users\n",
      "calculated 200 users\n",
      "calculated 300 users\n",
      "calculated 400 users\n",
      "calculated 500 users\n",
      "calculated 600 users\n",
      "calculated 700 users\n",
      "calculated 800 users\n",
      "calculated 900 users\n",
      "Max item popularity score: 1.0\n"
     ]
    },
    {
     "name": "stderr",
     "output_type": "stream",
     "text": [
      "20000it [00:02, 8380.53it/s]\n"
     ]
    },
    {
     "name": "stdout",
     "output_type": "stream",
     "text": [
      "calculated 0 users\n",
      "calculated 100 users\n",
      "calculated 200 users\n",
      "calculated 300 users\n",
      "calculated 400 users\n",
      "calculated 500 users\n",
      "calculated 600 users\n",
      "calculated 700 users\n",
      "calculated 800 users\n",
      "calculated 900 users\n",
      "Max item popularity score: 1.0\n"
     ]
    },
    {
     "name": "stderr",
     "output_type": "stream",
     "text": [
      "20000it [00:02, 8246.03it/s]\n"
     ]
    },
    {
     "name": "stdout",
     "output_type": "stream",
     "text": [
      "calculated 0 users\n",
      "calculated 100 users\n",
      "calculated 200 users\n",
      "calculated 300 users\n",
      "calculated 400 users\n",
      "calculated 500 users\n",
      "calculated 600 users\n",
      "calculated 700 users\n",
      "calculated 800 users\n",
      "calculated 900 users\n",
      "Max item popularity score: 1.0\n"
     ]
    },
    {
     "name": "stderr",
     "output_type": "stream",
     "text": [
      "20000it [00:02, 8608.82it/s]\n"
     ]
    },
    {
     "name": "stdout",
     "output_type": "stream",
     "text": [
      "Processing algorithm useraverage\n"
     ]
    },
    {
     "name": "stderr",
     "output_type": "stream",
     "text": [
      "20000it [00:02, 8180.37it/s]\n",
      "20000it [00:04, 4743.89it/s]\n",
      "20000it [00:03, 5629.20it/s]\n",
      "20000it [00:02, 8333.10it/s]\n",
      "20000it [00:02, 6980.48it/s]\n"
     ]
    },
    {
     "name": "stdout",
     "output_type": "stream",
     "text": [
      "Processing algorithm user-cosine\n"
     ]
    },
    {
     "name": "stderr",
     "output_type": "stream",
     "text": [
      "20000it [00:02, 7937.24it/s]\n",
      "20000it [00:02, 8183.02it/s]\n",
      "20000it [00:02, 7826.91it/s]\n",
      "20000it [00:02, 7708.80it/s]\n",
      "20000it [00:02, 7928.98it/s]\n"
     ]
    },
    {
     "name": "stdout",
     "output_type": "stream",
     "text": [
      "Processing algorithm item-cosine\n"
     ]
    },
    {
     "name": "stderr",
     "output_type": "stream",
     "text": [
      "20000it [00:02, 8290.56it/s]\n",
      "20000it [00:02, 8169.41it/s]\n",
      "20000it [00:02, 8316.73it/s]\n",
      "20000it [00:02, 7408.07it/s]\n",
      "20000it [00:02, 8180.30it/s]\n"
     ]
    },
    {
     "name": "stdout",
     "output_type": "stream",
     "text": [
      "\n",
      "Results for R@K:\n",
      "Algorithm                       Mean      95% CI Low     95% CI High\n",
      "popularity                    0.4841          0.3671          0.6010\n",
      "useraverage                   0.4413          0.3293          0.5533\n",
      "user-cosine                   0.4863          0.3694          0.6031\n",
      "item-cosine                   0.4750          0.3536          0.5964\n"
     ]
    }
   ],
   "source": [
    "algorithms = [\n",
    "    popularity_recsys,\n",
    "    average_user_rating_recsys,\n",
    "    user_cosine_recsys,\n",
    "    item_cosine_recsys\n",
    "]\n",
    "\n",
    "metrics = ['RMSE', 'P@K', 'R@K']\n",
    "k = 5  # for precision@k and recall@k\n",
    "\n",
    "results_summary = {}\n",
    "\n",
    "for metric in metrics:\n",
    "    print(f\"\\n### Evaluating {metric} ###\")\n",
    "    cv = CrossValidation(metric)\n",
    "    results = cv.run(algorithms, num_users, num_items, k=k if metric != 'RMSE' else None)\n",
    "    \n",
    "    # Store results\n",
    "    results_summary[metric] = results\n",
    "\n",
    "    # Pretty print\n",
    "    print(f\"\\nResults for {metric}:\")\n",
    "    print(f\"{'Algorithm':<25} {'Mean':>10} {'95% CI Low':>15} {'95% CI High':>15}\")\n",
    "    for model_name, (scores, mean, ci_low, ci_high) in results.items():\n",
    "        print(f\"{model_name:<25} {mean:10.4f} {ci_low:15.4f} {ci_high:15.4f}\")\n"
   ]
  },
  {
   "attachments": {},
   "cell_type": "markdown",
   "metadata": {},
   "source": [
    "### (b) Some baselines cannot be evaluated with some metrics? Which ones and why?"
   ]
  },
  {
   "cell_type": "markdown",
   "metadata": {},
   "source": [
    "* **Popularity-based Recommender**: Popularity based recomender actually recomends the same product to all user. Evaluating it using `P@K` and `R@K` may actually mean nothing because the recomendations are non-personalized. `RMSE` can be used to calculate the qualities of numerical values of our prediction.\n",
    "* **User average recommender**: `P@K` and `R@K` can be problematic as all the unseen items are rated the same value (the average for that particular user) which will severly fail in ranking items. To be specific:\n",
    "  * `P@K` and `R@K` evaluation will be unstable as result varies between runs even for the same training data. This is because all unrated items are predicted the same and from these same values, we have to pick `K` products randomly. In another way, we can say that it is meaningless since there is no such thing as a top-ranked `K` items\n",
    "  * `RMSE` still can compute the numerical error as it only compares the values between the predicted and the actual ratings, though not helpful for the recomendation rankings of items.  \n",
    "* **Similarity-based recommenders (user/item)**: This can be evaluated with three of the metrics\n",
    "  * `RMSE` calculates numerical error between predicted and actual rattings. This does not mean that performance on RMSE makes the recomender a good one.\n",
    "  * `P@K` and `R@K` helps produce ranked lists\n",
    "   "
   ]
  },
  {
   "cell_type": "markdown",
   "metadata": {},
   "source": [
    "### (c) What is the best algorithm for each of `RMSE`, `P@k`, and `R@k`? Can you explain why this may be?"
   ]
  },
  {
   "cell_type": "markdown",
   "metadata": {},
   "source": [
    "My results give the following\n",
    "\n",
    "| Metric   | Best Algorithm  | Mean Score | Why It May Be the Best                                                                                              |\n",
    "| -------- | --------------- | ---------- | ------------------------------------------------------------------------------------------------------------------- |\n",
    "| `RMSE` | `item_cosine_recsys` | `1.0152`     | Item similarities are more reliable since they **aggregate ratings from different users** and inherently **compensate for individual user rating bias**. Additionally, items with similar characteristics (i.e. movie genres) attract overlapping user groups that may have caused more accurate rating prediction.                 |\n",
    "| `P@K` | `user_cosine_recsys` | `0.5558`     | User-based collaborative filtering offers more precise ranking **persoalized** to users, exceling at finding users with genuinely similar preferences. It leads to better identification of items (moviess) that users willl actually like as it captures nuanced preference similarities. |\n",
    "| `R@K` | `user_cosine_recsys` | `0.4863`     | User similarity enables better **coverage of relevant items** by using preference patterns from similar users. This may have enabled them to provide more diverse items that align with user tastes. Such a recomonder system considers the  full preference profiles of similar users which helps it find more relevant items overall.              |\n"
   ]
  },
  {
   "cell_type": "markdown",
   "metadata": {},
   "source": [
    "### (d) Does good performance on RMSE imply good performance on ranking metrics and vice versa? Why / why not?"
   ]
  },
  {
   "cell_type": "markdown",
   "metadata": {},
   "source": [
    "`RMSE` metric implies how similar the predicted and the actual ratings are. But it doesn't guarantee good performance in top-k recommendation metrics like `P@K` or `R@K`. This is becuase `RMS` treats every ratings equally, even for movies that the user may never be recomended. Penalizing our prediction even for the last 1000th movie that actually makes no sense. \n",
    "\n",
    "On the other hand, ranking metrics like `P@K` and `R@K` evaluate whether the top-K highest-ranked items are the ones the user actually likes or not instead of treating every prediction with the same importance. This means such metrics penalises only for the top `K` products in the rank and their relevance. Thus, a good `RMSE` may or may not have a good performance on ranking metrics and vice versa."
   ]
  },
  {
   "attachments": {},
   "cell_type": "markdown",
   "metadata": {},
   "source": [
    "## Q5. Similarity Evaluation"
   ]
  },
  {
   "attachments": {},
   "cell_type": "markdown",
   "metadata": {},
   "source": [
    "### (a) Go through the list of movies and pick three not-so-popular movies that you know well. I.e., do not choose “Star Wars” and note that we expect everyone in the class to have chosen different movies. For each of these three movies, list the top 5 most similar movie names according to item-item cosine similarity (you might use a function like numpy argsort)."
   ]
  },
  {
   "cell_type": "code",
   "execution_count": 48,
   "metadata": {},
   "outputs": [
    {
     "name": "stdout",
     "output_type": "stream",
     "text": [
      "['allbut.pl', 'mku.sh', 'README', 'u.data', 'u.genre', 'u.info', 'u.item', 'u.occupation', 'u.user', 'u1.base', 'u1.test', 'u2.base', 'u2.test', 'u3.base', 'u3.test', 'u4.base', 'u4.test', 'u5.base', 'u5.test', 'ua.base', 'ua.test', 'ub.base', 'ub.test']\n"
     ]
    }
   ],
   "source": [
    "print(os.listdir(MOVIELENS_DIR))"
   ]
  },
  {
   "cell_type": "code",
   "execution_count": 49,
   "metadata": {},
   "outputs": [
    {
     "data": {
      "text/html": [
       "<div>\n",
       "<style scoped>\n",
       "    .dataframe tbody tr th:only-of-type {\n",
       "        vertical-align: middle;\n",
       "    }\n",
       "\n",
       "    .dataframe tbody tr th {\n",
       "        vertical-align: top;\n",
       "    }\n",
       "\n",
       "    .dataframe thead th {\n",
       "        text-align: right;\n",
       "    }\n",
       "</style>\n",
       "<table border=\"1\" class=\"dataframe\">\n",
       "  <thead>\n",
       "    <tr style=\"text-align: right;\">\n",
       "      <th></th>\n",
       "      <th>movieID</th>\n",
       "      <th>movieTitle</th>\n",
       "    </tr>\n",
       "  </thead>\n",
       "  <tbody>\n",
       "    <tr>\n",
       "      <th>0</th>\n",
       "      <td>1</td>\n",
       "      <td>Toy Story (1995)</td>\n",
       "    </tr>\n",
       "    <tr>\n",
       "      <th>1</th>\n",
       "      <td>2</td>\n",
       "      <td>GoldenEye (1995)</td>\n",
       "    </tr>\n",
       "    <tr>\n",
       "      <th>2</th>\n",
       "      <td>3</td>\n",
       "      <td>Four Rooms (1995)</td>\n",
       "    </tr>\n",
       "    <tr>\n",
       "      <th>3</th>\n",
       "      <td>4</td>\n",
       "      <td>Get Shorty (1995)</td>\n",
       "    </tr>\n",
       "    <tr>\n",
       "      <th>4</th>\n",
       "      <td>5</td>\n",
       "      <td>Copycat (1995)</td>\n",
       "    </tr>\n",
       "  </tbody>\n",
       "</table>\n",
       "</div>"
      ],
      "text/plain": [
       "   movieID         movieTitle\n",
       "0        1   Toy Story (1995)\n",
       "1        2   GoldenEye (1995)\n",
       "2        3  Four Rooms (1995)\n",
       "3        4  Get Shorty (1995)\n",
       "4        5     Copycat (1995)"
      ]
     },
     "execution_count": 49,
     "metadata": {},
     "output_type": "execute_result"
    }
   ],
   "source": [
    "movies_df = pd.read_csv('ml-100k/u.item', sep='|', encoding='latin-1', header=None,\n",
    "                        names=['movieID', 'movieTitle'], usecols=[0, 1], index_col=False)\n",
    "movies_df.head()"
   ]
  },
  {
   "cell_type": "code",
   "execution_count": 50,
   "metadata": {},
   "outputs": [
    {
     "data": {
      "text/plain": [
       "(1682, 2)"
      ]
     },
     "execution_count": 50,
     "metadata": {},
     "output_type": "execute_result"
    }
   ],
   "source": [
    "movies_df.shape"
   ]
  },
  {
   "cell_type": "markdown",
   "metadata": {},
   "source": [
    "Selecting three random movies from the dataset for my task"
   ]
  },
  {
   "cell_type": "code",
   "execution_count": 51,
   "metadata": {},
   "outputs": [
    {
     "name": "stdout",
     "output_type": "stream",
     "text": [
      "When We Were Kings (1996)\n",
      "Á köldum klaka (Cold Fever) (1994)\n",
      "Jingle All the Way (1996)\n"
     ]
    }
   ],
   "source": [
    "select_random_movies = lambda df: df.sample(n=3, random_state=None)\n",
    "\n",
    "movie_1, movie_2, movie_3 = select_random_movies(movies_df).iloc[0], select_random_movies(movies_df).iloc[1], select_random_movies(movies_df).iloc[2]\n",
    "\n",
    "print(movie_1[\"movieTitle\"])\n",
    "print(movie_2[\"movieTitle\"])\n",
    "print(movie_3[\"movieTitle\"])"
   ]
  },
  {
   "cell_type": "markdown",
   "metadata": {},
   "source": [
    "Now we use the `item_cosine_recsys`"
   ]
  },
  {
   "cell_type": "code",
   "execution_count": 52,
   "metadata": {},
   "outputs": [],
   "source": [
    "item_cosine_recsys = SimBasedRecSys(base='item', method='cosine')\n",
    "item_cosine_recsys.predict_all(train_df, num_users, num_items)"
   ]
  },
  {
   "cell_type": "code",
   "execution_count": 53,
   "metadata": {},
   "outputs": [],
   "source": [
    "def get_top_5_similar_movies_by_id(movie_id, similarity_matrix, movies_df):\n",
    "    \"\"\"\n",
    "    Given a movie ID, print the top 5 most similar movie titles using the similarity matrix.\n",
    "    \"\"\"\n",
    "    index = movie_id - 1  # Adjust for 0-based index\n",
    "    similarity_scores = similarity_matrix[index]\n",
    "\n",
    "    # Exclude itself and get top 5 similar indices\n",
    "    top_indices = np.argsort(similarity_scores)[::-1]\n",
    "    top_indices = top_indices[top_indices != index][:5]\n",
    "\n",
    "    # Convert back to movieIDs\n",
    "    similar_movie_ids = top_indices + 1\n",
    "\n",
    "    # Fetch and print titles\n",
    "    similar_titles = movies_df[movies_df['movieID'].isin(similar_movie_ids)]['movieTitle'].tolist()\n",
    "    movie_title = movies_df.loc[movies_df['movieID'] == movie_id, 'movieTitle'].values[0]\n",
    "\n",
    "    print(f\"\\nTop 5 movies similar to \\\"{movie_title}\\\":\")\n",
    "    for title in similar_titles:\n",
    "        print(f\"  - {title}\")\n"
   ]
  },
  {
   "cell_type": "code",
   "execution_count": 54,
   "metadata": {},
   "outputs": [
    {
     "name": "stdout",
     "output_type": "stream",
     "text": [
      "\n",
      "Top 5 movies similar to \"When We Were Kings (1996)\":\n",
      "  - Grosse Pointe Blank (1997)\n",
      "  - Donnie Brasco (1997)\n",
      "  - Last Time I Committed Suicide, The (1997)\n",
      "  - Female Perversions (1996)\n",
      "  - Get on the Bus (1996)\n",
      "\n",
      "Top 5 movies similar to \"Á köldum klaka (Cold Fever) (1994)\":\n",
      "  - Collectionneuse, La (1967)\n",
      "  - Silence of the Palace, The (Saimt el Qusur) (1994)\n",
      "  - Etz Hadomim Tafus (Under the Domin Tree) (1994)\n",
      "  - Big One, The (1997)\n",
      "  - Spanish Prisoner, The (1997)\n",
      "\n",
      "Top 5 movies similar to \"Jingle All the Way (1996)\":\n",
      "  - Fair Game (1995)\n",
      "  - Open Season (1996)\n",
      "  - Girl in the Cadillac (1995)\n",
      "  - Tough and Deadly (1995)\n",
      "  - Mostro, Il (1994)\n"
     ]
    }
   ],
   "source": [
    "# Assuming movie_1, movie_2, movie_3 are Series rows with 'movieID' and 'title'\n",
    "item_similarity_matrix = item_cosine_recsys.getSimilarity()\n",
    "\n",
    "get_top_5_similar_movies_by_id(movie_1['movieID'], item_similarity_matrix, movies_df)\n",
    "get_top_5_similar_movies_by_id(movie_2['movieID'], item_similarity_matrix, movies_df)\n",
    "get_top_5_similar_movies_by_id(movie_3['movieID'], item_similarity_matrix, movies_df)\n"
   ]
  },
  {
   "attachments": {},
   "cell_type": "markdown",
   "metadata": {},
   "source": [
    "### (b) Can you justify these similarities? Why or why not? Consider that similarity is determined indirectly by users who rated both items"
   ]
  },
  {
   "cell_type": "markdown",
   "metadata": {},
   "source": [
    "I have given multiple runs and checked how my recomender works. Results of two of such runs are given below. If the movies were similar, I wrote **YES**, otherwise I wrote **NO**. \n",
    "\n",
    "I used my recomendor mupltiple times and saw sometimes it did good job but sometimes it failed horribly (e.g., the last movie given in iteration 2). I think such case of recomending both similar and dissimilar movies arise due to the fact that the movies similarity were calculated from the ratings of the users and it is quite possible that same user may have similarly rated movies from different genres or themes. So **it is absolutely appropiate for my recomendor to not recomend \"similar\" movies all the time because users do not always strictly cling to particular types of movies in real world scenario.**\n",
    "\n",
    "**Iteration 1:**\n",
    "\n",
    "Top 5 movies similar to \"Jackie Brown (1997)\":\n",
    "  - Good Will Hunting (1997) - **YES**\n",
    "  - L.A. Confidential (1997) **NO**\n",
    "  - Rainmaker, The (1997) **NO**\n",
    "  - Boogie Nights (1997) **YES**\n",
    "  - Wag the Dog (1997) **YES**\n",
    "\n",
    "Top 5 movies similar to \"Indian Summer (1996)\":\n",
    "  - Steel (1997) - **NO**\n",
    "  - Incognito (1997) - **NO**\n",
    "  - Career Girls (1997) - **YES**\n",
    "  - Smile Like Yours, A (1997) - **YES**\n",
    "  - All Over Me (1997) - **YES**\n",
    "\n",
    "Top 5 movies similar to \"Big Night (1996)\":\n",
    "  - Postino, Il (1994) - **YES**\n",
    "  - Cold Comfort Farm (1995) - **YES**\n",
    "  - Lone Star (1996) - **YES**\n",
    "  - Breaking the Waves (1996) - **YES**\n",
    "  - Secrets & Lies (1996) - **VERY VERY SIMILAR**\n",
    "\n",
    "  **Iteration 2:**\n",
    "\n",
    "Top 5 movies similar to \"Before the Rain (Pred dozhdot) (1994)\":\n",
    "  - Rendezvous in Paris (Rendez-vous de Paris, Les) (1995) **YES**\n",
    "  - Neon Bible, The (1995) **YES**\n",
    "  - Prisoner of the Mountains (Kavkazsky Plennik) (1996) **YES**\n",
    "  - Enfer, L' (1994) **YES**\n",
    "  - Cérémonie, La (1995) **YES**\n",
    "\n",
    "Top 5 movies similar to \"Other Voices, Other Rooms (1997)\": \n",
    "  - Mamma Roma (1962) **YES**\n",
    "  - Sunchaser, The (1996) **YES**\n",
    "  - War at Home, The (1996) **YES**\n",
    "  - Sweet Nothing (1995) **YES**\n",
    "  - Mat' i syn (1997) **YES**\n",
    "\n",
    "Top 5 movies similar to \"So Dear to My Heart (1949)\":\n",
    "  - Twilight (1998) **NO**\n",
    "  - Hungarian Fairy Tale, A (1987) **NO**\n",
    "  - Baton Rouge (1988) **NO**\n",
    "  - Liebelei (1933) **NO**\n",
    "  - Terror in a Texas Town (1958) **NO**\n"
   ]
  },
  {
   "attachments": {},
   "cell_type": "markdown",
   "metadata": {},
   "source": [
    "## Q6 Testing with different user types"
   ]
  },
  {
   "attachments": {},
   "cell_type": "markdown",
   "metadata": {},
   "source": [
    "### (a) \n",
    "Look at a histogram of the number of ratings per user. (Google for “scipy histogram”.) Pick a threshold τ that you believe divides users with few ratings and those with a moderate to large number of ratings. What τ did you choose? Evaluate the RMSE of user-user and item-item collaborative filtering, but in each of the following two cases testing on only users that meet the following criteria\n",
    "\n",
    "<ol type=\"i\">\n",
    "  <li>Above threshold τ of liked items</li>\n",
    "  <li>Below threshold τ of liked items</li>\n",
    "</ol>\n",
    "\n",
    "For each of user-user and item-item collaborative filtering, are there any differences between recommender performance for (i) and (ii)? Can you explain these differences (or the lack thereof)?"
   ]
  },
  {
   "cell_type": "code",
   "execution_count": 55,
   "metadata": {},
   "outputs": [
    {
     "name": "stdout",
     "output_type": "stream",
     "text": [
      "Requirement already satisfied: matplotlib in c:\\users\\chymd\\appdata\\local\\packages\\pythonsoftwarefoundation.python.3.11_qbz5n2kfra8p0\\localcache\\local-packages\\python311\\site-packages (3.10.3)\n",
      "Requirement already satisfied: contourpy>=1.0.1 in c:\\users\\chymd\\appdata\\local\\packages\\pythonsoftwarefoundation.python.3.11_qbz5n2kfra8p0\\localcache\\local-packages\\python311\\site-packages (from matplotlib) (1.3.2)\n",
      "Requirement already satisfied: cycler>=0.10 in c:\\users\\chymd\\appdata\\local\\packages\\pythonsoftwarefoundation.python.3.11_qbz5n2kfra8p0\\localcache\\local-packages\\python311\\site-packages (from matplotlib) (0.12.1)\n",
      "Requirement already satisfied: fonttools>=4.22.0 in c:\\users\\chymd\\appdata\\local\\packages\\pythonsoftwarefoundation.python.3.11_qbz5n2kfra8p0\\localcache\\local-packages\\python311\\site-packages (from matplotlib) (4.58.1)\n",
      "Requirement already satisfied: kiwisolver>=1.3.1 in c:\\users\\chymd\\appdata\\local\\packages\\pythonsoftwarefoundation.python.3.11_qbz5n2kfra8p0\\localcache\\local-packages\\python311\\site-packages (from matplotlib) (1.4.8)\n",
      "Requirement already satisfied: numpy>=1.23 in c:\\users\\chymd\\appdata\\local\\packages\\pythonsoftwarefoundation.python.3.11_qbz5n2kfra8p0\\localcache\\local-packages\\python311\\site-packages (from matplotlib) (2.2.6)\n",
      "Requirement already satisfied: packaging>=20.0 in c:\\users\\chymd\\appdata\\local\\packages\\pythonsoftwarefoundation.python.3.11_qbz5n2kfra8p0\\localcache\\local-packages\\python311\\site-packages (from matplotlib) (25.0)\n",
      "Requirement already satisfied: pillow>=8 in c:\\users\\chymd\\appdata\\local\\packages\\pythonsoftwarefoundation.python.3.11_qbz5n2kfra8p0\\localcache\\local-packages\\python311\\site-packages (from matplotlib) (11.2.1)\n",
      "Requirement already satisfied: pyparsing>=2.3.1 in c:\\users\\chymd\\appdata\\local\\packages\\pythonsoftwarefoundation.python.3.11_qbz5n2kfra8p0\\localcache\\local-packages\\python311\\site-packages (from matplotlib) (3.2.3)\n",
      "Requirement already satisfied: python-dateutil>=2.7 in c:\\users\\chymd\\appdata\\local\\packages\\pythonsoftwarefoundation.python.3.11_qbz5n2kfra8p0\\localcache\\local-packages\\python311\\site-packages (from matplotlib) (2.9.0.post0)\n",
      "Requirement already satisfied: six>=1.5 in c:\\users\\chymd\\appdata\\local\\packages\\pythonsoftwarefoundation.python.3.11_qbz5n2kfra8p0\\localcache\\local-packages\\python311\\site-packages (from python-dateutil>=2.7->matplotlib) (1.17.0)\n"
     ]
    },
    {
     "name": "stderr",
     "output_type": "stream",
     "text": [
      "\n",
      "[notice] A new release of pip is available: 24.0 -> 25.1.1\n",
      "[notice] To update, run: C:\\Users\\chymd\\AppData\\Local\\Microsoft\\WindowsApps\\PythonSoftwareFoundation.Python.3.11_qbz5n2kfra8p0\\python.exe -m pip install --upgrade pip\n"
     ]
    }
   ],
   "source": [
    "!pip install matplotlib"
   ]
  },
  {
   "cell_type": "code",
   "execution_count": 56,
   "metadata": {},
   "outputs": [
    {
     "data": {
      "text/html": [
       "<div>\n",
       "<style scoped>\n",
       "    .dataframe tbody tr th:only-of-type {\n",
       "        vertical-align: middle;\n",
       "    }\n",
       "\n",
       "    .dataframe tbody tr th {\n",
       "        vertical-align: top;\n",
       "    }\n",
       "\n",
       "    .dataframe thead th {\n",
       "        text-align: right;\n",
       "    }\n",
       "</style>\n",
       "<table border=\"1\" class=\"dataframe\">\n",
       "  <thead>\n",
       "    <tr style=\"text-align: right;\">\n",
       "      <th></th>\n",
       "      <th>userID</th>\n",
       "      <th>itemID</th>\n",
       "      <th>rating</th>\n",
       "      <th>timestamp</th>\n",
       "    </tr>\n",
       "  </thead>\n",
       "  <tbody>\n",
       "    <tr>\n",
       "      <th>0</th>\n",
       "      <td>196</td>\n",
       "      <td>242</td>\n",
       "      <td>3</td>\n",
       "      <td>881250949</td>\n",
       "    </tr>\n",
       "    <tr>\n",
       "      <th>1</th>\n",
       "      <td>186</td>\n",
       "      <td>302</td>\n",
       "      <td>3</td>\n",
       "      <td>891717742</td>\n",
       "    </tr>\n",
       "    <tr>\n",
       "      <th>2</th>\n",
       "      <td>22</td>\n",
       "      <td>377</td>\n",
       "      <td>1</td>\n",
       "      <td>878887116</td>\n",
       "    </tr>\n",
       "    <tr>\n",
       "      <th>3</th>\n",
       "      <td>244</td>\n",
       "      <td>51</td>\n",
       "      <td>2</td>\n",
       "      <td>880606923</td>\n",
       "    </tr>\n",
       "    <tr>\n",
       "      <th>4</th>\n",
       "      <td>166</td>\n",
       "      <td>346</td>\n",
       "      <td>1</td>\n",
       "      <td>886397596</td>\n",
       "    </tr>\n",
       "  </tbody>\n",
       "</table>\n",
       "</div>"
      ],
      "text/plain": [
       "   userID  itemID  rating  timestamp\n",
       "0     196     242       3  881250949\n",
       "1     186     302       3  891717742\n",
       "2      22     377       1  878887116\n",
       "3     244      51       2  880606923\n",
       "4     166     346       1  886397596"
      ]
     },
     "execution_count": 56,
     "metadata": {},
     "output_type": "execute_result"
    }
   ],
   "source": [
    "rating_df.head()"
   ]
  },
  {
   "cell_type": "code",
   "execution_count": 84,
   "metadata": {},
   "outputs": [
    {
     "data": {
      "text/plain": [
       "<matplotlib.legend.Legend at 0x1b3f05cae10>"
      ]
     },
     "execution_count": 84,
     "metadata": {},
     "output_type": "execute_result"
    },
    {
     "data": {
      "image/png": "[encoded data removed]",
      "text/plain": [
       "<Figure size 1200x500 with 1 Axes>"
      ]
     },
     "metadata": {},
     "output_type": "display_data"
    }
   ],
   "source": [
    "# Load the training data (using first fold as example)\n",
    "train_data = getData(MOVIELENS_DIR, 'u1.base')\n",
    "\n",
    "# Count ratings per user\n",
    "ratings_per_user = train_data['userID'].value_counts()\n",
    "rating_counts = ratings_per_user.values\n",
    "\n",
    "# Create histogram\n",
    "plt.figure(figsize=(12, 5))\n",
    "\n",
    "# Regular histogram\n",
    "plt.hist(rating_counts, bins=30, alpha=0.7, color='skyblue', edgecolor='black')\n",
    "plt.xlabel('Number of Ratings per User')\n",
    "plt.ylabel('Number of Users')\n",
    "plt.title('Distribution of Ratings per User')\n",
    "plt.grid(True, alpha=0.3)\n",
    "\n",
    "# Add vertical lines for statistics\n",
    "mean_ratings = np.mean(rating_counts)\n",
    "median_ratings = np.median(rating_counts)\n",
    "plt.axvline(mean_ratings, color='red', linestyle='--', linewidth=2, label=f'Mean: {mean_ratings:.1f}')\n",
    "plt.axvline(median_ratings, color='green', linestyle='--', linewidth=2, label=f'Median: {median_ratings:.1f}')\n",
    "plt.legend()"
   ]
  },
  {
   "cell_type": "markdown",
   "metadata": {},
   "source": [
    "I have calculated the `median value` $\\overline{x}$ which has precisely splitted my users in two halves based on how much activty they show. If I chose `50` as the threshold then it will be a `50/50` split. Based on my intuition, I will use  $\\tau=70$ just to not be in the perfect middle but at the same time reflect real user behaviour pattern. Using this threshold, I will sperate split users as **active/power/enthusiastic** users who are movie enthusiastic and **iinactive/ cassual users** who do not engange that much in the platform for movie rating. Also, this value will be less than my `mean value` $\\mu$. Thus, my choice follows the inequality: \n",
    "\n",
    "- $\\overline{x} < \\tau < \\mu$\n",
    "\n",
    "where $\\overline{x} = 50, \\tau = 70, \\mu = 84.8$\n",
    "\n",
    "Intuitively, my threshold of `70` means that users who have at least rated `70` movies or more are active/ power/ enthusiastic users and the rest are inactive/ cassual users."
   ]
  },
  {
   "cell_type": "code",
   "execution_count": 85,
   "metadata": {},
   "outputs": [
    {
     "name": "stdout",
     "output_type": "stream",
     "text": [
      "Threshold τ = 70\n",
      "Active/ power/ enthusiastic users (>70 ratings): 382 (40.5%)\n",
      "Inactive/ cassual users (≤70 ratings): 561 (59.5%)\n",
      "Total users: 943\n"
     ]
    }
   ],
   "source": [
    "# Setting up threshold and verify user split\n",
    "tau = 70\n",
    "\n",
    "# Load one fold to check the split\n",
    "train_data = getData(MOVIELENS_DIR, 'u1.base')\n",
    "ratings_per_user = train_data['userID'].value_counts()\n",
    "\n",
    "# Check split\n",
    "active_count = sum(ratings_per_user > tau)\n",
    "inactive_count = sum(ratings_per_user <= tau)\n",
    "\n",
    "print(f\"Threshold τ = {tau}\")\n",
    "print(f\"Active/ power/ enthusiastic users (>{tau} ratings): {active_count} ({active_count/943*100:.1f}%)\")\n",
    "print(f\"Inactive/ cassual users (≤{tau} ratings): {inactive_count} ({inactive_count/943*100:.1f}%)\")\n",
    "print(f\"Total users: {active_count + inactive_count}\")"
   ]
  },
  {
   "cell_type": "code",
   "execution_count": 86,
   "metadata": {},
   "outputs": [
    {
     "name": "stdout",
     "output_type": "stream",
     "text": [
      "Threshold τ = 70\n",
      "Active/ power/ enthusiastic users (>70 ratings): 382 (40.5%)\n",
      "Inactive/ cassual users (≤70 ratings): 561 (59.5%)\n",
      "Total users: 943\n"
     ]
    }
   ],
   "source": [
    "tau = 70\n",
    "\n",
    "# Load one fold to check the split\n",
    "train_data = getData(MOVIELENS_DIR, 'u1.base')\n",
    "ratings_per_user = train_data['userID'].value_counts()\n",
    "\n",
    "# Check split\n",
    "active_count = sum(ratings_per_user > tau)\n",
    "inactive_count = sum(ratings_per_user <= tau)\n",
    "total_users = train_data.userID.nunique()\n",
    "\n",
    "print(f\"Threshold τ = {tau}\")\n",
    "print(f\"Active/ power/ enthusiastic users (>{tau} ratings): {active_count} ({active_count/total_users*100:.1f}%)\")\n",
    "print(f\"Inactive/ cassual users (≤{tau} ratings): {inactive_count} ({inactive_count/total_users*100:.1f}%)\")\n",
    "\n",
    "if (active_count + inactive_count) == total_users:\n",
    "    print(f\"Total users: {active_count + inactive_count}\")"
   ]
  },
  {
   "cell_type": "markdown",
   "metadata": {},
   "source": [
    "As we can see, my threshold **selection has given me a `40/60` split on power user and cassual user**. I did this because power users are providing me a lot of ratings and even if I create a small group of them, I am confident that their ratings will still be very relevant compared to the larger group of cassual users who less frequently rate a movie. Again, **active/ power/ enthusiastic users are actively engaging with the platoform which makes me think that their information is more \"valuable\" compared with the cassual users.**"
   ]
  },
  {
   "cell_type": "code",
   "execution_count": 87,
   "metadata": {},
   "outputs": [
    {
     "name": "stdout",
     "output_type": "stream",
     "text": [
      "Helper functions created successfully!\n",
      "Split: 382 active, 561 inactive users\n"
     ]
    }
   ],
   "source": [
    "# Helper functions\n",
    "\n",
    "def get_user_activity_split(train_data, threshold):\n",
    "    \"\"\"Split users into active and inactive groups\"\"\"\n",
    "    ratings_per_user = train_data['userID'].value_counts()\n",
    "    \n",
    "    active_users = set(ratings_per_user[ratings_per_user > threshold].index)\n",
    "    inactive_users = set(ratings_per_user[ratings_per_user <= threshold].index)\n",
    "    \n",
    "    print(f\"Split: {len(active_users)} active, {len(inactive_users)} inactive users\")\n",
    "    return active_users, inactive_users\n",
    "\n",
    "def filter_test_by_users(test_data, user_set):\n",
    "    \"\"\"Filter test data to include only specified users\"\"\"\n",
    "    filtered_data = test_data[test_data['userID'].isin(user_set)].copy()\n",
    "    return filtered_data\n",
    "\n",
    "def calculate_rmse(predictions, true_col='rating', pred_col=None):\n",
    "    \"\"\"Calculate RMSE between predicted and true ratings\"\"\"\n",
    "    from math import sqrt\n",
    "    from sklearn.metrics import mean_squared_error\n",
    "    return sqrt(mean_squared_error(predictions[true_col], predictions[pred_col]))\n",
    "\n",
    "print(\"Helper functions created successfully!\")\n",
    "active_users, inactive_users = get_user_activity_split(train_data, tau)"
   ]
  },
  {
   "cell_type": "code",
   "execution_count": 88,
   "metadata": {},
   "outputs": [
    {
     "name": "stdout",
     "output_type": "stream",
     "text": [
      "Algorithms ready for evaluation:\n",
      "1. User-User CF: user-cosine\n",
      "2. Item-Item CF: item-cosine\n",
      "\n",
      "Dataset: 943 users, 1682 items\n",
      "Using threshold τ = 70\n"
     ]
    }
   ],
   "source": [
    "# Set up the collaborative filtering algorithms\n",
    "\n",
    "# Create the two CF recomendating systems\n",
    "user_cosine_recsys = SimBasedRecSys(base='user', method='cosine')\n",
    "item_cosine_recsys = SimBasedRecSys(base='item', method='cosine')\n",
    "\n",
    "# Store in a list for easy iteration\n",
    "algorithms = [user_cosine_recsys, item_cosine_recsys]\n",
    "algorithm_names = ['User-User CF', 'Item-Item CF']\n",
    "\n",
    "# Dataset parameters\n",
    "num_users = 943\n",
    "num_items = 1682\n",
    "\n",
    "print(\"Algorithms ready for evaluation:\")\n",
    "for i, alg in enumerate(algorithms):\n",
    "    print(f\"{i+1}. {algorithm_names[i]}: {alg.getPredColName()}\")\n",
    "\n",
    "print(f\"\\nDataset: {num_users} users, {num_items} items\")\n",
    "print(f\"Using threshold τ = {tau}\")"
   ]
  },
  {
   "cell_type": "markdown",
   "metadata": {},
   "source": [
    "**I did the RMSE calculation for 5 folds in the dataset as given**"
   ]
  },
  {
   "cell_type": "code",
   "execution_count": 90,
   "metadata": {},
   "outputs": [
    {
     "name": "stdout",
     "output_type": "stream",
     "text": [
      "Data loading complete:\n",
      " Loaded 5 folds for cross-validation\n",
      " Results storage initialized for 2 algorithms\n",
      "\n",
      "Ready to start evaluation\n"
     ]
    }
   ],
   "source": [
    "# Initialize results storage and load all folds\n",
    "\n",
    "# Results storage\n",
    "results = {\n",
    "    'user-cosine': {'active': [], 'inactive': []},\n",
    "    'item-cosine': {'active': [], 'inactive': []}\n",
    "}\n",
    "\n",
    "# Load 5 folds\n",
    "folds = []\n",
    "for i in range(1, 6):\n",
    "    train_data = getData(MOVIELENS_DIR, f'u{i}.base')\n",
    "    test_data = getData(MOVIELENS_DIR, f'u{i}.test')\n",
    "    folds.append((train_data, test_data))\n",
    "\n",
    "print(\"Data loading complete:\")\n",
    "print(f\" Loaded {len(folds)} folds for cross-validation\")\n",
    "print(f\" Results storage initialized for {len(algorithms)} algorithms\")\n",
    "print(\"\\nReady to start evaluation\")"
   ]
  },
  {
   "cell_type": "code",
   "execution_count": 93,
   "metadata": {},
   "outputs": [
    {
     "name": "stdout",
     "output_type": "stream",
     "text": [
      "Starting 5-fold cross-validation...\n",
      "-------------------------------------\n",
      "\n",
      " Fold 1/5:\n",
      "--------------------\n",
      "Split: 382 active, 561 inactive users\n",
      "Test data: 13511 active, 6489 inactive ratings\n",
      "\n",
      "  User-User CF:\n"
     ]
    },
    {
     "name": "stderr",
     "output_type": "stream",
     "text": [
      "13511it [00:01, 7288.47it/s]\n"
     ]
    },
    {
     "name": "stdout",
     "output_type": "stream",
     "text": [
      "    Active users RMSE:   1.0162\n"
     ]
    },
    {
     "name": "stderr",
     "output_type": "stream",
     "text": [
      "6489it [00:00, 8119.30it/s]\n"
     ]
    },
    {
     "name": "stdout",
     "output_type": "stream",
     "text": [
      "    Inactive users RMSE: 1.0474\n",
      "\n",
      "  Item-Item CF:\n"
     ]
    },
    {
     "name": "stderr",
     "output_type": "stream",
     "text": [
      "13511it [00:01, 8263.20it/s]\n"
     ]
    },
    {
     "name": "stdout",
     "output_type": "stream",
     "text": [
      "    Active users RMSE:   1.0248\n"
     ]
    },
    {
     "name": "stderr",
     "output_type": "stream",
     "text": [
      "6489it [00:00, 8343.53it/s]\n"
     ]
    },
    {
     "name": "stdout",
     "output_type": "stream",
     "text": [
      "    Inactive users RMSE: 1.0511\n",
      "\n",
      " Fold 2/5:\n",
      "--------------------\n",
      "Split: 392 active, 551 inactive users\n",
      "Test data: 14956 active, 5044 inactive ratings\n",
      "\n",
      "  User-User CF:\n"
     ]
    },
    {
     "name": "stderr",
     "output_type": "stream",
     "text": [
      "14956it [00:01, 8629.23it/s]\n"
     ]
    },
    {
     "name": "stdout",
     "output_type": "stream",
     "text": [
      "    Active users RMSE:   1.0104\n"
     ]
    },
    {
     "name": "stderr",
     "output_type": "stream",
     "text": [
      "5044it [00:00, 8593.46it/s]\n"
     ]
    },
    {
     "name": "stdout",
     "output_type": "stream",
     "text": [
      "    Inactive users RMSE: 1.0536\n",
      "\n",
      "  Item-Item CF:\n"
     ]
    },
    {
     "name": "stderr",
     "output_type": "stream",
     "text": [
      "14956it [00:01, 8429.21it/s]\n"
     ]
    },
    {
     "name": "stdout",
     "output_type": "stream",
     "text": [
      "    Active users RMSE:   1.0131\n"
     ]
    },
    {
     "name": "stderr",
     "output_type": "stream",
     "text": [
      "5044it [00:00, 8460.30it/s]\n"
     ]
    },
    {
     "name": "stdout",
     "output_type": "stream",
     "text": [
      "    Inactive users RMSE: 1.0284\n",
      "\n",
      " Fold 3/5:\n",
      "--------------------\n",
      "Split: 380 active, 563 inactive users\n",
      "Test data: 14343 active, 5657 inactive ratings\n",
      "\n",
      "  User-User CF:\n"
     ]
    },
    {
     "name": "stderr",
     "output_type": "stream",
     "text": [
      "14343it [00:01, 8871.26it/s]\n"
     ]
    },
    {
     "name": "stdout",
     "output_type": "stream",
     "text": [
      "    Active users RMSE:   1.0034\n"
     ]
    },
    {
     "name": "stderr",
     "output_type": "stream",
     "text": [
      "5657it [00:00, 9518.80it/s]\n"
     ]
    },
    {
     "name": "stdout",
     "output_type": "stream",
     "text": [
      "    Inactive users RMSE: 1.0379\n",
      "\n",
      "  Item-Item CF:\n"
     ]
    },
    {
     "name": "stderr",
     "output_type": "stream",
     "text": [
      "14343it [00:01, 9323.49it/s]\n"
     ]
    },
    {
     "name": "stdout",
     "output_type": "stream",
     "text": [
      "    Active users RMSE:   0.9904\n"
     ]
    },
    {
     "name": "stderr",
     "output_type": "stream",
     "text": [
      "5657it [00:00, 9032.10it/s]\n"
     ]
    },
    {
     "name": "stdout",
     "output_type": "stream",
     "text": [
      "    Inactive users RMSE: 1.0394\n",
      "\n",
      " Fold 4/5:\n",
      "--------------------\n",
      "Split: 373 active, 570 inactive users\n",
      "Test data: 14249 active, 5751 inactive ratings\n",
      "\n",
      "  User-User CF:\n"
     ]
    },
    {
     "name": "stderr",
     "output_type": "stream",
     "text": [
      "14249it [00:01, 9347.53it/s]\n"
     ]
    },
    {
     "name": "stdout",
     "output_type": "stream",
     "text": [
      "    Active users RMSE:   0.9992\n"
     ]
    },
    {
     "name": "stderr",
     "output_type": "stream",
     "text": [
      "5751it [00:00, 9623.37it/s]\n"
     ]
    },
    {
     "name": "stdout",
     "output_type": "stream",
     "text": [
      "    Inactive users RMSE: 1.0343\n",
      "\n",
      "  Item-Item CF:\n"
     ]
    },
    {
     "name": "stderr",
     "output_type": "stream",
     "text": [
      "14249it [00:01, 9019.35it/s]\n"
     ]
    },
    {
     "name": "stdout",
     "output_type": "stream",
     "text": [
      "    Active users RMSE:   0.9967\n"
     ]
    },
    {
     "name": "stderr",
     "output_type": "stream",
     "text": [
      "5751it [00:00, 8458.71it/s]\n"
     ]
    },
    {
     "name": "stdout",
     "output_type": "stream",
     "text": [
      "    Inactive users RMSE: 1.0420\n",
      "\n",
      " Fold 5/5:\n",
      "--------------------\n",
      "Split: 370 active, 573 inactive users\n",
      "Test data: 13061 active, 6939 inactive ratings\n",
      "\n",
      "  User-User CF:\n"
     ]
    },
    {
     "name": "stderr",
     "output_type": "stream",
     "text": [
      "13061it [00:01, 8193.12it/s]\n"
     ]
    },
    {
     "name": "stdout",
     "output_type": "stream",
     "text": [
      "    Active users RMSE:   1.0010\n"
     ]
    },
    {
     "name": "stderr",
     "output_type": "stream",
     "text": [
      "6939it [00:00, 8641.63it/s]\n"
     ]
    },
    {
     "name": "stdout",
     "output_type": "stream",
     "text": [
      "    Inactive users RMSE: 1.0442\n",
      "\n",
      "  Item-Item CF:\n"
     ]
    },
    {
     "name": "stderr",
     "output_type": "stream",
     "text": [
      "13061it [00:01, 9005.45it/s]\n"
     ]
    },
    {
     "name": "stdout",
     "output_type": "stream",
     "text": [
      "    Active users RMSE:   0.9997\n"
     ]
    },
    {
     "name": "stderr",
     "output_type": "stream",
     "text": [
      "6939it [00:00, 7345.35it/s]"
     ]
    },
    {
     "name": "stdout",
     "output_type": "stream",
     "text": [
      "    Inactive users RMSE: 1.0324\n",
      "\n",
      " Cross-validation completed!\n",
      "####################################\n"
     ]
    },
    {
     "name": "stderr",
     "output_type": "stream",
     "text": [
      "\n"
     ]
    }
   ],
   "source": [
    "# Run 5-fold cross-validation with chosen threshold of tau = 70\n",
    "\n",
    "print(\"Starting 5-fold cross-validation...\")\n",
    "print(\"-------------------------------------\")\n",
    "\n",
    "# Run evaluation for each fold\n",
    "for fold_idx, (train_data, test_data) in enumerate(folds):\n",
    "    print(f\"\\n Fold {fold_idx + 1}/5:\")\n",
    "    print(\"-\" * 20)\n",
    "    \n",
    "    # Split users by activity level based on training data\n",
    "    active_users, inactive_users = get_user_activity_split(train_data, tau)\n",
    "    \n",
    "    # Filter test data for each user group\n",
    "    test_active = filter_test_by_users(test_data, active_users)\n",
    "    test_inactive = filter_test_by_users(test_data, inactive_users)\n",
    "    \n",
    "    print(f\"Test data: {len(test_active)} active, {len(test_inactive)} inactive ratings\")\n",
    "    \n",
    "    # Evaluate each algorithm\n",
    "    for alg_idx, algorithm in enumerate(algorithms):\n",
    "        alg_name = algorithm_names[alg_idx]\n",
    "        print(f\"\\n  {alg_name}:\")\n",
    "        \n",
    "        # Reset and train the algorithm\n",
    "        algorithm.reset()\n",
    "        algorithm.predict_all(train_data, num_users, num_items)\n",
    "        \n",
    "        # Get prediction column name\n",
    "        pred_col = algorithm.getPredColName()\n",
    "        \n",
    "        # Evaluate on active users\n",
    "        if len(test_active) > 0:\n",
    "            predictions_active = algorithm.evaluate_test(test_active, copy=True)\n",
    "            rmse_active = calculate_rmse(predictions_active, pred_col=pred_col)\n",
    "            results[pred_col]['active'].append(rmse_active)\n",
    "            print(f\"    Active users RMSE:   {rmse_active:.4f}\")\n",
    "        \n",
    "        # Evaluate on inactive users\n",
    "        if len(test_inactive) > 0:\n",
    "            predictions_inactive = algorithm.evaluate_test(test_inactive, copy=True)\n",
    "            rmse_inactive = calculate_rmse(predictions_inactive, pred_col=pred_col)\n",
    "            results[pred_col]['inactive'].append(rmse_inactive)\n",
    "            print(f\"    Inactive users RMSE: {rmse_inactive:.4f}\")\n",
    "\n",
    "print(f\"\\n Cross-validation completed!\")\n",
    "print(\"####################################\")"
   ]
  },
  {
   "cell_type": "markdown",
   "metadata": {},
   "source": [
    "Now we check the difference and their significance"
   ]
  },
  {
   "cell_type": "code",
   "execution_count": 94,
   "metadata": {},
   "outputs": [
    {
     "name": "stdout",
     "output_type": "stream",
     "text": [
      "RMSE Results Summary:\n",
      "=========================\n",
      "\n",
      "USER-COSINE:\n",
      "----------------------------------------\n",
      "Active users (>70 ratings):\n",
      "  RMSE: 1.0060 (95% CI: 0.9972 - 1.0149)\n",
      "  Fold scores: ['1.0162', '1.0104', '1.0034', '0.9992', '1.0010']\n",
      "Inactive users (≤70 ratings):\n",
      "  RMSE: 1.0435 (95% CI: 1.0340 - 1.0530)\n",
      "  Fold scores: ['1.0474', '1.0536', '1.0379', '1.0343', '1.0442']\n",
      "\n",
      "  Difference (Active - Inactive): -0.0374\n",
      "  T-test p-value: 0.0000\n",
      "  Statistically significant difference (p < 0.05)\n",
      "\n",
      "ITEM-COSINE:\n",
      "----------------------------------------\n",
      "Active users (>70 ratings):\n",
      "  RMSE: 1.0050 (95% CI: 0.9877 - 1.0222)\n",
      "  Fold scores: ['1.0248', '1.0131', '0.9904', '0.9967', '0.9997']\n",
      "Inactive users (≤70 ratings):\n",
      "  RMSE: 1.0387 (95% CI: 1.0277 - 1.0496)\n",
      "  Fold scores: ['1.0511', '1.0284', '1.0394', '1.0420', '1.0324']\n",
      "\n",
      "  Difference (Active - Inactive): -0.0337\n",
      "  T-test p-value: 0.0018\n",
      "  Statistically significant difference (p < 0.05)\n",
      "\n",
      "#############################\n"
     ]
    }
   ],
   "source": [
    "# Calculate final statistics and analyze results\n",
    "\n",
    "from scipy import stats\n",
    "\n",
    "def calculate_stats(scores):\n",
    "    \"\"\"Calculate mean and 95% confidence interval\"\"\"\n",
    "    if not scores:\n",
    "        return None, None, None\n",
    "    \n",
    "    mean_score = np.mean(scores)\n",
    "    if len(scores) > 1:\n",
    "        ci_low, ci_high = stats.t.interval(0.95, len(scores)-1, \n",
    "                                          loc=mean_score, scale=stats.sem(scores))\n",
    "    else:\n",
    "        ci_low = ci_high = mean_score\n",
    "    \n",
    "    return mean_score, ci_low, ci_high\n",
    "\n",
    "print(\"RMSE Results Summary:\")\n",
    "print(\"=========================\")\n",
    "\n",
    "final_results = {}\n",
    "\n",
    "for alg_name, alg_results in results.items():\n",
    "    print(f\"\\n{alg_name.upper()}:\")\n",
    "    print(\"-\" * 40)\n",
    "    \n",
    "    final_results[alg_name] = {}\n",
    "    \n",
    "    # Active users\n",
    "    active_scores = alg_results['active']\n",
    "    active_mean, active_ci_low, active_ci_high = calculate_stats(active_scores)\n",
    "    \n",
    "    if active_mean is not None:\n",
    "        print(f\"Active users (>{tau} ratings):\")\n",
    "        print(f\"  RMSE: {active_mean:.4f} (95% CI: {active_ci_low:.4f} - {active_ci_high:.4f})\")\n",
    "        print(f\"  Fold scores: {[f'{score:.4f}' for score in active_scores]}\")\n",
    "        final_results[alg_name]['active'] = (active_mean, active_ci_low, active_ci_high, active_scores)\n",
    "    \n",
    "    # Inactive users  \n",
    "    inactive_scores = alg_results['inactive']\n",
    "    inactive_mean, inactive_ci_low, inactive_ci_high = calculate_stats(inactive_scores)\n",
    "    \n",
    "    if inactive_mean is not None:\n",
    "        print(f\"Inactive users (≤{tau} ratings):\")\n",
    "        print(f\"  RMSE: {inactive_mean:.4f} (95% CI: {inactive_ci_low:.4f} - {inactive_ci_high:.4f})\")\n",
    "        print(f\"  Fold scores: {[f'{score:.4f}' for score in inactive_scores]}\")\n",
    "        final_results[alg_name]['inactive'] = (inactive_mean, inactive_ci_low, inactive_ci_high, inactive_scores)\n",
    "    \n",
    "    # Calculate difference and statistical significance\n",
    "    if active_mean is not None and inactive_mean is not None:\n",
    "        difference = active_mean - inactive_mean\n",
    "        print(f\"\\n  Difference (Active - Inactive): {difference:.4f}\")\n",
    "        \n",
    "        if len(active_scores) > 1 and len(inactive_scores) > 1:\n",
    "            t_stat, p_value = stats.ttest_ind(active_scores, inactive_scores)\n",
    "            print(f\"  T-test p-value: {p_value:.4f}\")\n",
    "            if p_value < 0.05:\n",
    "                print(\"  Statistically significant difference (p < 0.05)\")\n",
    "            else:\n",
    "                print(\"  No statistically significant difference (p ≥ 0.05)\")\n",
    "\n",
    "print(\"\\n\" + \"#############################\")"
   ]
  },
  {
   "cell_type": "code",
   "execution_count": 95,
   "metadata": {},
   "outputs": [
    {
     "data": {
      "image/png": "[encoded data removed]",
      "text/plain": [
       "<Figure size 1200x800 with 1 Axes>"
      ]
     },
     "metadata": {},
     "output_type": "display_data"
    }
   ],
   "source": [
    "# Step 7: Visualization of the results\n",
    "# Prepare data for plotting\n",
    "algorithms_list = list(final_results.keys())\n",
    "active_means = []\n",
    "inactive_means = []\n",
    "active_errors = []\n",
    "inactive_errors = []\n",
    "\n",
    "for alg in algorithms_list:\n",
    "    # Active users data\n",
    "    active_mean, active_ci_low, active_ci_high, _ = final_results[alg]['active']\n",
    "    active_means.append(active_mean)\n",
    "    active_errors.append([active_mean - active_ci_low, active_ci_high - active_mean])\n",
    "    \n",
    "    # Inactive users data\n",
    "    inactive_mean, inactive_ci_low, inactive_ci_high, _ = final_results[alg]['inactive']\n",
    "    inactive_means.append(inactive_mean)\n",
    "    inactive_errors.append([inactive_mean - inactive_ci_low, inactive_ci_high - inactive_mean])\n",
    "\n",
    "# Create the comparison plot\n",
    "fig, ax = plt.subplots(figsize=(12, 8))\n",
    "\n",
    "x = np.arange(len(algorithms_list))\n",
    "width = 0.35\n",
    "\n",
    "# Convert error data for matplotlib\n",
    "active_errors = np.array(active_errors).T\n",
    "inactive_errors = np.array(inactive_errors).T\n",
    "\n",
    "# Create bar chart\n",
    "bars1 = ax.bar(x - width/2, active_means, width, label=f'Active Users (>{tau} ratings)', \n",
    "               yerr=active_errors, capsize=5, alpha=0.8, color='skyblue', edgecolor='black')\n",
    "bars2 = ax.bar(x + width/2, inactive_means, width, label=f'Inactive Users (≤{tau} ratings)', \n",
    "               yerr=inactive_errors, capsize=5, alpha=0.8, color='lightcoral', edgecolor='black')\n",
    "\n",
    "# Customize the plot\n",
    "ax.set_xlabel('CF Algorithms', fontsize=10)\n",
    "ax.set_ylabel('RMSE', fontsize=10)\n",
    "ax.set_title(f'RMSE Comparison: Active vs Inactive Users (τ = {tau})', fontsize=12)\n",
    "ax.set_xticks(x)\n",
    "ax.set_xticklabels(['User-User CF\\n(cosine)', 'Item-Item CF\\n(cosine)'])\n",
    "ax.legend(fontsize=11)\n",
    "ax.grid(True, alpha=0.3)\n",
    "\n",
    "# Add value labels on bars\n",
    "def add_value_labels(bars, values, errors):\n",
    "    for bar, value, error in zip(bars, values, errors.T):\n",
    "        height = bar.get_height()\n",
    "        ax.text(bar.get_x() + bar.get_width()/2., height + error[1] + 0.005,\n",
    "               f'{value:.3f}', ha='center', va='bottom', fontsize=10, fontweight='bold')\n",
    "\n",
    "add_value_labels(bars1, active_means, active_errors)\n",
    "add_value_labels(bars2, inactive_means, inactive_errors)\n",
    "\n",
    "plt.tight_layout()\n",
    "plt.show()"
   ]
  },
  {
   "cell_type": "code",
   "execution_count": 98,
   "metadata": {},
   "outputs": [
    {
     "name": "stdout",
     "output_type": "stream",
     "text": [
      "\n",
      "1 USER-COSINE:\n",
      "   Active users RMSE: 1.0060\n",
      "   Inactive users RMSE: 1.0435\n",
      "   Improvement/ reduction (if negative) for active users: 3.6%\n",
      "\n",
      "2 ITEM-COSINE:\n",
      "   Active users RMSE: 1.0050\n",
      "   Inactive users RMSE: 1.0387\n",
      "   Improvement/ reduction (if negative) for active users: 3.2%\n"
     ]
    }
   ],
   "source": [
    "# Print key findings summary\n",
    "\n",
    "for idx, alg in enumerate(algorithms_list, start=1):\n",
    "    active_mean = final_results[alg]['active'][0]\n",
    "    inactive_mean = final_results[alg]['inactive'][0]\n",
    "    improvement = ((inactive_mean - active_mean) / inactive_mean) * 100\n",
    "    \n",
    "    print(f\"\\n{idx} {alg.upper()}:\")\n",
    "    print(f\"   Active users RMSE: {active_mean:.4f}\")\n",
    "    print(f\"   Inactive users RMSE: {inactive_mean:.4f}\")\n",
    "    print(f\"   Improvement/ reduction (if negative) for active users: {improvement:.1f}%\")"
   ]
  },
  {
   "cell_type": "markdown",
   "metadata": {},
   "source": [
    "#### Conclusion of Q6\n",
    "Both our collaborative filtering approaches (`user-user`, `item-item`) demonstrate that user activity level significantly impacts recommendation and the information from active users yield lower RMSE score. This definately tempts me to come to the conclusion that users with richer interaction histories receive substantially better recommendations, with the effect being slightly more pronounced in user-based approaches due to their reliance on finding similar users. But we know that `RMSE` is not a reliable metric compared to the raking metrics (e.g., `P@K` or `R@K`) and it penalises the algorithm for every entries with equal importance rather than the top `k` reccoemndations and user's relevance. That is why we can not definitively give any verdict here."
   ]
  },
  {
   "attachments": {},
   "cell_type": "markdown",
   "metadata": {
    "collapsed": true,
    "jupyter": {
     "outputs_hidden": true
    }
   },
   "source": [
    "# Validation"
   ]
  },
  {
   "cell_type": "code",
   "execution_count": 68,
   "metadata": {},
   "outputs": [],
   "source": [
    "# Constants for validation only\n",
    "ROW_NUM = 943\n",
    "COL_NUM = 1682\n",
    "RATING_COL = 'rating'"
   ]
  },
  {
   "attachments": {},
   "cell_type": "markdown",
   "metadata": {},
   "source": [
    "### dataPreprocessor"
   ]
  },
  {
   "cell_type": "code",
   "execution_count": 69,
   "metadata": {},
   "outputs": [],
   "source": [
    "def validateDataPreprocessor(path=MOVIELENS_DIR, getData=getData, getMatrix=CrossValidation.getMatrix):\n",
    "    validation_df = getData(MOVIELENS_DIR, 'u1.test')\n",
    "    try:\n",
    "        matrix = getMatrix(validation_df, ROW_NUM, COL_NUM, RATING_COL)\n",
    "    except:\n",
    "        print('dataPreprocessor function has error')\n",
    "        return\n",
    "    try:\n",
    "        assert(matrix.shape == (ROW_NUM,COL_NUM)),\\\n",
    "        \"Shape of matrix{0} doesn't match predefined shape (943,1682)\".format(matrix.shape)\n",
    "    except Exception as e:\n",
    "        print(e)\n",
    "    return validation_df"
   ]
  },
  {
   "cell_type": "code",
   "execution_count": 70,
   "metadata": {},
   "outputs": [],
   "source": [
    "# validation_df = testDataPreprocessor()\n",
    "\n",
    "validation_df = validateDataPreprocessor()"
   ]
  },
  {
   "attachments": {},
   "cell_type": "markdown",
   "metadata": {},
   "source": [
    "## Baseline Recommendation Systems"
   ]
  },
  {
   "attachments": {},
   "cell_type": "markdown",
   "metadata": {},
   "source": [
    "### Popularity Based Recommendation"
   ]
  },
  {
   "cell_type": "code",
   "execution_count": 71,
   "metadata": {},
   "outputs": [],
   "source": [
    "def validatePopularityRecSys(validation_df=validation_df, BaseLineRecSys = BaseLineRecSys):\n",
    "    popularity_recsys = BaseLineRecSys('popularity')\n",
    "    try:\n",
    "        popularity_recsys.predict_all(validation_df, ROW_NUM, COL_NUM)\n",
    "    except Exception as e:        \n",
    "        print('popularity function has error')\n",
    "        print(e)\n",
    "        return\n",
    "    try:\n",
    "        predictionMatrix = popularity_recsys.getModel()\n",
    "        assert(predictionMatrix.shape == (ROW_NUM, COL_NUM)),\\\n",
    "        \"Shape of matrix{0} doesn't match predefined shape ({1},{2})\"\\\n",
    "        .format(predictionMatrix.shape,ROW_NUM, COL_NUM)\n",
    "    except Exception as e:\n",
    "        print(e)"
   ]
  },
  {
   "cell_type": "code",
   "execution_count": 72,
   "metadata": {},
   "outputs": [
    {
     "name": "stdout",
     "output_type": "stream",
     "text": [
      "calculated 0 users\n",
      "calculated 100 users\n",
      "calculated 200 users\n",
      "calculated 300 users\n",
      "calculated 400 users\n",
      "calculated 500 users\n",
      "calculated 600 users\n",
      "calculated 700 users\n",
      "calculated 800 users\n",
      "calculated 900 users\n",
      "Max item popularity score: 1.0\n"
     ]
    }
   ],
   "source": [
    "# testPopularityRecSys()\n",
    "\n",
    "validatePopularityRecSys(validation_df)"
   ]
  },
  {
   "attachments": {},
   "cell_type": "markdown",
   "metadata": {},
   "source": [
    "### User Average Based Recommendation"
   ]
  },
  {
   "cell_type": "code",
   "execution_count": 73,
   "metadata": {},
   "outputs": [],
   "source": [
    "def validateUserAverRecSys(validation_df=validation_df, BaseLineRecSys = BaseLineRecSys):\n",
    "    useraverage_recsys = BaseLineRecSys('useraverage')\n",
    "    try:\n",
    "        useraverage_recsys.predict_all(validation_df, ROW_NUM, COL_NUM)\n",
    "    except:\n",
    "        print('useraverage function has error')\n",
    "        return\n",
    "    try:\n",
    "        predictionMatrix = useraverage_recsys.getModel()\n",
    "        assert(predictionMatrix.shape == (ROW_NUM, COL_NUM)),\\\n",
    "        \"Shape of matrix{0} doesn't match predefined shape ({1},{2})\"\\\n",
    "        .format(predictionMatrix.shape,ROW_NUM, COL_NUM)\n",
    "    except Exception as e:\n",
    "        print(e)"
   ]
  },
  {
   "cell_type": "code",
   "execution_count": 74,
   "metadata": {},
   "outputs": [
    {
     "data": {
      "text/plain": [
       "<function __main__.validateUserAverRecSys(validation_df=       userID  itemID  rating  timestamp\n",
       "0           1       6       5  887431973\n",
       "1           1      10       3  875693118\n",
       "2           1      12       5  878542960\n",
       "3           1      14       5  874965706\n",
       "4           1      17       3  875073198\n",
       "...       ...     ...     ...        ...\n",
       "19995     458     648       4  886395899\n",
       "19996     458    1101       4  886397931\n",
       "19997     459     934       3  879563639\n",
       "19998     460      10       3  882912371\n",
       "19999     462     682       5  886365231\n",
       "\n",
       "[20000 rows x 4 columns], BaseLineRecSys=<class '__main__.BaseLineRecSys'>)>"
      ]
     },
     "execution_count": 74,
     "metadata": {},
     "output_type": "execute_result"
    }
   ],
   "source": [
    "# testPopularityRecSys()\n",
    "\n",
    "validateUserAverRecSys"
   ]
  },
  {
   "attachments": {},
   "cell_type": "markdown",
   "metadata": {},
   "source": [
    "## Similary Based Recommendation Systems"
   ]
  },
  {
   "attachments": {},
   "cell_type": "markdown",
   "metadata": {},
   "source": [
    "### Euclidean Similarity Function"
   ]
  },
  {
   "cell_type": "code",
   "execution_count": 75,
   "metadata": {},
   "outputs": [],
   "source": [
    "def validateEuclidean(validation_df=validation_df, getMatrix=CrossValidation.getMatrix):\n",
    "    matrix = getMatrix(validation_df, ROW_NUM, COL_NUM, RATING_COL)\n",
    "    try:\n",
    "        sim_matrix = SimBasedRecSys.euclidean(matrix)\n",
    "        assert(sim_matrix.shape == (ROW_NUM, ROW_NUM)),\\\n",
    "        \"Shape of matrix{0} doesn't match predefined shape ({1},{2})\"\\\n",
    "        .format(sim_matrix.shape,ROW_NUM,ROW_NUM)\n",
    "        assert(np.any(sim_matrix <= 1)),\\\n",
    "               \"Exist similarity value that is not less or equal to 1.\"\n",
    "    except Exception as e:\n",
    "        print(e)        "
   ]
  },
  {
   "cell_type": "code",
   "execution_count": 76,
   "metadata": {},
   "outputs": [
    {
     "data": {
      "text/plain": [
       "<function __main__.validateEuclidean(validation_df=       userID  itemID  rating  timestamp\n",
       "0           1       6       5  887431973\n",
       "1           1      10       3  875693118\n",
       "2           1      12       5  878542960\n",
       "3           1      14       5  874965706\n",
       "4           1      17       3  875073198\n",
       "...       ...     ...     ...        ...\n",
       "19995     458     648       4  886395899\n",
       "19996     458    1101       4  886397931\n",
       "19997     459     934       3  879563639\n",
       "19998     460      10       3  882912371\n",
       "19999     462     682       5  886365231\n",
       "\n",
       "[20000 rows x 4 columns], getMatrix=<function CrossValidation.getMatrix at 0x000001B3F051CE00>)>"
      ]
     },
     "execution_count": 76,
     "metadata": {},
     "output_type": "execute_result"
    }
   ],
   "source": [
    "# testEuclidean()\n",
    "\n",
    "validateEuclidean"
   ]
  },
  {
   "attachments": {},
   "cell_type": "markdown",
   "metadata": {},
   "source": [
    "### Customized Similarity Function (test somethingelse function)"
   ]
  },
  {
   "cell_type": "code",
   "execution_count": 77,
   "metadata": {},
   "outputs": [],
   "source": [
    "def validateCustomizedSim(validation_df=validation_df, getMatrix=CrossValidation.getMatrix):\n",
    "    matrix = getMatrix(validation_df, ROW_NUM, COL_NUM, RATING_COL)\n",
    "    try:\n",
    "        sim_matrix = SimBasedRecSys.somethingelse(matrix)\n",
    "        assert(sim_matrix.shape == (ROW_NUM, ROW_NUM)),\\\n",
    "        \"Shape of matrix{0} doesn't match predefined shape ({1},{2})\"\\\n",
    "        .format(sim_matrix.shape,ROW_NUM,ROW_NUM)\n",
    "        assert(np.any(sim_matrix <= 1)),\\\n",
    "               \"Exist similarity value that is not less or equal to 1.\"\n",
    "    except Exception as e:\n",
    "        print(e) "
   ]
  },
  {
   "cell_type": "code",
   "execution_count": 78,
   "metadata": {},
   "outputs": [
    {
     "data": {
      "text/plain": [
       "<function __main__.validateCustomizedSim(validation_df=       userID  itemID  rating  timestamp\n",
       "0           1       6       5  887431973\n",
       "1           1      10       3  875693118\n",
       "2           1      12       5  878542960\n",
       "3           1      14       5  874965706\n",
       "4           1      17       3  875073198\n",
       "...       ...     ...     ...        ...\n",
       "19995     458     648       4  886395899\n",
       "19996     458    1101       4  886397931\n",
       "19997     459     934       3  879563639\n",
       "19998     460      10       3  882912371\n",
       "19999     462     682       5  886365231\n",
       "\n",
       "[20000 rows x 4 columns], getMatrix=<function CrossValidation.getMatrix at 0x000001B3F051CE00>)>"
      ]
     },
     "execution_count": 78,
     "metadata": {},
     "output_type": "execute_result"
    }
   ],
   "source": [
    "# testCustomizedSim()\n",
    "\n",
    "validateCustomizedSim"
   ]
  },
  {
   "attachments": {},
   "cell_type": "markdown",
   "metadata": {},
   "source": [
    "### User-User Similarity Based Recommendation System"
   ]
  },
  {
   "cell_type": "code",
   "execution_count": 79,
   "metadata": {},
   "outputs": [],
   "source": [
    "def validateUUSimBasedRecSys(validation_df=validation_df, dataPreprocessor=dataPreprocessor):\n",
    "    try:\n",
    "        user_cosine_recsys = SimBasedRecSys('user','cosine', dataPreprocessor)\n",
    "    except:\n",
    "        print(\"Framework error, please make sure you are using given yml file.\")\n",
    "        return\n",
    "    \n",
    "    try:\n",
    "        user_cosine_recsys.predict_all(validation_df, ROW_NUM, COL_NUM)\n",
    "        predictionMatrix = user_cosine_recsys.getModel()\n",
    "        assert(predictionMatrix.shape == (ROW_NUM, COL_NUM)),\\\n",
    "        \"Shape of matrix{0} doesn't match predefined shape ({1},{2})\"\\\n",
    "        .format(predictionMatrix.shape,ROW_NUM, COL_NUM)\n",
    "    except Exception as e:\n",
    "        print(e)"
   ]
  },
  {
   "cell_type": "code",
   "execution_count": 80,
   "metadata": {},
   "outputs": [
    {
     "data": {
      "text/plain": [
       "<function __main__.validateUUSimBasedRecSys(validation_df=       userID  itemID  rating  timestamp\n",
       "0           1       6       5  887431973\n",
       "1           1      10       3  875693118\n",
       "2           1      12       5  878542960\n",
       "3           1      14       5  874965706\n",
       "4           1      17       3  875073198\n",
       "...       ...     ...     ...        ...\n",
       "19995     458     648       4  886395899\n",
       "19996     458    1101       4  886397931\n",
       "19997     459     934       3  879563639\n",
       "19998     460      10       3  882912371\n",
       "19999     462     682       5  886365231\n",
       "\n",
       "[20000 rows x 4 columns], dataPreprocessor=<function dataPreprocessor at 0x000001B3F051E160>)>"
      ]
     },
     "execution_count": 80,
     "metadata": {},
     "output_type": "execute_result"
    }
   ],
   "source": [
    "# testUUSimBasedRecSys()\n",
    "\n",
    "validateUUSimBasedRecSys"
   ]
  },
  {
   "attachments": {},
   "cell_type": "markdown",
   "metadata": {},
   "source": [
    "### Item-Item Similarity Based Recommendation System"
   ]
  },
  {
   "cell_type": "code",
   "execution_count": 81,
   "metadata": {},
   "outputs": [],
   "source": [
    "def validateIISimBasedRecSys(validation_df=validation_df, dataPreprocessor=dataPreprocessor):\n",
    "    try:\n",
    "        user_cosine_recsys = SimBasedRecSys('item','cosine', dataPreprocessor)\n",
    "    except:\n",
    "        print(\"Framework error, please make sure you are using given yml file.\")\n",
    "        return\n",
    "    \n",
    "    try:\n",
    "        user_cosine_recsys.predict_all(validation_df, ROW_NUM, COL_NUM)\n",
    "        predictionMatrix = user_cosine_recsys.getModel()\n",
    "        assert(predictionMatrix.shape == (ROW_NUM, COL_NUM)),\\\n",
    "        \"Shape of matrix{0} doesn't match predefined shape ({1},{2})\"\\\n",
    "        .format(predictionMatrix.shape,ROW_NUM, COL_NUM)\n",
    "    except Exception as e:\n",
    "        print(e)"
   ]
  },
  {
   "cell_type": "code",
   "execution_count": 82,
   "metadata": {},
   "outputs": [
    {
     "data": {
      "text/plain": [
       "<function __main__.validateIISimBasedRecSys(validation_df=       userID  itemID  rating  timestamp\n",
       "0           1       6       5  887431973\n",
       "1           1      10       3  875693118\n",
       "2           1      12       5  878542960\n",
       "3           1      14       5  874965706\n",
       "4           1      17       3  875073198\n",
       "...       ...     ...     ...        ...\n",
       "19995     458     648       4  886395899\n",
       "19996     458    1101       4  886397931\n",
       "19997     459     934       3  879563639\n",
       "19998     460      10       3  882912371\n",
       "19999     462     682       5  886365231\n",
       "\n",
       "[20000 rows x 4 columns], dataPreprocessor=<function dataPreprocessor at 0x000001B3F051E160>)>"
      ]
     },
     "execution_count": 82,
     "metadata": {},
     "output_type": "execute_result"
    }
   ],
   "source": [
    "# testIISimBasedRecSys()\n",
    "\n",
    "validateIISimBasedRecSys"
   ]
  }
 ],
 "metadata": {
  "kernelspec": {
   "display_name": "base",
   "language": "python",
   "name": "python3"
  },
  "language_info": {
   "codemirror_mode": {
    "name": "ipython",
    "version": 3
   },
   "file_extension": ".py",
   "mimetype": "text/x-python",
   "name": "python",
   "nbconvert_exporter": "python",
   "pygments_lexer": "ipython3",
   "version": "3.12.7"
  }
 },
 "nbformat": 4,
 "nbformat_minor": 4
}
